{
 "cells": [
  {
   "cell_type": "raw",
   "metadata": {},
   "source": [
    "Title: On the periodic-plus-smooth decomposition of an image, part 1: introduction\n",
    "Date: 2018-02-12\n",
    "Category: Image analysis"
   ]
  },
  {
   "cell_type": "markdown",
   "metadata": {},
   "source": [
    "In this new series, we will explore the so-called *periodic-plus-smooth*\n",
    "decomposition of an image, introduced by Moisan in 2011. This series is largely\n",
    "based on Moisan's paper, called [Periodic plus Smooth Image\n",
    "Decomposition](https://doi.org/10.1007/s10851-010-0227-1) (the author's version\n",
    "can be found on [HAL](https://hal.archives-ouvertes.fr/hal-00388020)). Besides\n",
    "introducing a quite smart technique (that I do use for real materials science\n",
    "applications), this series will be an opportunity to discuss an important topic:\n",
    "how to test the implementation of an algorithm, and be confident that the test\n",
    "actually validates the implementation.\n",
    "\n",
    "To do so, we will first define the periodic-plus-smooth decomposition as a\n",
    "minimization problem. This will lead to a first implementation of this\n",
    "decomposition: the objective function is quadratic, and the minimization problem\n",
    "therefore merely reduces to a linear system. However, this system is large (the\n",
    "number of unknowns is the number of pixels!). We will therefore use matrix-free\n",
    "techniques.\n",
    "\n",
    "This first – quite inefficient – implementation will then serve as a reference\n",
    "implementation of the decomposition, for testing purposes.  Indeed, Moisan\n",
    "showed that the minimization problem he introduced could in fact be explicitely\n",
    "solved in Fourier space. He proposed two efficient algorithms to compute the\n",
    "decomposition. Both rely, of course, on the FFT. We will implement one of these\n",
    "and test it against the reference implementation.\n",
    "\n",
    "This is a series in seven parts, organized as follows:\n",
    "\n",
    "<<<toc.md.in>>>\n",
    "\n",
    "That's a lot of work! So, without further ado, let's start introducing this\n",
    "decomposition!\n",
    "\n",
    "## The need for periodic images\n",
    "\n",
    "Let us start by briefly discussing what *is* a periodic image, and why we would\n",
    "ever need one. Loosely speaking, an image is periodic if placing copies of the\n",
    "same image on a 2×2 grid can be done (almost) seamlessly. Remember that an image\n",
    "is defined for a *discrete* set of pixels, and that the pixel values themselves\n",
    "are also *discrete*.  Therefore, it is not possible to refer to the\n",
    "[continuity](https://en.wikipedia.org/wiki/Continuous_function) of an image,\n",
    "which explains why it is difficult to define periodic images more precisely.\n",
    "\n",
    "It is actually easier to verify that an image is *not* periodic. Let us consider\n",
    "the following image as an example (see [Fig. 1](#fig01))."
   ]
  },
  {
   "cell_type": "raw",
   "metadata": {},
   "source": [
    "<a name=\"fig01\"></a>\n",
    "![The original image]({static}On_the_periodic-plus-smooth_decomposition_of_an_image/hut-648x364.png){.figure}\n",
    "\n",
    "<figcaption>Figure&nbsp;1:&nbsp;The original image.</figcaption>"
   ]
  },
  {
   "cell_type": "markdown",
   "metadata": {},
   "source": [
    "Instead of putting aside 4 copies of the same image, we can simply swap the\n",
    "quadrants, as shown in [Fig. 2](#fig02). Alternatively, you could also ask my\n",
    "three-year old daughter if her hut is periodic ;-). In [Fig. 2](#fig02), the\n",
    "four corners certainly do *not* join seamlessly at the center, which is a sure\n",
    "indication that the image is not periodic."
   ]
  },
  {
   "cell_type": "raw",
   "metadata": {},
   "source": [
    "<a name=\"fig02\"></a>\n",
    "![The original image with swapped quadrants.]({static}On_the_periodic-plus-smooth_decomposition_of_an_image/hut-648x364-fftshift.png){.figure}\n",
    "\n",
    "<figcaption>Figure&nbsp;2:&nbsp;The original image shown in <a\n",
    "href=\"#fig01\">Fig.&nbsp;1</a>, with swapped quadrants.</figcaption>"
   ]
  },
  {
   "cell_type": "markdown",
   "metadata": {},
   "source": [
    "It should be noted that the image shown in [Fig. 2](#fig02) is readily produced\n",
    "with the\n",
    "[numpy.fft.fftshift](https://docs.scipy.org/doc/numpy-1.13.0/reference/generated/numpy.fft.fftshift.html#numpy-fft-fftshift)\n",
    "function, as illustrated by the following code snippet"
   ]
  },
  {
   "cell_type": "code",
   "execution_count": 1,
   "metadata": {},
   "outputs": [],
   "source": [
    "import numpy as np\n",
    "\n",
    "from skimage.io import imread, imsave\n",
    "\n",
    "DATA_DIR = \"./\"\n",
    "\n",
    "u = imread(DATA_DIR+'hut-648x364.png')\n",
    "imsave(DATA_DIR+'hut-648x364-fftshift.png', np.fft.fftshift(u))"
   ]
  },
  {
   "cell_type": "markdown",
   "metadata": {},
   "source": [
    "Why would this lack of periodicity be a problem? Well, many image analysis\n",
    "techniques rely on the [fast Fourier\n",
    "transform](https://en.wikipedia.org/wiki/Fast_Fourier_transform) (FFT) for\n",
    "efficiency. In turn, the discrete Fourier transform implicitely assumes that the\n",
    "data is periodic; otherwise, artifacts can result. An archetypal example is the\n",
    "power spectrum of an image (we shall come back to this specific issue in a\n",
    "dedicated series). The power spectrum of [Fig. 1](#fig01) is displayed in\n",
    "[Fig. 3](#fig03) below; the following code snippet was executed to produce this\n",
    "image."
   ]
  },
  {
   "cell_type": "code",
   "execution_count": 2,
   "metadata": {},
   "outputs": [],
   "source": [
    "u_dft = np.fft.fft2(u)\n",
    "u_ps = np.abs(np.fft.fftshift(u_dft))**2\n",
    "a = np.log10(u_ps)\n",
    "a_min, a_max = np.min(a), np.max(a)\n",
    "a = 255*(a-a_min)/(a_max-a_min)\n",
    "\n",
    "imsave(DATA_DIR+'hut-648x364-power_spectrum.png', a.astype(np.uint8))"
   ]
  },
  {
   "cell_type": "raw",
   "metadata": {},
   "source": [
    "<a name=\"fig03\"></a>\n",
    "![Power spectrum]({static}On_the_periodic-plus-smooth_decomposition_of_an_image/hut-648x364-power_spectrum.png){.figure}\n",
    "\n",
    "<figcaption>Figure&nbsp;3:&nbsp;The power spectrum of the image shown in <a href=\"#fig01\">Fig.&nbsp;1</a>.</figcaption>"
   ]
  },
  {
   "cell_type": "markdown",
   "metadata": {},
   "source": [
    "In [Fig. 3](#fig03), the bright cross at the center is the signature of the\n",
    "jumps across the boundaries of the image. Indeed, remember that discontinuities\n",
    "at large correlation lengths translate to oscillations at low frequencies (the\n",
    "center of the power spectrum image).\n",
    "\n",
    "## Periodization by symmetrization\n",
    "\n",
    "Of course, it is possible to enforce periodicity by tiling together 4 mirror\n",
    "images of the same initial image as follows (see figure [Fig. 4](#fig04))"
   ]
  },
  {
   "cell_type": "code",
   "execution_count": 3,
   "metadata": {},
   "outputs": [],
   "source": [
    "m, n = u.shape\n",
    "left, right = slice(0, m), slice(2*m-1, m-1, -1)\n",
    "top, bottom = slice(0, n), slice(2*n-1, n-1, -1)\n",
    "u_mirrored = np.zeros((2*m, 2*n), dtype=u.dtype)\n",
    "u_mirrored[left, bottom] = u\n",
    "u_mirrored[right, bottom] = u\n",
    "u_mirrored[left, top] = u\n",
    "u_mirrored[right, top] = u\n",
    "imsave(DATA_DIR+'hut-648x364-mirrored.png', u_mirrored)"
   ]
  },
  {
   "cell_type": "raw",
   "metadata": {},
   "source": [
    "<a name=\"fig04\"></a>\n",
    "![Periodization by symmetrization]({static}On_the_periodic-plus-smooth_decomposition_of_an_image/hut-648x364-mirrored.png){.figure}\n",
    "\n",
    "<figcaption>Figure&nbsp;4:&nbsp;Periodization by symmetrization of the image shown in <a href=\"#fig01\">Fig.&nbsp;1</a>.</figcaption>"
   ]
  },
  {
   "cell_type": "markdown",
   "metadata": {},
   "source": [
    "The resulting power spectrum (computed with the code snippet below) is shown in\n",
    "[Fig. 5](#fig05). It is observed that symmetrization does not remove entirely\n",
    "the cross at the center of the power spectrum.  Worse, “it makes the DFT\n",
    "symmetric and real-valued, which can be dramatic if the phase component of the\n",
    "Fourier transform has to be analyzed, or if orientation issues are concerned”\n",
    "([Moisan, 2011](https://doi.org/10.1007/s10851-010-0227-1)). This led Moisan to\n",
    "introduce the *periodic-plus-smooth* decomposition."
   ]
  },
  {
   "cell_type": "code",
   "execution_count": 5,
   "metadata": {},
   "outputs": [],
   "source": [
    "a = np.abs(np.fft.fftshift(np.fft.fft2(u_mirrored)))**2\n",
    "a[a==0.0]=1.0\n",
    "a = np.log10(a)\n",
    "a_min, a_max = np.min(a), np.max(a)\n",
    "a = 255*(a-a_min)/(a_max-a_min)\n",
    "\n",
    "imsave(DATA_DIR+'hut-648x364-mirrored-power_spectrum.png', a.astype(np.uint8))"
   ]
  },
  {
   "cell_type": "raw",
   "metadata": {},
   "source": [
    "<a name=\"fig05\"></a>\n",
    "![Power spectrum]({static}On_the_periodic-plus-smooth_decomposition_of_an_image/hut-648x364-mirrored-power_spectrum.png){.figure}\n",
    "\n",
    "<figcaption>Figure&nbsp;5:&nbsp;The power spectrum of the image shown in <a href=\"#fig04\">Fig.&nbsp;4</a>.</figcaption>"
   ]
  },
  {
   "cell_type": "markdown",
   "metadata": {},
   "source": [
    "## Conclusion\n",
    "\n",
    "In this post, we set the stage for the subsequent instalments of this series,\n",
    "arguing that it is sometimes desirable that an image should be periodic. In the\n",
    "[next\n",
    "instalment]({filename}20180219-On_the_periodic-plus-smooth_decomposition_of_an_image-02.md)\n",
    "of this series, we will define the *periodic-plus-smooth* decomposition of\n",
    "Moisan ([2011](https://doi.org/10.1007/s10851-010-0227-1)). We will then turn to\n",
    "the implementation of this decomposition."
   ]
  }
 ],
 "metadata": {
  "kernelspec": {
   "display_name": "Python 3",
   "language": "python",
   "name": "python3"
  },
  "language_info": {
   "codemirror_mode": {
    "name": "ipython",
    "version": 3
   },
   "file_extension": ".py",
   "mimetype": "text/x-python",
   "name": "python",
   "nbconvert_exporter": "python",
   "pygments_lexer": "ipython3",
   "version": "3.7.5"
  }
 },
 "nbformat": 4,
 "nbformat_minor": 2
}
