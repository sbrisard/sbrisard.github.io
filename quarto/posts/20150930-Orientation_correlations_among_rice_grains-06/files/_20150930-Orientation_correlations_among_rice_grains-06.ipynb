{
 "cells": [
  {
   "cell_type": "raw",
   "metadata": {},
   "source": [
    "Title: Orientation correlations among rice grains, part 6: segmentation\n",
    "Date: 2015-09-30\n",
    "Category: Image analysis"
   ]
  },
  {
   "cell_type": "markdown",
   "metadata": {},
   "source": [
    "In the [previous\n",
    "instalment]({filename}20150709-Orientation_correlations_among_rice_grains-05.md)\n",
    "of this series, I showed that a convincing binary image could be produced from\n",
    "the gray level 3D reconstruction of the assembly of rice grains, using Otsu's\n",
    "threshold. However, I intend to carry out statistical analyses of the *grains*\n",
    "themselves in the subsequent instalments. Therefore, instead of a binary image\n",
    "of the rice grains, what is really needed is a *labelled* image, where all\n",
    "voxels which are thought to belong to the same rice grain are tagged with the\n",
    "same label.  This is called *segmentation*, which is the topic of the present\n",
    "post. I will first show that the most basic segmentation technique (namely,\n",
    "*detecting connected components* in the image) fails in the present case. This\n",
    "calls for a more elaborate strategy, based on the widely popular\n",
    "[watershed](https://en.wikipedia.org/wiki/Watershed_%28image_processing%29)\n",
    "method. However, [blind application](#watershed_blind) of the standard watershed\n",
    "strategy leads to over-segmentation. This post will therefore close on a\n",
    "[problem-dependent strategy](#watershed-directional_erosion) better suited to\n",
    "the present case."
   ]
  },
  {
   "cell_type": "markdown",
   "metadata": {},
   "source": [
    "Before we start, let me mention a book-keeping issue. Up to the previous post,\n",
    "2D slices of the 3D image were stored in separate `*.tif` files, which is rather\n",
    "tedious to load and solve. From now on, I will store all analyses in a `*.hdf5`\n",
    "file. I am by no means an expert on this great file format (see\n",
    "[website](https://www.hdfgroup.org/HDF5/)), but what I like about it is"
   ]
  },
  {
   "cell_type": "markdown",
   "metadata": {},
   "source": [
    "1.  it is language-agnostic,\n",
    "2.  it is platform- (and architecture-) independent: no indianness problem,\n",
    "3.  several arrays can be stored in the *same* file,\n",
    "4.  comments can be attached to a dataset."
   ]
  },
  {
   "cell_type": "markdown",
   "metadata": {},
   "source": [
    "The following code snippet\n",
    "([download]({static}20150930-Orientation_correlations_among_rice_grains-06/tif2hdf5.py))\n",
    "converts the binary `*.tif` images into a single `*.hdf5` file. It uses the\n",
    "[h5py](http://www.h5py.org/) library; [PyTables](http://www.pytables.org/) is\n",
    "another option."
   ]
  },
  {
   "cell_type": "markdown",
   "metadata": {},
   "source": [
    "```python\n",
    "<<<tif2hdf5.py>>>\n",
    "```"
   ]
  },
  {
   "cell_type": "markdown",
   "metadata": {},
   "source": [
    "Now, on to segmentation!"
   ]
  },
  {
   "cell_type": "markdown",
   "metadata": {},
   "source": [
    "## Detecting connected components"
   ]
  },
  {
   "cell_type": "markdown",
   "metadata": {},
   "source": [
    "This is probably the most simple segmentation technique. In this approach, a\n",
    "*feature* is defined as a connected component of the image. Let's be honnest: it\n",
    "rarely works on real-life images, because most of the times, distinct objects\n",
    "usually touch, and therefore appear as connected. [Fig. 1](#fig01) shows that\n",
    "our 3D image is no exception to this rule!"
   ]
  },
  {
   "cell_type": "raw",
   "metadata": {},
   "source": [
    "<a name=\"fig01\"></a>\n",
    "![Connected components of the assembly of rice grains]({static}20150930-Orientation_correlations_among_rice_grains-06/binary.png){.figure}\n",
    "\n",
    "<figcaption>Figure 1: A slice of the binary image. Clearly, some rice grains are\n",
    "connected. In other words, detecting connected components is not a suitable\n",
    "strategy for the segmentation of rice grains.</figcaption>"
   ]
  },
  {
   "cell_type": "markdown",
   "metadata": {},
   "source": [
    "So, we should expect no miracle from this approach. However, it is interesting\n",
    "to show how easy it is to identify the connected components of an image, using\n",
    "the `scipy.ndimage` module\n",
    "([documentation](http://docs.scipy.org/doc/scipy/reference/ndimage.html)), in\n",
    "particular the `scipy.ndimage.label` function\n",
    "([documentation](http://docs.scipy.org/doc/scipy/reference/generated/scipy.ndimage.measurements.label.html#scipy-ndimage-measurements-label)).\n",
    "Note the use of `np.ones((3, 3, 3))` as a structuring element, meaning\n",
    "26-connectivity."
   ]
  },
  {
   "cell_type": "raw",
   "metadata": {},
   "source": [
    "```python\n",
    "<<<connected_components.py>>>\n",
    "```"
   ]
  },
  {
   "cell_type": "markdown",
   "metadata": {},
   "source": [
    "The above code snippet\n",
    "([download]({static}20150930-Orientation_correlations_among_rice_grains-06/connected_components.py))\n",
    "detects 117 connected components, and produces the following colored image (one\n",
    "color per label), see [Fig. 2](#fig02). Unsurprisingly, all grains are connected\n",
    "on this slice, and we have produced a very poor segmentation indeed!"
   ]
  },
  {
   "cell_type": "raw",
   "metadata": {},
   "source": [
    "<a name=\"fig02\"></a>\n",
    "![Connected components]({static}20150930-Orientation_correlations_among_rice_grains-06/connected_components.png){.figure}\n",
    "\n",
    "<figcaption>Figure&nbsp;2:&nbsp;All rice grains of the slice shown on <a href=\"#fig01\">Fig.&nbsp;1</a> are connected!</figcaption>"
   ]
  },
  {
   "cell_type": "markdown",
   "metadata": {},
   "source": [
    "To close this section, it should be noted that the last lines of the above\n",
    "script produce a color image where each label receives a random color. Standard\n",
    "color maps are indeed ill-suited to visualization of labelled images. Indeed,\n",
    "these color maps are most of the times smooth, which means that close labels are\n",
    "barely distinguishable. This is undesirable, since neighbouring features usually\n",
    "get close labels."
   ]
  },
  {
   "cell_type": "markdown",
   "metadata": {},
   "source": [
    "Also note the use of [advanced\n",
    "indexing](http://docs.scipy.org/doc/numpy/reference/arrays.indexing.html#indexing)\n",
    "of the Numpy arrays (`colors[labels[index]]`)... Python and Numpy rock!"
   ]
  },
  {
   "cell_type": "markdown",
   "metadata": {},
   "source": [
    "<a name=\"watershed_blind\"></a>\n",
    "## Watershed segmentation, blind application"
   ]
  },
  {
   "cell_type": "markdown",
   "metadata": {},
   "source": [
    "The watershed segmentation is a very popular technique to segment overlapping\n",
    "objects. Describing this technique is out of the scope of this post. Suffice it\n",
    "to say that watershed segmentation is a three-step process"
   ]
  },
  {
   "cell_type": "markdown",
   "metadata": {},
   "source": [
    "1. compute the *topography* of the image (usually, a gradient map or the\n",
    "   opposite of the distance map to the background),\n",
    "2. select seeds,\n",
    "3. grow connected region from seeds."
   ]
  },
  {
   "cell_type": "markdown",
   "metadata": {},
   "source": [
    "The second step is the critical one, since each seed results in exactly one\n",
    "feature in the segmented image. Too many seeds result in an oversegmented image\n",
    "(grains are split), while too little seeds result in an under-segmented image\n",
    "(grains are merged)."
   ]
  },
  {
   "cell_type": "markdown",
   "metadata": {},
   "source": [
    "While tedious, manual seeding is probably your best choice (as argued by\n",
    "[Emmanuelle\n",
    "Gouillart](http://emmanuelle.github.io/a-tutorial-on-segmentation.html#semi-supervised-approach-segmenting-the-image-from-user-defined-markers)).\n",
    "There are about 2000 rice grains in the 3D image we are working with, so this\n",
    "semi-supervised approach is unfortunately not an option for us."
   ]
  },
  {
   "cell_type": "markdown",
   "metadata": {},
   "source": [
    "The standard unsupervised seeding technique consists in selecting the local\n",
    "maxima of the map of the distance to the background. The opposite of the\n",
    "distance map is then used as topography. This is essentially what the script\n",
    "below does\n",
    "([download]({static}20150930-Orientation_correlations_among_rice_grains-06/watershed-distance_local_max.py)).\n",
    "It draws heavily on the example from the\n",
    "[scikit-image](http://scikit-image.org/docs/dev/api/skimage.morphology.html#watershed)\n",
    "documentation."
   ]
  },
  {
   "cell_type": "raw",
   "metadata": {},
   "source": [
    "```python\n",
    "<<<watershed-distance_local_max.py>>>\n",
    "```"
   ]
  },
  {
   "cell_type": "markdown",
   "metadata": {},
   "source": [
    "The result of this operation is shown on [Fig. 3](#fig03), where\n",
    "over-segmentation is observed. The reason for this is very simple, and typical\n",
    "of elongated objects: there are several local maxima of the distance map in each\n",
    "grain (see [Fig. 4](#fig04)), resulting in too many seeds."
   ]
  },
  {
   "cell_type": "raw",
   "metadata": {},
   "source": [
    "<a name=\"fig03\"></a>\n",
    "![Watershed\n",
    "segmentation]({static}20150930-Orientation_correlations_among_rice_grains-06/watershed-distance_local_max.png){.figure}\n",
    "\n",
    "<figcaption>Figure 3: The result of watershed segmentation using local maxima of\n",
    "the map of the distance to the background as seeds. Clearly, over-segmentation\n",
    "occurs, which is typical with elongated objects.</figcaption>"
   ]
  },
  {
   "cell_type": "raw",
   "metadata": {},
   "source": [
    "<a name=\"fig04\"></a>\n",
    "![Distance map]({static}20150930-Orientation_correlations_among_rice_grains-06/distance.png){.figure}\n",
    "\n",
    "<figcaption>Figure 4: The map of the distance to the background. There are\n",
    "several local maxima in each grain.</figcaption>"
   ]
  },
  {
   "cell_type": "markdown",
   "metadata": {},
   "source": [
    "One possible response would be to use so-called *vertical filters* ([Tariel et\n",
    "al., 2008](https://doi.org/10.5566/ias.v27.p23-28)). I used here a more\n",
    "intuitive approach by providing a `min_distance` parameter to the\n",
    "[scikit-image](http://scikit-image.org/) `peak_local_max`\n",
    "([documentation](http://scikit-image.org/docs/stable/api/skimage.feature.html#peak-local-max))\n",
    "function. The selected value (namely, 10 px) corresponds to the typical\n",
    "equatorial radius of the rice grains (as manually measured on the binary\n",
    "images). This indeed reduces over-segmentation, but does not solve the problem\n",
    "completely."
   ]
  },
  {
   "cell_type": "markdown",
   "metadata": {},
   "source": [
    "In the next section, we will see how a problem dependent solution can be\n",
    "proposed."
   ]
  },
  {
   "cell_type": "markdown",
   "metadata": {},
   "source": [
    "<a name=\"watershed-directional_erosion\"></a>\n",
    "## Watershed segmentation with directional erosion"
   ]
  },
  {
   "cell_type": "markdown",
   "metadata": {},
   "source": [
    "In the [previous section](#watershed_blind), over-segmentation occured because\n",
    "of the anisotropy of the objects. In other words, had the grains been nearly\n",
    "spherical, then we would have produced a very convincing segmentation with the\n",
    "above method."
   ]
  },
  {
   "cell_type": "markdown",
   "metadata": {},
   "source": [
    "The grains are elongated: this is a fact. Instead of ignoring it (at the cost of\n",
    "over-segmentation), we should take this important piece of information into\n",
    "account in the seeding process. In the present section I propose to erode the\n",
    "binary image with elongated structuring elements.  Only those grains which have\n",
    "roughly the same orientation as the structuring element will remain. If we vary\n",
    "the orientation of the structuring element, we should be able to seed each\n",
    "grain."
   ]
  },
  {
   "cell_type": "markdown",
   "metadata": {},
   "source": [
    "The proposed procedure is summarized below."
   ]
  },
  {
   "cell_type": "markdown",
   "metadata": {},
   "source": [
    "1. Generate a set of orientations: we will use the vertices of an icosahedron,\n",
    "   which give 20 orientations, uniformly distributed on the unit sphere.\n",
    "2. Generate the corresponding ellipsoidal structuring elements, using the class\n",
    "   `Spheroid`, defined\n",
    "   [here]({static}20150930-Orientation_correlations_among_rice_grains-06/spheroid.py).\n",
    "   I will not comment this module in the present post (I might make it the topic\n",
    "   of a future post!). Suffice it to say that the aspect ratio of the\n",
    "   structuring element is close to that of the actual rice grains. The\n",
    "   structuring element should be neither too small, nor too large. I (manually)\n",
    "   selected an equatorial radius of 3.5 px, and a polar radius of 9.5 px.\n",
    "3. Generate 20 eroded images.\n",
    "4. Evaluate the OR combination of the 20 eroded images.\n",
    "5. Identify the connected components of the combined eroded images.\n",
    "6. Use these connected components to seed the watershed process."
   ]
  },
  {
   "cell_type": "markdown",
   "metadata": {},
   "source": [
    "The resulting script is very simple\n",
    "([download]({static}20150930-Orientation_correlations_among_rice_grains-06/watershed-directional_erosion.py))."
   ]
  },
  {
   "cell_type": "raw",
   "metadata": {},
   "source": [
    "```python\n",
    "<<<watershed-directional_erosion.py>>>\n",
    "```"
   ]
  },
  {
   "cell_type": "markdown",
   "metadata": {},
   "source": [
    "It identifies 2362 seeds (instead of 2672 in the previous approach). The\n",
    "resulting segmentation is shown in [Fig. 5](#fig05). It can be seen that we\n",
    "almost got rid of over-segmentation."
   ]
  },
  {
   "cell_type": "raw",
   "metadata": {},
   "source": [
    "<a name=\"fig05\"></a>\n",
    "![Directional erosion]({static}20150930-Orientation_correlations_among_rice_grains-06/watershed-directional_erosion.png){.figure}\n",
    "\n",
    "<figcaption>Figure 5: The result of watershed segmentation using directional erosions of the map of the distance to the background as seeds. Very little over-segmentation is observed.</figcaption>"
   ]
  },
  {
   "cell_type": "markdown",
   "metadata": {},
   "source": [
    "## Conclusion"
   ]
  },
  {
   "cell_type": "markdown",
   "metadata": {},
   "source": [
    "In an image analysis pipeline, segmentation is notoriously the critical step of\n",
    "the process.\n",
    "[Watershed](https://en.wikipedia.org/wiki/Watershed_%28image_processing%29) is a\n",
    "very efficient technique, which requires careful seeding. For anisotropic\n",
    "object, ad-hoc techniques have to be adopted. In the present blog, I showed how\n",
    "some simple [mathematical\n",
    "morphology](https://en.wikipedia.org/wiki/Mathematical_morphology) operations\n",
    "could be used to produce a satisfactory set of seeds. It should be noted however\n",
    "that the reason why the proposed approach works so well is that rice grains are\n",
    "nearly spheroidal. In other words, correctly seeding the watershed process is\n",
    "highly problem dependent!"
   ]
  },
  {
   "cell_type": "markdown",
   "metadata": {},
   "source": [
    "In the [next\n",
    "instalment]({filename}20160219-Orientation_correlations_among_rice_grains-07.md)\n",
    "of this series, I will show how to analyse the shape and orientation of each\n",
    "individual grain."
   ]
  }
 ],
 "metadata": {
  "kernelspec": {
   "display_name": "Python 3",
   "language": "python",
   "name": "python3"
  },
  "language_info": {
   "codemirror_mode": {
    "name": "ipython",
    "version": 3
   },
   "file_extension": ".py",
   "mimetype": "text/x-python",
   "name": "python",
   "nbconvert_exporter": "python",
   "pygments_lexer": "ipython3",
   "version": "3.7.5"
  }
 },
 "nbformat": 4,
 "nbformat_minor": 2
}
