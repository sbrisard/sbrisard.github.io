{
 "cells": [
  {
   "cell_type": "raw",
   "id": "ec576270-9784-4c2a-9a0e-28a7ecd463a0",
   "metadata": {},
   "source": [
    "---\n",
    "title: \"Symbolic analysis of a spring mesh\"\n",
    "author: \"Sébastien Brisard\"\n",
    "date: \"2021-05-13\"\n",
    "number-sections: true\n",
    "crossref:\n",
    "  sec-prefix: \"\"\n",
    "---"
   ]
  },
  {
   "cell_type": "markdown",
   "id": "0cf882da-0500-4429-900f-73f24cb5ddde",
   "metadata": {},
   "source": [
    "In this post, we compute symbolic expressions of the apparent stiffness introduced in [this post](../20210509-What_is_homogenization-05). Our goal is to find the solution to the general problem depicted below."
   ]
  },
  {
   "cell_type": "markdown",
   "id": "e1884dd6-4cf5-49ae-a1d4-66288495b8d5",
   "metadata": {},
   "source": [
    "# Outline of the derivation\n",
    "\n",
    "We consider a simplified case, where the mesh is square and vertical and horizontal springs have equal stiffnesses. We use the same symbols an in the [previous post](../20210509-What_is_homogenization-05). In particular, the stiffness of the diagonal springs is $k$, while the stiffness of the horizontal and vertical springs is $\\chi k$ ($\\chi$: dimensionless parameter).\n",
    "\n",
    "To compute the solution to this problem, we use a displacement-based approach relying on the minimization of the total potential energy, $\\Pi$. This energy is the difference between the strain energy, $\\mathcal U$ and the potential of external forces, $\\mathcal V$. Both $\\mathcal U$ and $\\mathcal V$ are functions of the nodal displacements, that must satisfy the essential boundary conditions. The numerous symmetries will also allow us to reduce the number of unknowns.\n",
    "\n",
    "Note for the impatients: you can jump to the summary at the bottom of this post (see section @sec-20250520203239).\n",
    "\n",
    "The derivation is carried out with the [Sympy](https://www.sympy.org) library, that we first import. Note that we will also use the [NumPy](https://numpy.org/) library to build arrays of Sympy expressions and use vectorized operations."
   ]
  },
  {
   "cell_type": "code",
   "execution_count": 1,
   "id": "85f33c1a-1a09-4efc-ad31-f1b9da7f8d6b",
   "metadata": {},
   "outputs": [],
   "source": [
    "import numpy as np\n",
    "import sympy"
   ]
  },
  {
   "cell_type": "markdown",
   "id": "dc577544-ca42-4916-9613-dd88c9839d91",
   "metadata": {},
   "source": [
    "We define a few common symbols, to be used in all subsequent derivations."
   ]
  },
  {
   "cell_type": "code",
   "execution_count": 2,
   "id": "fc43ce5d-be8f-40a1-b5cc-76261094144b",
   "metadata": {},
   "outputs": [],
   "source": [
    "Q = sympy.Symbol(\"Q\")  # intensity of the nodal forces\n",
    "\n",
    "χ = sympy.Symbol(\"chi\")\n",
    "χx = χ  # relative stiffness of the horizontal springs\n",
    "χy = χ  # relative stiffness of the vertical springs\n",
    "\n",
    "k = sympy.Symbol(\"k\")  # stiffness of diagonal springs\n",
    "kx = χx * k  # stiffness of the horizontal springs\n",
    "ky = χy * k  # stiffness of the vertical springs"
   ]
  },
  {
   "cell_type": "markdown",
   "id": "fac45254-719c-4f42-8032-8713b27f6650",
   "metadata": {},
   "source": [
    "We also define the unit vectors that give the directions of each spring."
   ]
  },
  {
   "cell_type": "code",
   "execution_count": 3,
   "id": "7407bbcc-6c34-469b-989b-61048215f2f8",
   "metadata": {},
   "outputs": [],
   "source": [
    "θ = sympy.pi / 4\n",
    "one = sympy.Number(1)\n",
    "zero = sympy.Number(0)\n",
    "\n",
    "e1 = np.array([one, zero])  # direction of horizontal springs\n",
    "e2 = np.array([zero, one])  # direction of vertical springs\n",
    "d1 = np.array([sympy.cos(θ), sympy.sin(θ)])  # direction of diagonal springs (/)\n",
    "d2 = np.array([-sympy.cos(θ), sympy.sin(θ)])  # direction of diagonal springs (\\)"
   ]
  },
  {
   "cell_type": "markdown",
   "id": "19c3db1c-311c-4d76-b47e-0c5cd5abc61d",
   "metadata": {},
   "source": [
    "We now define a few general functions to evaluate the potential energy of the system. These functions take an array `u` of nodal displacements as an input. More precisely, `u[i, j, 0]` and `u[i, j, 1]` are the horizontal and vertical components of the displacement of the node that is located at `(x = i⋅Δx, y = j⋅Δy)`.\n",
    "\n",
    "## Strain energy\n",
    "\n",
    "In a previous post, we derived [the stiffness matrix of a linear spring](../20201125-On_the_stiffness_matrix_of_a_linear_spring). This expression is used in the present post to evaluate the strain energy $\\mathcal U$ as the sum of the contributions of all springs\n",
    "\n",
    "$$\n",
    "\\mathcal U=\\sum_{i, j, k, l}\\tfrac{1}{2} \\, k_{ij,kl}\\bigl[\\bigl(\\vec u_{ij}-\\vec u_{kl}\\bigr)\\cdot\\vec n_{ij,kl}\\bigr]^2,$$\n",
    "\n",
    "where the sum runs over all pairs of nodes $(i, j)$ and $(k, l)$ that are connected by a spring, $k_{ij, kl}$ is the stiffness of the spring that connects node $(i, j)$ to node $(k, l)$ and $\\vec n_{ij, kl}$ is its direction (unit vector). Finally, $\\vec u_{ij}$ and $\\vec u_{kl}$ are the nodal displacements. The above formula is implemented as follows."
   ]
  },
  {
   "cell_type": "code",
   "execution_count": 4,
   "id": "27c5d08e-4117-4074-82ff-9f294f557af8",
   "metadata": {},
   "outputs": [],
   "source": [
    "def strain_energy(u):\n",
    "    N = u.shape[0] - 1\n",
    "    U = zero\n",
    "    for x in range(N + 1):\n",
    "        for y in range(N + 1):\n",
    "            # Horizontal springs\n",
    "            if x < N:\n",
    "                U += kx / 2 * (e1.dot(u[x + 1, y] - u[x, y])) ** 2\n",
    "            # Vertical springs\n",
    "            if y < N:\n",
    "                U += ky / 2 * (e2.dot(u[x, y + 1] - u[x, y])) ** 2\n",
    "            if (x < N) and (y < N):\n",
    "                U += k / 2 * (d1.dot(u[x + 1, y + 1] - u[x, y])) ** 2\n",
    "                U += k / 2 * (d2.dot(u[x, y + 1] - u[x + 1, y])) ** 2\n",
    "    return U"
   ]
  },
  {
   "cell_type": "markdown",
   "id": "86856bf4-ddd1-49b6-9971-81409cc29175",
   "metadata": {},
   "source": [
    "## Potential of external forces\n",
    "\n",
    "The potential of external forces is the following sum\n",
    "\n",
    "$$\\mathcal V=\\sum_{i, j}\\vec Q_{ij}\\cdot\\vec u_{ij},$$\n",
    "\n",
    "where the sum runs over all nodes $(i, j)$ that are loaded and $\\vec Q_{ij}$ is the applied nodal force. In the present case, only nodes on the left and right boundaries are loaded\n",
    "\n",
    "$$\\mathcal V=\\sum_{j=0}^{\\mathcal N_y}w_j \\, Q \\, \\vec e_x\\cdot\\bigl(\\vec u_{N_x, j}-\\vec u_{0, j}\\bigr),$$\n",
    "\n",
    "where $w_0=w_{\\mathcal N_y}=\\frac12$ and $w_1=\\cdots=w_{\\mathcal N_y-1}=1$."
   ]
  },
  {
   "cell_type": "code",
   "execution_count": 5,
   "id": "fd382987-158f-4b56-90a9-57cc93408de8",
   "metadata": {},
   "outputs": [],
   "source": [
    "def potential_external_forces(u):\n",
    "    N = u.shape[0] - 1\n",
    "    V = (u[-1, 0, 0] + u[-1, -1, 0] - u[0, 0, 0] - u[0, -1, 0]) / 2\n",
    "    for y in range(1, N):\n",
    "        V += u[-1, y, 0] - u[0, y, 0]\n",
    "    V *= Q\n",
    "    return V"
   ]
  },
  {
   "cell_type": "markdown",
   "id": "7a6274ca-719f-49bf-ae1e-aa7b3f2b421a",
   "metadata": {},
   "source": [
    "## Potential energy\n",
    "\n",
    "Minimization of the potential energy $\\Pi=\\mathcal U-\\mathcal V$ with respect to the unknown nodal displacements then delivers the solution."
   ]
  },
  {
   "cell_type": "code",
   "execution_count": 6,
   "id": "fa59fa25-7d94-4c58-a192-10157ee8e59f",
   "metadata": {},
   "outputs": [],
   "source": [
    "def potential_energy(u):\n",
    "    U = strain_energy(u)\n",
    "    V = potential_external_forces(u)\n",
    "    return U - V"
   ]
  },
  {
   "cell_type": "markdown",
   "id": "3f723ff2-87e7-4765-a708-1e47aa05b225",
   "metadata": {},
   "source": [
    "## Apparent stiffness\n",
    "\n",
    "The apparent stiffness was defined in the post that introduced [the representative volume element](../20201208-What_is_homogenization-04). It is computed as the following ratio\n",
    "$$\\tilde{A}_x^\\text{app}=\\frac{\\langle N_{xx}\\rangle}{\\langle\\varepsilon_{xx}\\rangle}$$\n",
    "where the macroscopic strain $\\langle\\varepsilon_{xx}\\rangle$ reads\n",
    "\n",
    "$$\\langle\\varepsilon_{xx}\\rangle=\\frac1{\\mathcal N_x\\mathcal N_y\\Delta x}\\sum_{j=0}^{\\mathcal N_y}w_j\\vec e_x⋅\\bigl(\\vec u_{\\mathcal N_x,j}-\\vec u_{0, j}\\bigr).$$\n",
    "\n",
    "Comparison with the potential of external forces delivers the following convenient expression\n",
    "\n",
    "$$\\langle\\varepsilon_{xx}\\rangle=\\frac{\\mathcal V}{Q\\mathcal N_x\\mathcal N_y\\Delta x}.$$\n",
    "\n",
    "The macroscopic membrane stress $\\langle N_{xx}\\rangle$ is given by\n",
    "\n",
    "$$\\langle N_{xx}\\rangle=\\frac Q{\\Delta y},$$\n",
    "\n",
    "which finally leads to the expression\n",
    "\n",
    "$$\\tilde{A}_x^\\text{app}\n",
    "=\\mathcal N_x\\mathcal N_y\\frac{\\Delta x}{\\Delta y}\\frac{Q^2}{\\mathcal V}\n",
    "=\\frac{\\mathcal N_x\\mathcal N_y}{\\tan\\theta}\\frac{Q^2}{\\mathcal V}.$$"
   ]
  },
  {
   "cell_type": "code",
   "execution_count": 7,
   "id": "7aa18242-b495-423a-8c0d-76076eab2f51",
   "metadata": {},
   "outputs": [],
   "source": [
    "def apparent_stiffness(u):\n",
    "    Nx, Ny = u.shape[0] - 1, u.shape[1] - 1\n",
    "    return Nx * Ny / sympy.tan(θ) * Q ** 2 / potential_external_forces(u)"
   ]
  },
  {
   "cell_type": "markdown",
   "id": "37d0f138-3d65-48a8-95c4-6f666394ad29",
   "metadata": {},
   "source": [
    "The above functions are used in the sections below to compute the solution for 1×1, 2×2 and 3×3 systems.\n",
    "\n",
    "# The case of a 1×1 system\n",
    "\n",
    "Owing to the numerous symmetries of the system, the displacements of all nodes is fully defined from that of node $A$ (see below).\n",
    "\n",
    "![The 1×1 system](../What_is_homogenization-files/uniaxial_tension-1x1.png){width=60%}\n",
    "\n",
    "Indeed, we have\n",
    "\n",
    "$$u_{A_1} = -u_A,\\quad v_{A_1}=v_A,$$\n",
    "$$u_{A_2} = -u_A,\\quad v_{A_2}=-v_A,$$\n",
    "$$u_{A_3} = u_A,\\quad v_{A_3}=-v_A,$$\n",
    "\n",
    "where $u_M$ (resp. $v_M$) denotes the horizontal (resp. vertical) displacement of node $M$.\n",
    "\n",
    "The main unknowns are therefore $u_A$ and $v_A$.\n"
   ]
  },
  {
   "cell_type": "code",
   "execution_count": 8,
   "id": "561b8948-25da-418c-9ec9-ee2a0ac38733",
   "metadata": {},
   "outputs": [],
   "source": [
    "uA, vA = dofs = sympy.symbols(\"u_A, v_A\")"
   ]
  },
  {
   "cell_type": "markdown",
   "id": "d1a095ef-3b20-4262-b1eb-6c353f5c53e9",
   "metadata": {},
   "source": [
    "The array of all nodal displacements is populated accordingly."
   ]
  },
  {
   "cell_type": "code",
   "execution_count": 9,
   "id": "0ecf8534-26ba-43b1-bce9-6ac5aa9a5233",
   "metadata": {},
   "outputs": [],
   "source": [
    "u = np.empty((2, 2, 2), dtype=object)\n",
    "u[0, 0] = -uA, -vA  # Node A₂\n",
    "u[1, 0] = uA, -vA  # Node A₃\n",
    "u[0, 1] = -uA, vA  # Node A₁\n",
    "u[1, 1] = uA, vA  # Node A"
   ]
  },
  {
   "cell_type": "markdown",
   "id": "f577691e-588a-42ba-9e55-342c7ca26c24",
   "metadata": {},
   "source": [
    "We find the following expression of the potential energy."
   ]
  },
  {
   "cell_type": "code",
   "execution_count": 10,
   "id": "03765575-b473-4e1d-9ed0-f54e6fc8d7b0",
   "metadata": {},
   "outputs": [
    {
     "data": {
      "text/latex": [
       "$\\displaystyle - 2 Q u_{A} + 4 \\chi k u_{A}^{2} + 4 \\chi k v_{A}^{2} + 2 k u_{A}^{2} + 4 k u_{A} v_{A} + 2 k v_{A}^{2}$"
      ],
      "text/plain": [
       "-2*Q*u_A + 4*chi*k*u_A**2 + 4*chi*k*v_A**2 + 2*k*u_A**2 + 4*k*u_A*v_A + 2*k*v_A**2"
      ]
     },
     "execution_count": 10,
     "metadata": {},
     "output_type": "execute_result"
    }
   ],
   "source": [
    "U1 = sympy.expand(strain_energy(u))\n",
    "V1 = sympy.expand(potential_external_forces(u))\n",
    "Π1 = U1 - V1\n",
    "Π1"
   ]
  },
  {
   "cell_type": "markdown",
   "id": "65ad9bfa-931f-4a50-ac40-0ca248775f3e",
   "metadata": {},
   "source": [
    "The potential energy is stationary at equilibrium: this leads to the following equations"
   ]
  },
  {
   "cell_type": "code",
   "execution_count": 11,
   "id": "8d099c4c-6eca-47cc-bae7-e380651bbdfc",
   "metadata": {},
   "outputs": [
    {
     "data": {
      "text/latex": [
       "$\\displaystyle - 2 Q + 8 \\chi k u_{A} + 4 k u_{A} + 4 k v_{A} = 0$"
      ],
      "text/plain": [
       "Eq(-2*Q + 8*chi*k*u_A + 4*k*u_A + 4*k*v_A, 0)"
      ]
     },
     "metadata": {},
     "output_type": "display_data"
    },
    {
     "data": {
      "text/latex": [
       "$\\displaystyle 8 \\chi k v_{A} + 4 k u_{A} + 4 k v_{A} = 0$"
      ],
      "text/plain": [
       "Eq(8*chi*k*v_A + 4*k*u_A + 4*k*v_A, 0)"
      ]
     },
     "metadata": {},
     "output_type": "display_data"
    }
   ],
   "source": [
    "eqs = [Π1.diff(dof) for dof in dofs]\n",
    "for eq in eqs:\n",
    "    display(sympy.Eq(eq, zero))"
   ]
  },
  {
   "cell_type": "markdown",
   "id": "53225d15-e8fe-4e7c-b103-141763a4e700",
   "metadata": {},
   "source": [
    "The solution to the above linear system is found below."
   ]
  },
  {
   "cell_type": "code",
   "execution_count": 12,
   "id": "4f35d162-4f3f-418d-b8bf-d7cad23d9279",
   "metadata": {},
   "outputs": [
    {
     "data": {
      "text/latex": [
       "$\\displaystyle u_{A} = \\frac{Q \\left(2 \\chi + 1\\right)}{8 \\chi k \\left(\\chi + 1\\right)}$"
      ],
      "text/plain": [
       "Eq(u_A, Q*(2*chi + 1)/(8*chi*k*(chi + 1)))"
      ]
     },
     "metadata": {},
     "output_type": "display_data"
    },
    {
     "data": {
      "text/latex": [
       "$\\displaystyle v_{A} = - \\frac{Q}{8 \\chi k \\left(\\chi + 1\\right)}$"
      ],
      "text/plain": [
       "Eq(v_A, -Q/(8*chi*k*(chi + 1)))"
      ]
     },
     "metadata": {},
     "output_type": "display_data"
    }
   ],
   "source": [
    "sol = sympy.solve(eqs, dofs)\n",
    "for key, value in sol.items():\n",
    "    display(sympy.Eq(key, value.factor()))"
   ]
  },
  {
   "cell_type": "markdown",
   "id": "d6174ee1-325e-4116-acc3-b55b75f5ce9b",
   "metadata": {},
   "source": [
    "And we find the apparent stiffness"
   ]
  },
  {
   "cell_type": "code",
   "execution_count": 13,
   "id": "6cc7c7f4-1e23-44de-898e-1704eaa11955",
   "metadata": {},
   "outputs": [
    {
     "data": {
      "text/latex": [
       "$\\displaystyle \\frac{4 \\chi k \\left(\\chi + 1\\right)}{2 \\chi + 1}$"
      ],
      "text/plain": [
       "4*chi*k*(chi + 1)/(2*chi + 1)"
      ]
     },
     "execution_count": 13,
     "metadata": {},
     "output_type": "execute_result"
    }
   ],
   "source": [
    "A1 = apparent_stiffness(u).subs(sol).factor()\n",
    "A1"
   ]
  },
  {
   "cell_type": "markdown",
   "id": "bccf0ce8-f4c1-42ca-9dc1-eb4995ac626b",
   "metadata": {},
   "source": [
    "# The case of a 2×2 system\n",
    "\n",
    "We again exploit the symmetries of the system, assuming that the center node does not move. The displacements of all nodes is fully defined from that of node $A$, $B$ (that only moves vertically) and $C$ (that only moves horizontally).\n",
    "\n",
    "![The 2×2 system](../What_is_homogenization-files/uniaxial_tension-2x2.png){width=60%}\n",
    "\n",
    "The main unknowns are therefore $u_A$ and $v_A$, $v_B$ and $u_C$ and the array of nodal displacements can be populated."
   ]
  },
  {
   "cell_type": "code",
   "execution_count": 14,
   "id": "8cf57af3-c4ef-4c8c-aab8-a09d4d51e03c",
   "metadata": {},
   "outputs": [],
   "source": [
    "uA, vA, vB, uC = dofs = sympy.symbols(\"u_A v_A v_B u_C\")\n",
    "u = np.empty((3, 3, 2), dtype=object)\n",
    "u[0, 0] = -uA, -vA  # A₂\n",
    "u[1, 0] = zero, -vB  # B₁\n",
    "u[2, 0] = uA, -vA  # A₃\n",
    "u[0, 1] = -uC, zero  # C₁\n",
    "u[1, 1] = zero, zero  # O\n",
    "u[2, 1] = uC, zero  # C\n",
    "u[0, 2] = -uA, vA  # A₁\n",
    "u[1, 2] = zero, vB  # B\n",
    "u[2, 2] = uA, vA  # A"
   ]
  },
  {
   "cell_type": "markdown",
   "id": "a38ca4f4-979f-4995-a9a2-48bb3f6f272c",
   "metadata": {},
   "source": [
    "We again compute the potential energy.\n"
   ]
  },
  {
   "cell_type": "code",
   "execution_count": 15,
   "id": "99b8007a-8e7b-4b3e-9f8d-bdea82c29dea",
   "metadata": {},
   "outputs": [
    {
     "data": {
      "text/latex": [
       "$\\displaystyle - 2 Q u_{A} - 2 Q u_{C} + 2 \\chi k u_{A}^{2} + \\chi k u_{C}^{2} + 2 \\chi k v_{A}^{2} + \\chi k v_{B}^{2} + k u_{A}^{2} + 2 k u_{A} v_{A} + k u_{C}^{2} + 2 k u_{C} v_{B} + k v_{A}^{2} + k v_{B}^{2}$"
      ],
      "text/plain": [
       "-2*Q*u_A - 2*Q*u_C + 2*chi*k*u_A**2 + chi*k*u_C**2 + 2*chi*k*v_A**2 + chi*k*v_B**2 + k*u_A**2 + 2*k*u_A*v_A + k*u_C**2 + 2*k*u_C*v_B + k*v_A**2 + k*v_B**2"
      ]
     },
     "execution_count": 15,
     "metadata": {},
     "output_type": "execute_result"
    }
   ],
   "source": [
    "U2 = sympy.expand(strain_energy(u))\n",
    "V2 = sympy.expand(potential_external_forces(u))\n",
    "Π2 = U2 - V2\n",
    "Π2"
   ]
  },
  {
   "cell_type": "markdown",
   "id": "375a7556-73dc-4ec3-9e5d-62ff1f58ff44",
   "metadata": {},
   "source": [
    "Stationarity of the potential energy leads to the following equations.\n"
   ]
  },
  {
   "cell_type": "code",
   "execution_count": 16,
   "id": "0bb81050-2561-4985-86c6-e1bea89af3ed",
   "metadata": {},
   "outputs": [
    {
     "data": {
      "text/latex": [
       "$\\displaystyle - 2 Q + 4 \\chi k u_{A} + 2 k u_{A} + 2 k v_{A} = 0$"
      ],
      "text/plain": [
       "Eq(-2*Q + 4*chi*k*u_A + 2*k*u_A + 2*k*v_A, 0)"
      ]
     },
     "metadata": {},
     "output_type": "display_data"
    },
    {
     "data": {
      "text/latex": [
       "$\\displaystyle 4 \\chi k v_{A} + 2 k u_{A} + 2 k v_{A} = 0$"
      ],
      "text/plain": [
       "Eq(4*chi*k*v_A + 2*k*u_A + 2*k*v_A, 0)"
      ]
     },
     "metadata": {},
     "output_type": "display_data"
    },
    {
     "data": {
      "text/latex": [
       "$\\displaystyle 2 \\chi k v_{B} + 2 k u_{C} + 2 k v_{B} = 0$"
      ],
      "text/plain": [
       "Eq(2*chi*k*v_B + 2*k*u_C + 2*k*v_B, 0)"
      ]
     },
     "metadata": {},
     "output_type": "display_data"
    },
    {
     "data": {
      "text/latex": [
       "$\\displaystyle - 2 Q + 2 \\chi k u_{C} + 2 k u_{C} + 2 k v_{B} = 0$"
      ],
      "text/plain": [
       "Eq(-2*Q + 2*chi*k*u_C + 2*k*u_C + 2*k*v_B, 0)"
      ]
     },
     "metadata": {},
     "output_type": "display_data"
    }
   ],
   "source": [
    "eqs = [Π2.diff(dof) for dof in dofs]\n",
    "for eq in eqs:\n",
    "    display(sympy.Eq(eq, zero))"
   ]
  },
  {
   "cell_type": "markdown",
   "id": "8caf3c0d-a065-4408-b2cd-8bbec4c85045",
   "metadata": {},
   "source": [
    "The solution to the above linear system is displayed below."
   ]
  },
  {
   "cell_type": "code",
   "execution_count": 17,
   "id": "f056fe27-649a-4336-aa3b-6b5eb264aab6",
   "metadata": {},
   "outputs": [
    {
     "data": {
      "text/latex": [
       "$\\displaystyle u_{A} = \\frac{Q \\left(2 \\chi + 1\\right)}{4 \\chi k \\left(\\chi + 1\\right)}$"
      ],
      "text/plain": [
       "Eq(u_A, Q*(2*chi + 1)/(4*chi*k*(chi + 1)))"
      ]
     },
     "metadata": {},
     "output_type": "display_data"
    },
    {
     "data": {
      "text/latex": [
       "$\\displaystyle u_{C} = \\frac{Q \\left(\\chi + 1\\right)}{\\chi k \\left(\\chi + 2\\right)}$"
      ],
      "text/plain": [
       "Eq(u_C, Q*(chi + 1)/(chi*k*(chi + 2)))"
      ]
     },
     "metadata": {},
     "output_type": "display_data"
    },
    {
     "data": {
      "text/latex": [
       "$\\displaystyle v_{A} = - \\frac{Q}{4 \\chi k \\left(\\chi + 1\\right)}$"
      ],
      "text/plain": [
       "Eq(v_A, -Q/(4*chi*k*(chi + 1)))"
      ]
     },
     "metadata": {},
     "output_type": "display_data"
    },
    {
     "data": {
      "text/latex": [
       "$\\displaystyle v_{B} = - \\frac{Q}{\\chi k \\left(\\chi + 2\\right)}$"
      ],
      "text/plain": [
       "Eq(v_B, -Q/(chi*k*(chi + 2)))"
      ]
     },
     "metadata": {},
     "output_type": "display_data"
    }
   ],
   "source": [
    "sol = sympy.solve(eqs, dofs)\n",
    "for key, value in sol.items():\n",
    "    display(sympy.Eq(key, value.factor()))"
   ]
  },
  {
   "cell_type": "markdown",
   "id": "cacd5869-86d3-4ab9-9144-370851a39706",
   "metadata": {},
   "source": [
    "Finally, we get the apparent stiffness."
   ]
  },
  {
   "cell_type": "code",
   "execution_count": 18,
   "id": "5c99e421-b2c0-47fa-bd13-9092f518cc49",
   "metadata": {},
   "outputs": [
    {
     "data": {
      "text/latex": [
       "$\\displaystyle \\frac{8 \\chi k \\left(\\chi + 1\\right) \\left(\\chi + 2\\right)}{\\left(2 \\chi + 3\\right) \\left(3 \\chi + 2\\right)}$"
      ],
      "text/plain": [
       "8*chi*k*(chi + 1)*(chi + 2)/((2*chi + 3)*(3*chi + 2))"
      ]
     },
     "execution_count": 18,
     "metadata": {},
     "output_type": "execute_result"
    }
   ],
   "source": [
    "A2 = apparent_stiffness(u).subs(sol).factor()\n",
    "A2"
   ]
  },
  {
   "cell_type": "markdown",
   "id": "e3f7497c-86e2-44da-b19a-ef15a422da2b",
   "metadata": {},
   "source": [
    "# The case of a 3×3 system\n",
    "\n",
    "For 3×3 systems, the displacements of all nodes are fully defined from the displacements of nodes $A$, $B$, $C$ and $D$.\n",
    "\n",
    "![The 3×3 system](../What_is_homogenization-files/uniaxial_tension-3x3.png){width=60%}\n",
    "\n",
    "The main unknowns are therefore $u_A$, $v_A$, $u_B$, $v_B$, $u_C$, $v_C$, $u_D$ and $v_D$."
   ]
  },
  {
   "cell_type": "code",
   "execution_count": 19,
   "id": "5a691106-ecbe-4391-aa57-a05c06779de3",
   "metadata": {},
   "outputs": [],
   "source": [
    "uA, vA, uB, vB, uC, vC, uD, vD = dofs = sympy.symbols(\"u_A v_A u_B v_B u_C v_C u_D v_D\")\n",
    "u = np.empty((4, 4, 2), dtype=object)\n",
    "\n",
    "u[0, 0] = -uA, -vA  # A₂\n",
    "u[1, 0] = -uB, -vB  # B₂\n",
    "u[2, 0] = uB, -vB  # B₃\n",
    "u[3, 0] = uA, -vA  # A₃\n",
    "\n",
    "u[0, 1] = -uC, -vC  # C₂\n",
    "u[1, 1] = -uD, -vD  # D₂\n",
    "u[2, 1] = uD, -vD  # D₃\n",
    "u[3, 1] = uC, -vC  # C₃\n",
    "\n",
    "u[0, 2] = -uC, vC  # C₁\n",
    "u[1, 2] = -uD, vD  # D₁\n",
    "u[2, 2] = uD, vD  # D\n",
    "u[3, 2] = uC, vC  # C\n",
    "\n",
    "u[0, 3] = -uA, vA  # A₁\n",
    "u[1, 3] = -uB, vB  # B₁\n",
    "u[2, 3] = uB, vB  # B\n",
    "u[3, 3] = uA, vA  # A"
   ]
  },
  {
   "cell_type": "markdown",
   "id": "719e9923-a124-4bd7-86a9-a765dd3236bd",
   "metadata": {},
   "source": [
    "We find the potential energy…"
   ]
  },
  {
   "cell_type": "code",
   "execution_count": 20,
   "id": "ebb15660-8379-4e3f-9d6c-5402c37b876b",
   "metadata": {},
   "outputs": [
    {
     "data": {
      "text/latex": [
       "$\\displaystyle - 2 Q u_{A} - 4 Q u_{C} + 2 \\chi k u_{A}^{2} - 4 \\chi k u_{A} u_{B} + 6 \\chi k u_{B}^{2} + 2 \\chi k u_{C}^{2} - 4 \\chi k u_{C} u_{D} + 6 \\chi k u_{D}^{2} + 2 \\chi k v_{A}^{2} - 4 \\chi k v_{A} v_{C} + 2 \\chi k v_{B}^{2} - 4 \\chi k v_{B} v_{D} + 6 \\chi k v_{C}^{2} + 6 \\chi k v_{D}^{2} + k u_{A}^{2} - 2 k u_{A} u_{D} + 2 k u_{A} v_{A} - 2 k u_{A} v_{D} + 2 k u_{B}^{2} - 2 k u_{B} u_{C} + 2 k u_{B} u_{D} + 2 k u_{B} v_{C} - 2 k u_{B} v_{D} + 2 k u_{C}^{2} - 2 k u_{C} u_{D} + 2 k u_{C} v_{B} + 2 k u_{C} v_{D} + 5 k u_{D}^{2} - 2 k u_{D} v_{A} + 2 k u_{D} v_{B} - 2 k u_{D} v_{C} + 2 k u_{D} v_{D} + k v_{A}^{2} - 2 k v_{A} v_{D} + 2 k v_{B}^{2} - 2 k v_{B} v_{C} - 2 k v_{B} v_{D} + 2 k v_{C}^{2} + 2 k v_{C} v_{D} + 5 k v_{D}^{2}$"
      ],
      "text/plain": [
       "-2*Q*u_A - 4*Q*u_C + 2*chi*k*u_A**2 - 4*chi*k*u_A*u_B + 6*chi*k*u_B**2 + 2*chi*k*u_C**2 - 4*chi*k*u_C*u_D + 6*chi*k*u_D**2 + 2*chi*k*v_A**2 - 4*chi*k*v_A*v_C + 2*chi*k*v_B**2 - 4*chi*k*v_B*v_D + 6*chi*k*v_C**2 + 6*chi*k*v_D**2 + k*u_A**2 - 2*k*u_A*u_D + 2*k*u_A*v_A - 2*k*u_A*v_D + 2*k*u_B**2 - 2*k*u_B*u_C + 2*k*u_B*u_D + 2*k*u_B*v_C - 2*k*u_B*v_D + 2*k*u_C**2 - 2*k*u_C*u_D + 2*k*u_C*v_B + 2*k*u_C*v_D + 5*k*u_D**2 - 2*k*u_D*v_A + 2*k*u_D*v_B - 2*k*u_D*v_C + 2*k*u_D*v_D + k*v_A**2 - 2*k*v_A*v_D + 2*k*v_B**2 - 2*k*v_B*v_C - 2*k*v_B*v_D + 2*k*v_C**2 + 2*k*v_C*v_D + 5*k*v_D**2"
      ]
     },
     "execution_count": 20,
     "metadata": {},
     "output_type": "execute_result"
    }
   ],
   "source": [
    "U3 = sympy.expand(strain_energy(u))\n",
    "V3 = sympy.expand(potential_external_forces(u))\n",
    "Π3 = U3 - V3\n",
    "Π3"
   ]
  },
  {
   "cell_type": "markdown",
   "id": "69d09825-8354-48db-9a5c-3dd24e29dbf9",
   "metadata": {},
   "source": [
    "… the equations…"
   ]
  },
  {
   "cell_type": "code",
   "execution_count": 21,
   "id": "f02d4364-524a-4546-be6d-c29c15f6934f",
   "metadata": {},
   "outputs": [
    {
     "data": {
      "text/latex": [
       "$\\displaystyle - 2 Q + 4 \\chi k u_{A} - 4 \\chi k u_{B} + 2 k u_{A} - 2 k u_{D} + 2 k v_{A} - 2 k v_{D} = 0$"
      ],
      "text/plain": [
       "Eq(-2*Q + 4*chi*k*u_A - 4*chi*k*u_B + 2*k*u_A - 2*k*u_D + 2*k*v_A - 2*k*v_D, 0)"
      ]
     },
     "metadata": {},
     "output_type": "display_data"
    },
    {
     "data": {
      "text/latex": [
       "$\\displaystyle 4 \\chi k v_{A} - 4 \\chi k v_{C} + 2 k u_{A} - 2 k u_{D} + 2 k v_{A} - 2 k v_{D} = 0$"
      ],
      "text/plain": [
       "Eq(4*chi*k*v_A - 4*chi*k*v_C + 2*k*u_A - 2*k*u_D + 2*k*v_A - 2*k*v_D, 0)"
      ]
     },
     "metadata": {},
     "output_type": "display_data"
    },
    {
     "data": {
      "text/latex": [
       "$\\displaystyle - 4 \\chi k u_{A} + 12 \\chi k u_{B} + 4 k u_{B} - 2 k u_{C} + 2 k u_{D} + 2 k v_{C} - 2 k v_{D} = 0$"
      ],
      "text/plain": [
       "Eq(-4*chi*k*u_A + 12*chi*k*u_B + 4*k*u_B - 2*k*u_C + 2*k*u_D + 2*k*v_C - 2*k*v_D, 0)"
      ]
     },
     "metadata": {},
     "output_type": "display_data"
    },
    {
     "data": {
      "text/latex": [
       "$\\displaystyle 4 \\chi k v_{B} - 4 \\chi k v_{D} + 2 k u_{C} + 2 k u_{D} + 4 k v_{B} - 2 k v_{C} - 2 k v_{D} = 0$"
      ],
      "text/plain": [
       "Eq(4*chi*k*v_B - 4*chi*k*v_D + 2*k*u_C + 2*k*u_D + 4*k*v_B - 2*k*v_C - 2*k*v_D, 0)"
      ]
     },
     "metadata": {},
     "output_type": "display_data"
    },
    {
     "data": {
      "text/latex": [
       "$\\displaystyle - 4 Q + 4 \\chi k u_{C} - 4 \\chi k u_{D} - 2 k u_{B} + 4 k u_{C} - 2 k u_{D} + 2 k v_{B} + 2 k v_{D} = 0$"
      ],
      "text/plain": [
       "Eq(-4*Q + 4*chi*k*u_C - 4*chi*k*u_D - 2*k*u_B + 4*k*u_C - 2*k*u_D + 2*k*v_B + 2*k*v_D, 0)"
      ]
     },
     "metadata": {},
     "output_type": "display_data"
    },
    {
     "data": {
      "text/latex": [
       "$\\displaystyle - 4 \\chi k v_{A} + 12 \\chi k v_{C} + 2 k u_{B} - 2 k u_{D} - 2 k v_{B} + 4 k v_{C} + 2 k v_{D} = 0$"
      ],
      "text/plain": [
       "Eq(-4*chi*k*v_A + 12*chi*k*v_C + 2*k*u_B - 2*k*u_D - 2*k*v_B + 4*k*v_C + 2*k*v_D, 0)"
      ]
     },
     "metadata": {},
     "output_type": "display_data"
    },
    {
     "data": {
      "text/latex": [
       "$\\displaystyle - 4 \\chi k u_{C} + 12 \\chi k u_{D} - 2 k u_{A} + 2 k u_{B} - 2 k u_{C} + 10 k u_{D} - 2 k v_{A} + 2 k v_{B} - 2 k v_{C} + 2 k v_{D} = 0$"
      ],
      "text/plain": [
       "Eq(-4*chi*k*u_C + 12*chi*k*u_D - 2*k*u_A + 2*k*u_B - 2*k*u_C + 10*k*u_D - 2*k*v_A + 2*k*v_B - 2*k*v_C + 2*k*v_D, 0)"
      ]
     },
     "metadata": {},
     "output_type": "display_data"
    },
    {
     "data": {
      "text/latex": [
       "$\\displaystyle - 4 \\chi k v_{B} + 12 \\chi k v_{D} - 2 k u_{A} - 2 k u_{B} + 2 k u_{C} + 2 k u_{D} - 2 k v_{A} - 2 k v_{B} + 2 k v_{C} + 10 k v_{D} = 0$"
      ],
      "text/plain": [
       "Eq(-4*chi*k*v_B + 12*chi*k*v_D - 2*k*u_A - 2*k*u_B + 2*k*u_C + 2*k*u_D - 2*k*v_A - 2*k*v_B + 2*k*v_C + 10*k*v_D, 0)"
      ]
     },
     "metadata": {},
     "output_type": "display_data"
    }
   ],
   "source": [
    "eqs = [Π3.diff(dof) for dof in dofs]\n",
    "for eq in eqs:\n",
    "    display(sympy.Eq(eq, zero))"
   ]
  },
  {
   "cell_type": "markdown",
   "id": "dd386caa-7b35-474c-bbd4-9bcccc8214fe",
   "metadata": {},
   "source": [
    "… the nodal displacements…"
   ]
  },
  {
   "cell_type": "code",
   "execution_count": 22,
   "id": "5d53c6f0-0baf-4b0e-a300-b5c422b4fe1e",
   "metadata": {},
   "outputs": [
    {
     "data": {
      "text/latex": [
       "$\\displaystyle u_{A} = \\frac{Q \\left(96 \\chi^{5} + 664 \\chi^{4} + 1320 \\chi^{3} + 1109 \\chi^{2} + 408 \\chi + 52\\right)}{32 \\chi k \\left(\\chi + 1\\right) \\left(4 \\chi^{4} + 24 \\chi^{3} + 41 \\chi^{2} + 24 \\chi + 4\\right)}$"
      ],
      "text/plain": [
       "Eq(u_A, Q*(96*chi**5 + 664*chi**4 + 1320*chi**3 + 1109*chi**2 + 408*chi + 52)/(32*chi*k*(chi + 1)*(4*chi**4 + 24*chi**3 + 41*chi**2 + 24*chi + 4)))"
      ]
     },
     "metadata": {},
     "output_type": "display_data"
    },
    {
     "data": {
      "text/latex": [
       "$\\displaystyle u_{B} = \\frac{Q \\left(32 \\chi^{5} + 232 \\chi^{4} + 472 \\chi^{3} + 405 \\chi^{2} + 152 \\chi + 20\\right)}{32 \\chi k \\left(\\chi + 1\\right) \\left(4 \\chi^{4} + 24 \\chi^{3} + 41 \\chi^{2} + 24 \\chi + 4\\right)}$"
      ],
      "text/plain": [
       "Eq(u_B, Q*(32*chi**5 + 232*chi**4 + 472*chi**3 + 405*chi**2 + 152*chi + 20)/(32*chi*k*(chi + 1)*(4*chi**4 + 24*chi**3 + 41*chi**2 + 24*chi + 4)))"
      ]
     },
     "metadata": {},
     "output_type": "display_data"
    },
    {
     "data": {
      "text/latex": [
       "$\\displaystyle u_{C} = \\frac{Q \\left(192 \\chi^{5} + 1112 \\chi^{4} + 2148 \\chi^{3} + 1831 \\chi^{2} + 696 \\chi + 92\\right)}{32 \\chi k \\left(\\chi + 1\\right) \\left(4 \\chi^{4} + 24 \\chi^{3} + 41 \\chi^{2} + 24 \\chi + 4\\right)}$"
      ],
      "text/plain": [
       "Eq(u_C, Q*(192*chi**5 + 1112*chi**4 + 2148*chi**3 + 1831*chi**2 + 696*chi + 92)/(32*chi*k*(chi + 1)*(4*chi**4 + 24*chi**3 + 41*chi**2 + 24*chi + 4)))"
      ]
     },
     "metadata": {},
     "output_type": "display_data"
    },
    {
     "data": {
      "text/latex": [
       "$\\displaystyle u_{D} = \\frac{Q \\left(64 \\chi^{5} + 360 \\chi^{4} + 724 \\chi^{3} + 657 \\chi^{2} + 264 \\chi + 36\\right)}{32 \\chi k \\left(\\chi + 1\\right) \\left(4 \\chi^{4} + 24 \\chi^{3} + 41 \\chi^{2} + 24 \\chi + 4\\right)}$"
      ],
      "text/plain": [
       "Eq(u_D, Q*(64*chi**5 + 360*chi**4 + 724*chi**3 + 657*chi**2 + 264*chi + 36)/(32*chi*k*(chi + 1)*(4*chi**4 + 24*chi**3 + 41*chi**2 + 24*chi + 4)))"
      ]
     },
     "metadata": {},
     "output_type": "display_data"
    },
    {
     "data": {
      "text/latex": [
       "$\\displaystyle v_{A} = - \\frac{Q \\left(16 \\chi^{4} + 288 \\chi^{3} + 533 \\chi^{2} + 312 \\chi + 52\\right)}{32 \\chi k \\left(\\chi + 1\\right) \\left(4 \\chi^{4} + 24 \\chi^{3} + 41 \\chi^{2} + 24 \\chi + 4\\right)}$"
      ],
      "text/plain": [
       "Eq(v_A, -Q*(16*chi**4 + 288*chi**3 + 533*chi**2 + 312*chi + 52)/(32*chi*k*(chi + 1)*(4*chi**4 + 24*chi**3 + 41*chi**2 + 24*chi + 4)))"
      ]
     },
     "metadata": {},
     "output_type": "display_data"
    },
    {
     "data": {
      "text/latex": [
       "$\\displaystyle v_{B} = - \\frac{Q \\left(224 \\chi^{4} + 924 \\chi^{3} + 1207 \\chi^{2} + 600 \\chi + 92\\right)}{32 \\chi k \\left(\\chi + 1\\right) \\left(4 \\chi^{4} + 24 \\chi^{3} + 41 \\chi^{2} + 24 \\chi + 4\\right)}$"
      ],
      "text/plain": [
       "Eq(v_B, -Q*(224*chi**4 + 924*chi**3 + 1207*chi**2 + 600*chi + 92)/(32*chi*k*(chi + 1)*(4*chi**4 + 24*chi**3 + 41*chi**2 + 24*chi + 4)))"
      ]
     },
     "metadata": {},
     "output_type": "display_data"
    },
    {
     "data": {
      "text/latex": [
       "$\\displaystyle v_{C} = - \\frac{Q \\left(96 \\chi^{3} + 197 \\chi^{2} + 120 \\chi + 20\\right)}{32 \\chi k \\left(\\chi + 1\\right) \\left(4 \\chi^{4} + 24 \\chi^{3} + 41 \\chi^{2} + 24 \\chi + 4\\right)}$"
      ],
      "text/plain": [
       "Eq(v_C, -Q*(96*chi**3 + 197*chi**2 + 120*chi + 20)/(32*chi*k*(chi + 1)*(4*chi**4 + 24*chi**3 + 41*chi**2 + 24*chi + 4)))"
      ]
     },
     "metadata": {},
     "output_type": "display_data"
    },
    {
     "data": {
      "text/latex": [
       "$\\displaystyle v_{D} = - \\frac{Q \\left(96 \\chi^{4} + 364 \\chi^{3} + 465 \\chi^{2} + 232 \\chi + 36\\right)}{32 \\chi k \\left(\\chi + 1\\right) \\left(4 \\chi^{4} + 24 \\chi^{3} + 41 \\chi^{2} + 24 \\chi + 4\\right)}$"
      ],
      "text/plain": [
       "Eq(v_D, -Q*(96*chi**4 + 364*chi**3 + 465*chi**2 + 232*chi + 36)/(32*chi*k*(chi + 1)*(4*chi**4 + 24*chi**3 + 41*chi**2 + 24*chi + 4)))"
      ]
     },
     "metadata": {},
     "output_type": "display_data"
    }
   ],
   "source": [
    "sol = sympy.solve(eqs, dofs)\n",
    "for key, value in sol.items():\n",
    "    display(sympy.Eq(key, value.factor()))"
   ]
  },
  {
   "cell_type": "markdown",
   "id": "f6f903e6-7ec8-469c-aaf1-dda5d977a9ae",
   "metadata": {},
   "source": [
    "… and finally, the apparent stiffness"
   ]
  },
  {
   "cell_type": "code",
   "execution_count": 23,
   "id": "fc6c678b-e169-468f-bb03-0bbe00f9f001",
   "metadata": {},
   "outputs": [
    {
     "data": {
      "text/latex": [
       "$\\displaystyle \\frac{144 \\chi k \\left(\\chi + 1\\right) \\left(4 \\chi^{4} + 24 \\chi^{3} + 41 \\chi^{2} + 24 \\chi + 4\\right)}{480 \\chi^{5} + 2888 \\chi^{4} + 5616 \\chi^{3} + 4771 \\chi^{2} + 1800 \\chi + 236}$"
      ],
      "text/plain": [
       "144*chi*k*(chi + 1)*(4*chi**4 + 24*chi**3 + 41*chi**2 + 24*chi + 4)/(480*chi**5 + 2888*chi**4 + 5616*chi**3 + 4771*chi**2 + 1800*chi + 236)"
      ]
     },
     "execution_count": 23,
     "metadata": {},
     "output_type": "execute_result"
    }
   ],
   "source": [
    "A3 = apparent_stiffness(u).subs(sol).factor()\n",
    "A3"
   ]
  },
  {
   "cell_type": "markdown",
   "id": "fecf7092-feff-4e84-9e62-cab9112fb5f8",
   "metadata": {},
   "source": [
    "# Summary {#sec-20250520203239}"
   ]
  },
  {
   "cell_type": "code",
   "execution_count": 24,
   "id": "1e3d9a66-1caf-4385-b53a-341667749dd3",
   "metadata": {},
   "outputs": [],
   "source": [
    "A_app = sympy.Symbol(r\"\\tilde{A}_x^\\text{app}\")"
   ]
  },
  {
   "cell_type": "markdown",
   "id": "866e56f5-e7be-437f-991d-8431617835e5",
   "metadata": {},
   "source": [
    "## Apparent stiffness of the 1×1 system"
   ]
  },
  {
   "cell_type": "code",
   "execution_count": 25,
   "id": "6c37cd4e-1a20-4a18-847a-7e3707258b67",
   "metadata": {},
   "outputs": [
    {
     "data": {
      "text/latex": [
       "$\\displaystyle \\tilde{A}_x^\\text{app} = \\frac{4 \\chi k \\left(\\chi + 1\\right)}{2 \\chi + 1}$"
      ],
      "text/plain": [
       "Eq(\\tilde{A}_x^\\text{app}, 4*chi*k*(chi + 1)/(2*chi + 1))"
      ]
     },
     "execution_count": 25,
     "metadata": {},
     "output_type": "execute_result"
    }
   ],
   "source": [
    "sympy.Eq(A_app, A1)"
   ]
  },
  {
   "cell_type": "markdown",
   "id": "9ec28714-4d87-4efc-a7b2-3fa27299c799",
   "metadata": {},
   "source": [
    "## Apparent stiffness of the 2×2 system"
   ]
  },
  {
   "cell_type": "code",
   "execution_count": 26,
   "id": "abf4dd63-cdbd-4297-953d-8f1b205a48ca",
   "metadata": {},
   "outputs": [
    {
     "data": {
      "text/latex": [
       "$\\displaystyle \\tilde{A}_x^\\text{app} = \\frac{8 \\chi k \\left(\\chi + 1\\right) \\left(\\chi + 2\\right)}{\\left(2 \\chi + 3\\right) \\left(3 \\chi + 2\\right)}$"
      ],
      "text/plain": [
       "Eq(\\tilde{A}_x^\\text{app}, 8*chi*k*(chi + 1)*(chi + 2)/((2*chi + 3)*(3*chi + 2)))"
      ]
     },
     "execution_count": 26,
     "metadata": {},
     "output_type": "execute_result"
    }
   ],
   "source": [
    "sympy.Eq(A_app, A2)"
   ]
  },
  {
   "cell_type": "markdown",
   "id": "4edd30b8-5c1e-4b51-b22c-87a95717d772",
   "metadata": {},
   "source": [
    "## Apparent stiffness of the 3×3 system"
   ]
  },
  {
   "cell_type": "code",
   "execution_count": 27,
   "id": "b3afabe6-fe9a-4d01-abb6-32ca25ab3638",
   "metadata": {},
   "outputs": [
    {
     "data": {
      "text/latex": [
       "$\\displaystyle \\tilde{A}_x^\\text{app} = \\frac{144 \\chi k \\left(\\chi + 1\\right) \\left(4 \\chi^{4} + 24 \\chi^{3} + 41 \\chi^{2} + 24 \\chi + 4\\right)}{480 \\chi^{5} + 2888 \\chi^{4} + 5616 \\chi^{3} + 4771 \\chi^{2} + 1800 \\chi + 236}$"
      ],
      "text/plain": [
       "Eq(\\tilde{A}_x^\\text{app}, 144*chi*k*(chi + 1)*(4*chi**4 + 24*chi**3 + 41*chi**2 + 24*chi + 4)/(480*chi**5 + 2888*chi**4 + 5616*chi**3 + 4771*chi**2 + 1800*chi + 236))"
      ]
     },
     "execution_count": 27,
     "metadata": {},
     "output_type": "execute_result"
    }
   ],
   "source": [
    "sympy.Eq(A_app, A3)"
   ]
  }
 ],
 "metadata": {
  "kernelspec": {
   "display_name": "Python 3 (ipykernel)",
   "language": "python",
   "name": "python3"
  },
  "language_info": {
   "codemirror_mode": {
    "name": "ipython",
    "version": 3
   },
   "file_extension": ".py",
   "mimetype": "text/x-python",
   "name": "python",
   "nbconvert_exporter": "python",
   "pygments_lexer": "ipython3",
   "version": "3.12.2"
  }
 },
 "nbformat": 4,
 "nbformat_minor": 5
}
