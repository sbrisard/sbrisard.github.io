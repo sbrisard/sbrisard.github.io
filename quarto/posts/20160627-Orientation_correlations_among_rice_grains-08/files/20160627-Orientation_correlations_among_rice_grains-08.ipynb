{
 "cells": [
  {
   "cell_type": "raw",
   "metadata": {},
   "source": [
    "Title: Orientation correlations among rice grains, part 8: estimating the correlations\n",
    "Date: 2016-06-27\n",
    "Category: Image analysis\n",
    "UseKaTeX: True"
   ]
  },
  {
   "cell_type": "markdown",
   "metadata": {},
   "source": [
    "In the [previous\n",
    "instalment]({filename}20160219-Orientation_correlations_among_rice_grains-07.md)\n",
    "of this series, we have analyzed the morphology of the rice grains. In\n",
    "particular, we have defined their *orientation* as that of the major axis of\n",
    "inertia. We are now in a position to quantify the statistics of the\n",
    "orientations. We will first discuss [one-point statistics](#S1) (each grain is\n",
    "considered individually), then [two-point statistics](#S2) (mutual orientations\n",
    "of pairs of grains are considered). Finally, we will try to quantify how [the\n",
    "wall of the sample container](#Boundary_effects) influences the orientation of\n",
    "the rice grains.\n",
    "\n",
    "<a name=\"S1\"></a>\n",
    "## One-point order parameter\n",
    "\n",
    "Various order parameters have been introduced in order to identify preferred\n",
    "orientations in assemblies of anisotropic particles. In the present post, we\n",
    "will use the so-called nematic order parameter, which is used to monitor\n",
    "isotropic-nematic phase transitions ([Eppenga and Frenkel,\n",
    "1984](https://doi.org/10.1080/00268978400101951))\n",
    "\n",
    "<a name=\"eq01\"></a>\n",
    "$$S_1=\\mathbb E\\Bigl(\\frac{3\\cos^2\\theta-1}2\\Bigr)=\\frac1N\\sum_{i=1}^N\\frac{3\\cos^2\\theta_i-1}2,\\tag{1}$$\n",
    "\n",
    "where $\\mathbb E$ denotes the ensemble average, and $\\theta$ is the angle of the\n",
    "current particle with respect to a fixed direction. In the last equality, the\n",
    "ensemble average was replaced with an empirical average over all particles in\n",
    "the system.\n",
    "\n",
    "If the distribution of particles is isotropic, then the pdf of the orientations\n",
    "reads (in [spherical\n",
    "coordinates](https://en.wikipedia.org/wiki/Spherical_coordinate_system), physics\n",
    "convention)\n",
    "\n",
    "$$p(\\theta, \\varphi)=\\frac1{4\\pi}\\sin\\theta\\,{\\mathrm d}\\theta\\,{\\mathrm d}\\varphi,$$\n",
    "\n",
    "($\\theta$: polar angle; $\\varphi$: azimuthal angle), and we find\n",
    "\n",
    "$$S_1=\\frac1{4\\pi}\\int_{0\\leq\\theta\\leq\\pi}\\int_{0\\leq\\varphi\\leq2\\pi}\\frac{3\\cos^2\\theta-1}2\\sin\\theta\\,{\\mathrm d}\\theta\\,{\\mathrm d}\\varphi=0.$$\n",
    "\n",
    "Conversely, for particles with fixed orientation, $\\theta=0$ for all particles\n",
    "and $S_1=1$.\n",
    "\n",
    "Let us compute $S_1$ for the assembly of rice grains. In the [previous\n",
    "instalment]({filename}20160219-Orientation_correlations_among_rice_grains-07.md)\n",
    "of this series, we have computed the orientation (unit vector) of each grain. We\n",
    "first retrieve this data."
   ]
  },
  {
   "cell_type": "code",
   "execution_count": 3,
   "metadata": {},
   "outputs": [],
   "source": [
    "import h5py\n",
    "import matplotlib as mpl\n",
    "import matplotlib.figure\n",
    "import numpy as np\n",
    "import scipy.ndimage\n",
    "import scipy.spatial\n",
    "\n",
    "filename = '/media/sf_sbrisard/Documents/tmp/rice-bin_4x4x4.hdf5'\n",
    "\n",
    "with h5py.File(filename, 'r') as f:\n",
    "    center = np.asarray(f['center_of_mass'])\n",
    "    orientation = np.asarray(f['orientation'])"
   ]
  },
  {
   "cell_type": "markdown",
   "metadata": {},
   "source": [
    "Now, `center[i, :]` denotes the coordinates of the center of grain `i`, while\n",
    "`orientation[i, :]` denotes the orientation of grain `i`. In what follows, we\n",
    "will compute $S_1$, taking the vertical as reference direction. At this point,\n",
    "it should be recalled that the $z$ coordinate (along the vertical) is the first\n",
    "index in the 3D image (slice number).  Therefore, $\\cos\\theta_i$ is given by\n",
    "`orientation[i, 0]` in this context."
   ]
  },
  {
   "cell_type": "code",
   "execution_count": 4,
   "metadata": {},
   "outputs": [
    {
     "name": "stdout",
     "output_type": "stream",
     "text": [
      "S1 = -0.09376398099836955\n"
     ]
    }
   ],
   "source": [
    "cos_theta = orientation[:, 0]\n",
    "p2_cos_theta = (3*cos_theta**2-1)/2\n",
    "print('S1 = {}'.format(p2_cos_theta.mean()))"
   ]
  },
  {
   "cell_type": "markdown",
   "metadata": {},
   "source": [
    "It is observed that $S_1$ is non-zero, which indicates a slight\n",
    "anisotropy. $S_1$ is a one-point descriptor of the microsctructure. In other\n",
    "words, only one particle is considered at a time (orientational correlations are\n",
    "not accounted for). In the next section, we will show how such correlations can\n",
    "be quantified."
   ]
  },
  {
   "cell_type": "markdown",
   "metadata": {},
   "source": [
    "<a name=\"S2\"></a>\n",
    "## Two-point order parameter\n",
    "\n",
    "The initial motivation of this series was the quantification of orientation\n",
    "correlation between anisotropic particles. The basic idea is this: anisotropic,\n",
    "hard particles tend to be locally well ordered (in terms of orientation). In\n",
    "other words, the closer the particles, the higher the probability that they are\n",
    "(nearly) parallel. This is definitely true of flat particles (platelets), but it\n",
    "is less obvious for elongated particles.\n",
    "\n",
    "To measure orientation correlations between particles, Frenkel and Mulder\n",
    "([2002](https://doi.org/10.1080/00268978500101971)) introduce $S_2(r)$, which is\n",
    "defined from the above order parameter as follows. A “central particle”, $i$, is\n",
    "first selected. The reference direction is the orientation $\\vec n_i$ of this\n",
    "central particle. Then, $S_2(r)$ is computed from Eq. [(1)](#eq01), for all\n",
    "particles $j$ located at a distance $r$ from the central particle $i$. In this\n",
    "context, we have $\\cos\\theta_j=\\vec n_i\\cdot\\vec n_j$. The empirical estimation\n",
    "of this two-point order parameter therefore reads\n",
    "\n",
    "<a name=\"eq02\"></a>\n",
    "$$S_2(r)=\\frac1N\\sum_{i=1}^N\\frac1{\\operatorname{\\\\#}\\mathcal C_i(r, r+\\Delta r)}\\sum_{j\\in\\mathcal C_i(r, r+\\Delta r)}\\frac{3\\bigl(\\vec n_i\\cdot\\vec n_j\\bigr)^2-1}2,\\tag{2}$$\n",
    "\n",
    "where $\\vec n_j$ denotes the orientation of particle $j$. $\\mathcal C_i(r_1,\n",
    "r_2)$ is the set of particles centered at a distance $r$ from particle $i$, with\n",
    "$r_1\\leq r\\leq r_2$\n",
    "\n",
    "$$\\mathcal C_i(r_1, r_2)=\\bigl\\\\{j, 1\\leq j\\leq N, r_1\\leq\\lVert\\vec x_j-\\vec x_i\\rVert\\leq r_2\\bigr\\\\}$$\n",
    "\n",
    "($\\vec x_i$: center of particle $i$). Eq. [(2)](#eq02) is readily implemented in\n",
    "Python (using `numpy` and `scipy`). We first compute the distance matrix, and\n",
    "round it to the nearest integer, which then defines `labels[i, j]` (to be passed\n",
    "to `scipy.ndimage.mean`)."
   ]
  },
  {
   "cell_type": "code",
   "execution_count": 5,
   "metadata": {},
   "outputs": [],
   "source": [
    "distance = scipy.spatial.distance_matrix(center, center)\n",
    "labels = np.round(distance)"
   ]
  },
  {
   "cell_type": "markdown",
   "metadata": {},
   "source": [
    "We then compute, for each pair `(i, j)`, the cosine `cos_theta[i, j]` of the\n",
    "angle between particles `i` and `j`. We also evaluate the second Legendre\n",
    "polynomial $P_2$ for each value of $\\cos\\theta$\n",
    "\n",
    "$$P_2(x)=(3x^2-1)/2.$$"
   ]
  },
  {
   "cell_type": "code",
   "execution_count": 6,
   "metadata": {},
   "outputs": [],
   "source": [
    "cos_theta = np.sum(orientation[:, None, :]*orientation[None, :, :], axis=-1)\n",
    "p2_cos_theta = (3*cos_theta**2-1)/2"
   ]
  },
  {
   "cell_type": "markdown",
   "metadata": {},
   "source": [
    "Now comes the tricky part: the double sum over *all* grains $i$, and only grains\n",
    "$j$ belonging to $\\mathcal C_i(r, r+\\Delta r)$ (where $\\Delta\n",
    "r=1\\,\\text{pix}$). For $i$ fixed, the inner sum\n",
    "\n",
    "$$\\frac1{\\operatorname{\\\\#}\\mathcal C_i(r, r+1)}\\sum_{j\\in\\mathcal C_i(r, r+1)}\\frac{3\\bigl(\\vec n_i\\cdot\\vec n_j\\bigr)^2-1}2,$$\n",
    "\n",
    "can be seen as the mean of all cells `p2_cos_theta[i, j]` for which `labels[i,\n",
    "j]==r`. As such, it can be computed with the\n",
    "[scipy.ndimage.mean](http://docs.scipy.org/doc/scipy/reference/generated/scipy.ndimage.mean.html#scipy-ndimage-mean)\n",
    "function (similar in spirit to the\n",
    "[scipy.ndimage.sum](http://docs.scipy.org/doc/scipy/reference/generated/scipy.ndimage.sum.html#scipy.ndimage.sum)\n",
    "function that was used in the [previous\n",
    "instalment]({filename}20160219-Orientation_correlations_among_rice_grains-07.md)\n",
    "of this series). In the following snippet, we apply this function to each row of\n",
    "`p2_cos_theta` in turn (I could not find a way to get rid of this loop!)."
   ]
  },
  {
   "cell_type": "code",
   "execution_count": 7,
   "metadata": {},
   "outputs": [
    {
     "name": "stderr",
     "output_type": "stream",
     "text": [
      "/usr/lib/python3/dist-packages/scipy/ndimage/measurements.py:639: RuntimeWarning: invalid value encountered in true_divide\n",
      "  return sum / numpy.asanyarray(count).astype(numpy.float)\n"
     ]
    }
   ],
   "source": [
    "num_grains = center.shape[0]\n",
    "r = np.unique(labels)\n",
    "inner_sum = np.empty((num_grains, len(r)),\n",
    "                     dtype=np.float64)\n",
    "for i in range(num_grains):\n",
    "    inner_sum[i] = scipy.ndimage.mean(p2_cos_theta[i], labels[i], r)"
   ]
  },
  {
   "cell_type": "markdown",
   "metadata": {},
   "source": [
    "Then, the outer sum in Eq. [(2)](#eq02) is a simple mean (ignoring NaNs)."
   ]
  },
  {
   "cell_type": "code",
   "execution_count": 8,
   "metadata": {},
   "outputs": [],
   "source": [
    "S2 = np.nanmean(inner_sum, axis=0)"
   ]
  },
  {
   "cell_type": "markdown",
   "metadata": {},
   "source": [
    "The resulting correlation function is plotted on [Fig. 1](#fig01)."
   ]
  },
  {
   "cell_type": "code",
   "execution_count": 10,
   "metadata": {},
   "outputs": [
    {
     "name": "stderr",
     "output_type": "stream",
     "text": [
      "/usr/lib/python3/dist-packages/matplotlib/tight_layout.py:231: UserWarning: tight_layout : falling back to Agg renderer\n",
      "  warnings.warn(\"tight_layout : falling back to Agg renderer\")\n"
     ]
    }
   ],
   "source": [
    "fig = mpl.figure.Figure(figsize=(8, 6))\n",
    "ax = fig.add_subplot(1, 1, 1)\n",
    "ax.set_xlabel(r'$r\\;[\\mathrm{pix}]$')\n",
    "ax.set_ylabel(r'$S_2(r)$')\n",
    "ax.set_ylim(-0.1, 0.5)\n",
    "ax.plot(r, S2)\n",
    "fig.tight_layout()\n",
    "fig.savefig('S2.png', transparent=True)"
   ]
  },
  {
   "cell_type": "raw",
   "metadata": {},
   "source": [
    "<a name=\"fig01\"></a>\n",
    "![Plot of S2]({static}20160627-Orientation_correlations_among_rice_grains-08/S2.png){.figure}\n",
    "\n",
    "<figcaption>Figure&nbsp;1:&nbsp;The orientational correlation function $S_2(r)$.</figcaption>"
   ]
  },
  {
   "cell_type": "markdown",
   "metadata": {},
   "source": [
    "For small values of $r$, the curve is not relevant, since very little grains are\n",
    "close enough (remember that rice grains are non-overlapping\n",
    "particles!). Similarly, the increase at large values of the center-to-center\n",
    "distance $r$ should be considered with caution. Indeed, due to the limited size\n",
    "of the specimen, sampling is insufficient at high $r$. For intermediate values\n",
    "of $r$, the curve is interesting. It shows a rather good correlation at small\n",
    "distances, but this correlation decreases rapidly. For larger values of $r$, we\n",
    "do not observe $S_2(r)\\to0$, which might reflect the fact that the specimen is\n",
    "not isotropic (as shown in the [previous section](#S1)); this should be\n",
    "investigated further."
   ]
  },
  {
   "cell_type": "markdown",
   "metadata": {},
   "source": [
    "<a name=\"Boundary_effects\"></a>\n",
    "## Boundary effects\n",
    "\n",
    "To close this post on orientation correlations, we investigate boundary effects\n",
    "in the specimen. The wall of the cylindrical sample container is\n",
    "impenetrable. Therefore, the particles closest to the wall are tangent this\n",
    "wall. We want to quantify the distance over which the grains keep the memory of\n",
    "this preferred orientation.\n",
    "\n",
    "To do so, for each grain, we locate the closest point on the wall, and the\n",
    "corresponding normal vector. We first recall the location of the axis of the\n",
    "container, and its radius (see [this\n",
    "post]({filename}20150529-Orientation_correlations_among_rice_grains-04.md))."
   ]
  },
  {
   "cell_type": "code",
   "execution_count": 11,
   "metadata": {},
   "outputs": [],
   "source": [
    "x_center = 219\n",
    "y_center = 217\n",
    "radius = 208"
   ]
  },
  {
   "cell_type": "markdown",
   "metadata": {},
   "source": [
    "We then compute the radius-vector (we discard the $z$-coordinate, which\n",
    "is the first index), from which we deduce the normal to the boundary,\n",
    "$\\vec e_r$."
   ]
  },
  {
   "cell_type": "code",
   "execution_count": 12,
   "metadata": {},
   "outputs": [],
   "source": [
    "radius_vector = center-[0, x_center, y_center]\n",
    "# Discard first (z) coordinate!\n",
    "distance_to_axis = np.sqrt(np.sum(radius_vector[:, 1:]**2, axis=-1))\n",
    "distance_to_boundary = radius-distance_to_axis\n",
    "e_r = radius_vector/distance_to_axis[:, None]\n",
    "e_r[:, 0] = 0"
   ]
  },
  {
   "cell_type": "markdown",
   "metadata": {},
   "source": [
    "We now compute the orthoradial vector $\\vec e_\\theta$,"
   ]
  },
  {
   "cell_type": "code",
   "execution_count": 13,
   "metadata": {},
   "outputs": [],
   "source": [
    "e_theta = np.zeros_like(e_r)\n",
    "e_theta[:, 1] = -e_r[:, 2]\n",
    "e_theta[:, 2] = e_r[:, 1]"
   ]
  },
  {
   "cell_type": "markdown",
   "metadata": {},
   "source": [
    "For each grain, the direction $\\vec n_i$ is decomposed in the local basis $(\\vec\n",
    "e_r, \\vec e_\\theta, \\vec e_z)$."
   ]
  },
  {
   "cell_type": "code",
   "execution_count": 14,
   "metadata": {},
   "outputs": [],
   "source": [
    "orientation_local = np.zeros_like(orientation)\n",
    "orientation_local[:, 0] = np.sum(e_r*orientation, axis=-1)\n",
    "orientation_local[:, 1] = np.sum(e_theta*orientation, axis=-1)\n",
    "orientation_local[:, 2] = orientation[:, 0]"
   ]
  },
  {
   "cell_type": "markdown",
   "metadata": {},
   "source": [
    "We then compute the matrix representation of the tensor\n",
    "$\\vec n_i\\otimes\\vec n_i$ in the local basis."
   ]
  },
  {
   "cell_type": "code",
   "execution_count": 15,
   "metadata": {},
   "outputs": [],
   "source": [
    "nxn = orientation_local[:, :, None]*orientation_local[:, None, :]\n",
    "labels = np.round(distance_to_boundary/4)*4\n",
    "indices = np.unique(labels)\n",
    "nxn_mean = np.array([[scipy.ndimage.mean(nxn[:, i, j], labels, indices)\n",
    "                      for j in range(3)] for i in range(3)])"
   ]
  },
  {
   "cell_type": "markdown",
   "metadata": {},
   "source": [
    "The resulting statistical descriptors are plotted in [Fig. 2](#fig02). Honestly,\n",
    "the results are not very conclusive. Both $\\langle n_r\\otimes n_r\\rangle$ and\n",
    "$\\langle n_\\theta\\otimes n_\\theta\\rangle$ seem to decrease rapidly over a\n",
    "distance of (roughly) 30 voxels. However, they both converge to a value which is\n",
    "non-zero."
   ]
  },
  {
   "cell_type": "code",
   "execution_count": 16,
   "metadata": {},
   "outputs": [
    {
     "name": "stderr",
     "output_type": "stream",
     "text": [
      "/usr/lib/python3/dist-packages/matplotlib/tight_layout.py:231: UserWarning: tight_layout : falling back to Agg renderer\n",
      "  warnings.warn(\"tight_layout : falling back to Agg renderer\")\n"
     ]
    }
   ],
   "source": [
    "fig = mpl.figure.Figure(figsize=(8, 6))\n",
    "ax = fig.add_subplot(1, 1, 1)\n",
    "ax.set_xlabel(r'$r\\;[\\mathrm{vox}]$')\n",
    "ax.set_ylabel(r'$\\langle n_i\\otimes n_i\\rangle$')\n",
    "ax.set_xlim(0, 200)\n",
    "\n",
    "ax.plot(indices, nxn_mean[0, 0],\n",
    "        label=r'$\\langle n_r\\otimes n_r\\rangle$')\n",
    "ax.plot(indices, nxn_mean[1, 1],\n",
    "        label=r'$\\langle n_\\theta\\otimes n_\\theta\\rangle$')\n",
    "ax.plot(indices, nxn_mean[2, 2],\n",
    "        label=r'$\\langle n_z\\otimes n_z\\rangle$')\n",
    "ax.legend(loc='upper left')\n",
    "\n",
    "fig.tight_layout()\n",
    "fig.savefig('boundary_effects.png', transparent=True)"
   ]
  },
  {
   "cell_type": "raw",
   "metadata": {},
   "source": [
    "<a name=\"fig02\"></a>\n",
    "![Boundary effects]({static}20160627-Orientation_correlations_among_rice_grains-08/boundary_effects.png){.figure}\n",
    "\n",
    "<figcaption>Figure&nbsp;2:&nbsp;Angular correlations with the orientation of the wall.</figcaption>"
   ]
  },
  {
   "cell_type": "markdown",
   "metadata": {},
   "source": [
    "## Conclusion\n",
    "\n",
    "This was the last post of this series on *Orientation correlations among rice\n",
    "grains*. This post was dedicated to the *quantification* of orientation\n",
    "correlations. To do so, we have recalled the definition of several statistical\n",
    "descriptors. These descriptors were then evaluated on the sample.\n",
    "\n",
    "The resulting values indeed indicate the existence of orientation\n",
    "correlations. However, further investigations should be carried out in order to\n",
    "draw reliable conclusions. In particular, the descriptors plotted in\n",
    "Figs. [1](#fig01) and [2](#fig02) are histograms, and filtering of some sort\n",
    "should be used to smooth the curves. Besides, the analysis of [the first\n",
    "section](#S1) shows that the sample is globally anisotropic. This global\n",
    "anisotropy should be accounted for (“subtracted”) while analyzing local\n",
    "anisotropy. In short, the present post should be considered as a mere\n",
    "introduction to the matter and the relevant tools.\n",
    "\n",
    "Well, I hope you enjoyed this series! We initially set out to quantify\n",
    "orientation correlations in an assembly of rice grains. To do so, a fair amount\n",
    "of image analysis was required. We introduced\n",
    "[binning]({filename}20150330-Orientation_correlations_among_rice_grains-03.md),\n",
    "the [Hough\n",
    "transform]({filename}20150529-Orientation_correlations_among_rice_grains-04.md),\n",
    "[Otsu's\n",
    "method]({filename}20150709-Orientation_correlations_among_rice_grains-05.md), a\n",
    "dedicated seeding technique for the [watershed\n",
    "transform]({filename}20150930-Orientation_correlations_among_rice_grains-06.md)\n",
    "and the quantification of the\n",
    "[morphology]({filename}20160219-Orientation_correlations_among_rice_grains-07.md)\n",
    "of the grains. All these techniques have a wide range of applications, which\n",
    "goes far beyond the analysis of rice grains!"
   ]
  }
 ],
 "metadata": {
  "kernelspec": {
   "display_name": "Python 3",
   "language": "python",
   "name": "python3"
  },
  "language_info": {
   "codemirror_mode": {
    "name": "ipython",
    "version": 3
   },
   "file_extension": ".py",
   "mimetype": "text/x-python",
   "name": "python",
   "nbconvert_exporter": "python",
   "pygments_lexer": "ipython3",
   "version": "3.7.5"
  }
 },
 "nbformat": 4,
 "nbformat_minor": 2
}
