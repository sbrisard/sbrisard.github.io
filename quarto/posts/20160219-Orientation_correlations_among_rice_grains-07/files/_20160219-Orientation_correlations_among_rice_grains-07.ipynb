{
 "cells": [
  {
   "cell_type": "raw",
   "metadata": {},
   "source": [
    "Title: Orientation correlations among rice grains, part 7: analysis of the shape of the grains\n",
    "Date: 2016-02-19\n",
    "Category: Image analysis\n",
    "UseKaTeX: True"
   ]
  },
  {
   "cell_type": "markdown",
   "metadata": {},
   "source": [
    "$\\newcommand{\\tens}{\\mathbf}\\newcommand{\\D}{\\mathrm{d}}$"
   ]
  },
  {
   "cell_type": "markdown",
   "metadata": {},
   "source": [
    "In the [previous\n",
    "instalment]({filename}20150930-Orientation_correlations_among_rice_grains-06.md)\n",
    "of this series, we have segmented the 3D image of the assembly of rice\n",
    "grains. In other words, each voxel of the image is attributed the label of the\n",
    "grain to which it belongs. Remember the [initial\n",
    "goal]({filename}20150223-Orientation_correlations_among_rice_grains-01.md) of\n",
    "this series: we want to quantify orientation *correlations* between grains. To\n",
    "do so, we must analyse the orientation of each individual grain. This is the\n",
    "topic of the present post."
   ]
  },
  {
   "cell_type": "markdown",
   "metadata": {},
   "source": [
    "It is customary to define the orientation of an elongated object by means of the\n",
    "eigenvectors of the tensor of second moments, defined as follows"
   ]
  },
  {
   "cell_type": "markdown",
   "metadata": {},
   "source": [
    "<a name=\"eq01\"></a>\n",
    "$$J_{ij} = \\int_\\text{Grain}\\bigl(x_i-X_i\\bigr)\\bigl(x_j-X_j\\bigr)\\D x_1\\,\\D x_2\\,\\D x_3,\\tag{1}$$"
   ]
  },
  {
   "cell_type": "markdown",
   "metadata": {},
   "source": [
    "where the integral is carried out over the grain, and $X_i$ denotes the $i$-th\n",
    "coordinate of the grain's center of mass"
   ]
  },
  {
   "cell_type": "markdown",
   "metadata": {},
   "source": [
    "$$X_i = \\frac1V\\int_\\text{Grain}x_i\\,\\D x_1\\,\\D x_2\\,\\D x_3$$"
   ]
  },
  {
   "cell_type": "markdown",
   "metadata": {},
   "source": [
    "($V$: volume of the grain). In coordinate-free form, Eq. [(1)](#eq01) reads"
   ]
  },
  {
   "cell_type": "markdown",
   "metadata": {},
   "source": [
    "$$\\tens J=\\int_\\text{Grain}\\bigl(\\vec x-\\vec X\\bigr)\\otimes\\bigl(\\vec x-\\vec X\\bigr)\\D x_1\\,\\D x_2\\,\\D x_3.$$"
   ]
  },
  {
   "cell_type": "markdown",
   "metadata": {},
   "source": [
    "The above defined tensor of second moments is related to the [inertia\n",
    "tensor](https://en.wikipedia.org/wiki/Moment_of_inertia#The_inertia_tensor)\n",
    "$\\tens I$"
   ]
  },
  {
   "cell_type": "markdown",
   "metadata": {},
   "source": [
    "<a name=\"eq02\"></a>\n",
    "$$\\tens I=\\operatorname{tr}\\tens J\\,\\tens\\delta-\\tens J,\\tag{2}$$"
   ]
  },
  {
   "cell_type": "markdown",
   "metadata": {},
   "source": [
    "where $\\tens I$ is defined as follows"
   ]
  },
  {
   "cell_type": "markdown",
   "metadata": {},
   "source": [
    "$$\\tens I=\\int_\\text{Grain}\\bigl[\\bigl(\\vec x-\\vec X\\bigr)\\cdot\\bigl(\\vec x-\\vec X\\bigr)\\tens\\delta-\\bigl(\\vec x-\\vec X\\bigr)\\otimes\\bigl(\\vec x-\\vec X\\bigr)\\bigr]\\D x_1\\,\\D x_2\\,\\D x_3.$$"
   ]
  },
  {
   "cell_type": "markdown",
   "metadata": {},
   "source": [
    "Being symmetric, the tensor $\\tens J$ of second moments is diagonalizable, and\n",
    "we compute its eigenvalues $J_a$, $J_b$ and $J_c$, and the associated\n",
    "eigenvectors $\\vec v_a$, $\\vec v_b$ and $\\vec v_c$"
   ]
  },
  {
   "cell_type": "markdown",
   "metadata": {},
   "source": [
    "$$\\tens J\\cdot\\vec v_\\alpha=J_\\alpha\\vec v_\\alpha,$$"
   ]
  },
  {
   "cell_type": "markdown",
   "metadata": {},
   "source": [
    "where $\\alpha=a, b, c$. In the present post, we define the orientation of the\n",
    "grain as the eigenvector associated to the *largest* eigenvalue.  We can further\n",
    "define the equivalent ellipsoid as the ellipsoid with same volume and principal\n",
    "second moments. It can readily be verified that the volume and principal second\n",
    "moments of an ellipsoid are"
   ]
  },
  {
   "cell_type": "markdown",
   "metadata": {},
   "source": [
    "$$V=\\frac{4\\pi}3 abc,\\quad J_a=\\frac{Va^2}5,\\quad J_b=\\frac{Vb^2}5,\\quad J_c=\\frac{Vc^2}5,$$"
   ]
  },
  {
   "cell_type": "markdown",
   "metadata": {},
   "source": [
    "where $a$, $b$ and $c$ are the radii of the ellipsoid. The above expressions can\n",
    "be retrieved from\n",
    "[Wikipedia](https://en.wikipedia.org/wiki/Ellipsoid#Dynamical_properties) and\n",
    "Eq. [(2)](#eq02). For example"
   ]
  },
  {
   "cell_type": "markdown",
   "metadata": {},
   "source": [
    "$$J_a = \\frac12\\bigl(I_b+I_c-I_a\\bigr).$$"
   ]
  },
  {
   "cell_type": "markdown",
   "metadata": {},
   "source": [
    "Then, the radii of the equivalent ellipsoid are retrieved as follows from the\n",
    "volume $V$ and the principal second moments $J_a$, $J_b$ and $J_c$ of the\n",
    "grain"
   ]
  },
  {
   "cell_type": "markdown",
   "metadata": {},
   "source": [
    "$$a=\\sqrt{\\frac{5I_a}V},\\quad b=\\sqrt{\\frac{5I_b}V},\\quad c=\\sqrt{\\frac{5I_c}V}.$$"
   ]
  },
  {
   "cell_type": "markdown",
   "metadata": {},
   "source": [
    "The radii of the equivalent ellipsoid can be used to characterize the size of\n",
    "the grains. In the present post, we [compute for each\n",
    "grain](#morphological_description): the volume, the center of mass, the tensor\n",
    "of second moments, the orientation and the radii of the equivalent ellipsoid. We\n",
    "will then perform rudimentary analysis of these morphological parameters."
   ]
  },
  {
   "cell_type": "markdown",
   "metadata": {},
   "source": [
    "As usual, we will use Python to carry out the dirty work. We will start with a\n",
    "[very naive approach](#direct_computation) and present a nearly [loop-free\n",
    "approach](#using_sum) using the clever `scipy.ndimage.sum` function. We start\n",
    "with loading the segmented images."
   ]
  },
  {
   "cell_type": "code",
   "execution_count": 1,
   "metadata": {},
   "outputs": [],
   "source": [
    "import os.path\n",
    "\n",
    "import h5py\n",
    "import matplotlib as mpl\n",
    "import matplotlib.figure\n",
    "import numpy as np\n",
    "import scipy.ndimage\n",
    "\n",
    "#plt.style.use('../include/zenburn-light.mplstyle')\n",
    "\n",
    "filename = os.path.join(\"/media/sf_sbrisard/Documents/tmp/rice-bin_4x4x4.hdf5\")\n",
    "\n",
    "with h5py.File(filename, \"r\") as f:\n",
    "    labels = np.asarray(f[\"labels\"])\n",
    "\n",
    "indices = np.unique(labels)\n",
    "# Discard index 0, which is the background\n",
    "indices = indices[1:]"
   ]
  },
  {
   "cell_type": "markdown",
   "metadata": {},
   "source": [
    "<a name=\"morphological_description\"></a>\n",
    "## Morphological description of the grains"
   ]
  },
  {
   "cell_type": "markdown",
   "metadata": {},
   "source": [
    "<a name=\"direct_computation\"></a>\n",
    "### Direct computation of the morphological parameters of grain 42"
   ]
  },
  {
   "cell_type": "markdown",
   "metadata": {},
   "source": [
    "The direct (naive) approach presented in this section will serve as a reference\n",
    "for a [better approach](#using_sum) presented in the next section. It will be\n",
    "illustrated on one grain only (namely grain\n",
    "[42](https://en.wikipedia.org/wiki/42_%2528number%2529#The_Hitchhiker.27s_Guide_to_the_Galaxy)),\n",
    "which we first locate. The remainder of the analysis is then restricted to a ROI\n",
    "surrounding the selected grain."
   ]
  },
  {
   "cell_type": "code",
   "execution_count": 2,
   "metadata": {},
   "outputs": [],
   "source": [
    "index = 42\n",
    "slices = scipy.ndimage.find_objects(labels)[index-1]\n",
    "roi = labels[slices]"
   ]
  },
  {
   "cell_type": "markdown",
   "metadata": {},
   "source": [
    "The grain shape is then defined by `mask`, an array of booleans, where all\n",
    "voxels of the ROI that belong to the grain are set to `True`."
   ]
  },
  {
   "cell_type": "code",
   "execution_count": 3,
   "metadata": {},
   "outputs": [],
   "source": [
    "mask = roi == index"
   ]
  },
  {
   "cell_type": "markdown",
   "metadata": {},
   "source": [
    "The volume (in voxels) of the grain is the sum of the above array"
   ]
  },
  {
   "cell_type": "code",
   "execution_count": 4,
   "metadata": {},
   "outputs": [
    {
     "name": "stdout",
     "output_type": "stream",
     "text": [
      "Volume of grain 42 = 7087 vox^3.\n"
     ]
    }
   ],
   "source": [
    "vol_ref = mask.sum()\n",
    "print('Volume of grain {} = {} vox^3.'.format(index, vol_ref))"
   ]
  },
  {
   "cell_type": "markdown",
   "metadata": {},
   "source": [
    "To compute the center of mass and inertia of the grain, we must define the\n",
    "coordinates of each voxel of the grain. To do so, we use the\n",
    "[mgrid](http://docs.scipy.org/doc/numpy/reference/generated/numpy.mgrid.html)\n",
    "function"
   ]
  },
  {
   "cell_type": "code",
   "execution_count": 5,
   "metadata": {},
   "outputs": [],
   "source": [
    "coords = np.mgrid[slices].astype(np.float64)"
   ]
  },
  {
   "cell_type": "markdown",
   "metadata": {},
   "source": [
    "The center of mass of the grain is the sum of these coordinates divided by the\n",
    "total volume"
   ]
  },
  {
   "cell_type": "code",
   "execution_count": 6,
   "metadata": {},
   "outputs": [
    {
     "name": "stdout",
     "output_type": "stream",
     "text": [
      "Center of mass of grain 42 = [  4.92069987 191.41597291 103.69183011] vox\n"
     ]
    }
   ],
   "source": [
    "com_ref = np.sum(mask*coords, axis=(-1, -2, -3))/vol_ref\n",
    "print('Center of mass of grain {} = {} vox'.format(index, com_ref))"
   ]
  },
  {
   "cell_type": "markdown",
   "metadata": {},
   "source": [
    "Note that we pre-multiplied `coords` by `mask` in order to keep only those\n",
    "voxels that belong to the grain. To compute the inertia of the grain, we first\n",
    "subtract the coordinates of the center of mass from the voxel coordinates."
   ]
  },
  {
   "cell_type": "code",
   "execution_count": 7,
   "metadata": {},
   "outputs": [],
   "source": [
    "coords -= com_ref[:, None, None, None]"
   ]
  },
  {
   "cell_type": "markdown",
   "metadata": {},
   "source": [
    "We then compute the array of coordinates cross-products `coords_xprod` defined\n",
    "as follows"
   ]
  },
  {
   "cell_type": "markdown",
   "metadata": {},
   "source": [
    "```python\n",
    "coords_xprod[m, n, i, j, k] = coords[m, i, j, k]*coords[n, i, j, k]\n",
    "```"
   ]
  },
  {
   "cell_type": "markdown",
   "metadata": {},
   "source": [
    "(`i, j, k`: voxel indices; `m, n`: coordinates indices). The `coords_xprod`\n",
    "array is produced by the following line of code"
   ]
  },
  {
   "cell_type": "code",
   "execution_count": 8,
   "metadata": {},
   "outputs": [],
   "source": [
    "coords_xprod = coords[None, ...]*coords[:, None, ...]"
   ]
  },
  {
   "cell_type": "markdown",
   "metadata": {},
   "source": [
    "and we find"
   ]
  },
  {
   "cell_type": "code",
   "execution_count": 9,
   "metadata": {},
   "outputs": [
    {
     "name": "stdout",
     "output_type": "stream",
     "text": [
      "Moments of inertia of grain 42 (vox^5)\n",
      "[[ 71603.43332863 -45107.22322562 -71060.19147735]\n",
      " [-45107.22322562 426435.7118668  181708.48483138]\n",
      " [-71060.19147735 181708.48483138 880736.95696345]]\n"
     ]
    }
   ],
   "source": [
    "moments2_ref = np.sum(mask*coords_xprod, axis=(-1, -2,-3))\n",
    "print('Moments of inertia of grain {} (vox^5)'.format(index))\n",
    "print(moments2_ref)"
   ]
  },
  {
   "cell_type": "markdown",
   "metadata": {},
   "source": [
    "This is a bit tedious, isn't it? Besides, we should normally loop over the\n",
    "grains in order to carry out the analysis for all grains. Comes the wonderful\n",
    "[scipy.ndimage.sum](http://docs.scipy.org/doc/scipy/reference/generated/scipy.ndimage.sum.html)\n",
    "function to the rescue!"
   ]
  },
  {
   "cell_type": "markdown",
   "metadata": {},
   "source": [
    "<a name=\"using_sum\"></a>\n",
    "### Using the `scipy.ndimage.sum` function"
   ]
  },
  {
   "cell_type": "markdown",
   "metadata": {},
   "source": [
    "This function will allow us to carry out the analysis over all grains\n",
    "simultaneously. We start with the volume, which is seen as"
   ]
  },
  {
   "cell_type": "markdown",
   "metadata": {},
   "source": [
    "$$V=\\sum_\\text{Grain} 1,$$"
   ]
  },
  {
   "cell_type": "markdown",
   "metadata": {},
   "source": [
    "where the sum is carried over all voxels of each grain."
   ]
  },
  {
   "cell_type": "code",
   "execution_count": 10,
   "metadata": {},
   "outputs": [],
   "source": [
    "ones = np.ones_like(labels, dtype=np.float64)\n",
    "vol = scipy.ndimage.sum(ones, labels, indices)"
   ]
  },
  {
   "cell_type": "markdown",
   "metadata": {},
   "source": [
    "And we can check that the value we found for grain 42 is correct"
   ]
  },
  {
   "cell_type": "code",
   "execution_count": 11,
   "metadata": {},
   "outputs": [
    {
     "name": "stdout",
     "output_type": "stream",
     "text": [
      "Volume of grain 42\n",
      "    expected   = 7087\n",
      "    actual     = 7087.0\n"
     ]
    }
   ],
   "source": [
    "print('Volume of grain {}'.format(index))\n",
    "print('    expected   = {}'.format(vol_ref))\n",
    "print('    actual     = {}'.format(vol[index-1]))"
   ]
  },
  {
   "cell_type": "markdown",
   "metadata": {},
   "source": [
    "For the center of mass, we will use the\n",
    "[center_of_mass](http://docs.scipy.org/doc/scipy/reference/generated/scipy.ndimage.center_of_mass.html)\n",
    "function rather than the\n",
    "[sum](http://docs.scipy.org/doc/scipy/reference/generated/scipy.ndimage.sum.html)\n",
    "function."
   ]
  },
  {
   "cell_type": "code",
   "execution_count": 12,
   "metadata": {},
   "outputs": [
    {
     "name": "stdout",
     "output_type": "stream",
     "text": [
      "Center of mass of grain 42\n",
      "    expected   = [  4.92069987 191.41597291 103.69183011]\n",
      "    actual     = [  4.92069987 191.41597291 103.69183011]\n"
     ]
    }
   ],
   "source": [
    "com = np.asarray(scipy.ndimage.center_of_mass(ones, labels, indices))\n",
    "print('Center of mass of grain {}'.format(index))\n",
    "print('    expected   = {}'.format(com_ref))\n",
    "print('    actual     = {}'.format(com[index-1]))"
   ]
  },
  {
   "cell_type": "markdown",
   "metadata": {},
   "source": [
    "Finally, the second moments are seen as the following sum"
   ]
  },
  {
   "cell_type": "markdown",
   "metadata": {},
   "source": [
    "$$J_{ij}=\\sum_\\text{Grain}(x_i-X_i)(x_j-X_j)=\\sum_\\text{Grain}x_ix_j-VX_iX_j,$$"
   ]
  },
  {
   "cell_type": "markdown",
   "metadata": {},
   "source": [
    "where the last identity is known as the [parallel axis\n",
    "theorem](https://en.wikipedia.org/wiki/Parallel_axis_theorem). Implementation\n",
    "of this formulation is straightforward, starting from the construction of the\n",
    "array of voxel coordinates `coords`."
   ]
  },
  {
   "cell_type": "code",
   "execution_count": 13,
   "metadata": {},
   "outputs": [],
   "source": [
    "coords = np.mgrid[[slice(n) for n in labels.shape]]\n",
    "moments2 = np.empty((indices.size, 3, 3), dtype=np.float64)\n",
    "\n",
    "for i in range(3):\n",
    "    for j in range(3):\n",
    "        xi, xj = coords[(i, j), :]\n",
    "        moments2[:, i, j] = (scipy.ndimage.sum(xi*xj, labels, indices) -\n",
    "                             vol*com[:, i]*com[:, j])"
   ]
  },
  {
   "cell_type": "markdown",
   "metadata": {},
   "source": [
    "**Nota:** I could not find a pythonic way to get rid of this uggly nested loop…"
   ]
  },
  {
   "cell_type": "markdown",
   "metadata": {},
   "source": [
    "We can again check that the result is correct for grain 42."
   ]
  },
  {
   "cell_type": "code",
   "execution_count": 14,
   "metadata": {},
   "outputs": [
    {
     "name": "stdout",
     "output_type": "stream",
     "text": [
      "Second moments of grain 42\n",
      "    expected =\n",
      "[[ 71603.43332863 -45107.22322562 -71060.19147735]\n",
      " [-45107.22322562 426435.7118668  181708.48483138]\n",
      " [-71060.19147735 181708.48483138 880736.95696345]]\n",
      "    actual =\n",
      "[[ 71603.43332863 -45107.22322562 -71060.19147735]\n",
      " [-45107.22322562 426435.7118668  181708.48483139]\n",
      " [-71060.19147735 181708.48483139 880736.95696346]]\n"
     ]
    }
   ],
   "source": [
    "print('Second moments of grain {}'.format(index))\n",
    "print('    expected =')\n",
    "print(moments2_ref)\n",
    "print('    actual =')\n",
    "print(moments2[index-1])"
   ]
  },
  {
   "cell_type": "markdown",
   "metadata": {},
   "source": [
    "That's it! We have computed the second moments of each grain. See how this `sum`\n",
    "function is convenient? We are now ready to compute the orientation of each\n",
    "grain, as well as the radii of the equivalent ellipsoid. We first compute the\n",
    "eigenvalues and eigenvectors of the tensors of second moments."
   ]
  },
  {
   "cell_type": "code",
   "execution_count": 15,
   "metadata": {},
   "outputs": [],
   "source": [
    "moments2_eigvals, moments2_eigvecs = np.linalg.eig(moments2)"
   ]
  },
  {
   "cell_type": "markdown",
   "metadata": {},
   "source": [
    "The *orientation* $\\vec n$ of the grain is defined as the eigenvector associated\n",
    "with the largest principal second moment."
   ]
  },
  {
   "cell_type": "code",
   "execution_count": 19,
   "metadata": {},
   "outputs": [
    {
     "name": "stdout",
     "output_type": "stream",
     "text": [
      "[[ 0.01955891  0.05286465 -0.99841012]\n",
      " [-0.17300079 -0.67355818 -0.71860288]\n",
      " [-0.49498664 -0.84077194  0.21929608]\n",
      " ...\n",
      " [-0.14766036  0.2963219  -0.94360466]\n",
      " [ 0.          1.          0.        ]\n",
      " [-0.1722074   0.98321974  0.06019601]]\n"
     ]
    }
   ],
   "source": [
    "i = np.argmax(moments2_eigvals, axis=1)\n",
    "rows = moments2.shape[0]\n",
    "n = moments2_eigvecs[np.arange(rows), 0:3, i]\n",
    "print(n)"
   ]
  },
  {
   "cell_type": "markdown",
   "metadata": {},
   "source": [
    "The following code snippet computes the radii of each grain, and sorts them in\n",
    "ascending order."
   ]
  },
  {
   "cell_type": "code",
   "execution_count": 20,
   "metadata": {},
   "outputs": [],
   "source": [
    "radius = np.sort(np.sqrt(5*moments2_eigvals/vol[:, None]))"
   ]
  },
  {
   "cell_type": "markdown",
   "metadata": {},
   "source": [
    "We can now proceed with the analysis of the results. This will be done more\n",
    "thoroughly in the next instalment of this series. The present post will be\n",
    "restricted to basic analyses. But first of all, it is time to save our results!"
   ]
  },
  {
   "cell_type": "raw",
   "metadata": {},
   "source": [
    "with h5py.File(filename, 'r+') as f:\n",
    "    f['volume'] = vol\n",
    "    f['center_of_mass'] = com\n",
    "    f['radii'] = radius\n",
    "    f['orientation'] = n"
   ]
  },
  {
   "cell_type": "markdown",
   "metadata": {},
   "source": [
    "## Analysis of the results"
   ]
  },
  {
   "cell_type": "markdown",
   "metadata": {},
   "source": [
    "### Volume of grains"
   ]
  },
  {
   "cell_type": "code",
   "execution_count": 24,
   "metadata": {},
   "outputs": [
    {
     "name": "stderr",
     "output_type": "stream",
     "text": [
      "/usr/lib/python3/dist-packages/matplotlib/tight_layout.py:231: UserWarning: tight_layout : falling back to Agg renderer\n",
      "  warnings.warn(\"tight_layout : falling back to Agg renderer\")\n"
     ]
    }
   ],
   "source": [
    "fig = mpl.figure.Figure(figsize=(8, 3))\n",
    "ax = fig.add_subplot(1, 1, 1)\n",
    "ax.set_xlabel(u'V (vox³)')\n",
    "ax.set_ylabel('Number')\n",
    "ax.hist(vol, range=(0, 12000), bins=30, linewidth=0)\n",
    "fig.tight_layout()\n",
    "fig.savefig('./volume_histogram.png', transparent=True)"
   ]
  },
  {
   "cell_type": "raw",
   "metadata": {},
   "source": [
    "![Volume]({static}20160219-Orientation_correlations_among_rice_grains-07/volume_histogram.png){.figure}"
   ]
  },
  {
   "cell_type": "markdown",
   "metadata": {},
   "source": [
    "Most grains have a volume comprised between 6000 and 8000 vox³. It is observed\n",
    "that a significant number of grains are very small. There are two possible\n",
    "explanations for this"
   ]
  },
  {
   "cell_type": "markdown",
   "metadata": {},
   "source": [
    "1. some grains where broken in smaller pieces,\n",
    "2. our\n",
    "   [segmentation](20150930-Orientation_correlations_among_rice_grains-06.org)\n",
    "   was not perfect (over-segmentation might have occured)."
   ]
  },
  {
   "cell_type": "markdown",
   "metadata": {},
   "source": [
    "My guess is that it is in fact a little bit of both. One possible remedy would\n",
    "be to filter out those grains that are too small in the subsequent analysis. We\n",
    "will not go into such degree of refinment."
   ]
  },
  {
   "cell_type": "markdown",
   "metadata": {},
   "source": [
    "### Size of the grains"
   ]
  },
  {
   "cell_type": "markdown",
   "metadata": {},
   "source": [
    "In this section we visualize the radii of the equivalent ellipsoids"
   ]
  },
  {
   "cell_type": "code",
   "execution_count": 25,
   "metadata": {},
   "outputs": [
    {
     "name": "stderr",
     "output_type": "stream",
     "text": [
      "/usr/lib/python3/dist-packages/matplotlib/tight_layout.py:231: UserWarning: tight_layout : falling back to Agg renderer\n",
      "  warnings.warn(\"tight_layout : falling back to Agg renderer\")\n"
     ]
    }
   ],
   "source": [
    "fig = mpl.figure.Figure(figsize=(8, 3))\n",
    "ax = fig.add_subplot(1, 1, 1)\n",
    "ax.hist(radius[:, -1], range=(0, 40), bins=40, linewidth=0)\n",
    "ax.set_xlabel('a (vox)')\n",
    "ax.set_ylabel('Number')\n",
    "fig.tight_layout()\n",
    "fig.savefig('radius_a_histogram.png', transparent=True)\n",
    "\n",
    "fig = mpl.figure.Figure(figsize=(8, 3))\n",
    "ax = fig.add_subplot(1, 1, 1)\n",
    "ax.hist((radius[:, -2], radius[:-1]), range=(0, 20), bins=20, linewidth=0)\n",
    "ax.set_xlabel('b, c (vox)')\n",
    "ax.set_ylabel('Number')\n",
    "fig.tight_layout()\n",
    "fig.savefig('radii_b_c_histogram.png', transparent=True)"
   ]
  },
  {
   "cell_type": "raw",
   "metadata": {},
   "source": [
    "![Radius a]({static}20160219-Orientation_correlations_among_rice_grains-07/radius_a_histogram.png)"
   ]
  },
  {
   "cell_type": "raw",
   "metadata": {},
   "source": [
    "![Radius b, c]({static}20160219-Orientation_correlations_among_rice_grains-07/radii_b_c_histogram.png)"
   ]
  },
  {
   "cell_type": "markdown",
   "metadata": {},
   "source": [
    "The length of most grains is about 2×27=54 pixels (about 6.5 mm). Also, the\n",
    "grains are *not* spheroids: indeed $b\\neq c$."
   ]
  },
  {
   "cell_type": "markdown",
   "metadata": {},
   "source": [
    "### Orientation of grains"
   ]
  },
  {
   "cell_type": "markdown",
   "metadata": {},
   "source": [
    "This will be the topic of the next instalment of this series. We will only check\n",
    "for possible anisotropy by analysing the following second-order orientation\n",
    "tensor: $\\langle\\vec n\\otimes\\vec n\\rangle$, where angle brackets stand for\n",
    "ensemble average. It can readily be verified that for isotropic distributions,\n",
    "this tensor is diagonal"
   ]
  },
  {
   "cell_type": "markdown",
   "metadata": {},
   "source": [
    "$$\\langle\\vec n\\otimes\\vec n\\rangle=\n",
    "\\frac 13\n",
    "\\begin{bmatrix}\n",
    "1 & 0 & 0\\\\\\\\\n",
    "0 & 1 & 0\\\\\\\\\n",
    "0 & 0 & 1\n",
    "\\end{bmatrix}.$$"
   ]
  },
  {
   "cell_type": "markdown",
   "metadata": {},
   "source": [
    "Any deviation from this diagonal tensor indicates anisotropy (the converse is\n",
    "*not* true!). Computation of this orientation tensor is easy"
   ]
  },
  {
   "cell_type": "code",
   "execution_count": 26,
   "metadata": {},
   "outputs": [
    {
     "name": "stdout",
     "output_type": "stream",
     "text": [
      "[[ 0.27082401  0.02535001 -0.02444013]\n",
      " [ 0.02535001  0.34864242 -0.00637534]\n",
      " [-0.02444013 -0.00637534  0.38053357]]\n"
     ]
    }
   ],
   "source": [
    "nn = n[:, None, :]*n[:, :, None]\n",
    "nn_avg = nn.mean(axis=0)\n",
    "print(nn_avg)"
   ]
  },
  {
   "cell_type": "markdown",
   "metadata": {},
   "source": [
    "Which shows that the distribution of grains is *not* isotropic. Analysis\n",
    "of the eigenvalues of the orientation tensor would show that the\n",
    "vertical direction is in fact a direction of anisotropy (which should\n",
    "not come as a surprise)… but we will leave it like that for now!"
   ]
  },
  {
   "cell_type": "markdown",
   "metadata": {},
   "source": [
    "## Conclusion"
   ]
  },
  {
   "cell_type": "markdown",
   "metadata": {},
   "source": [
    "In this post, we have analysed the orientation of each grain. The orientation\n",
    "was defined as the orientation of the major axis of the equivalent ellipsoid. We\n",
    "are now ready to analyse orientation correlations among rice grains, which will\n",
    "be the topic of the [next\n",
    "instalment]({filename}20160627-Orientation_correlations_among_rice_grains-08.md)."
   ]
  }
 ],
 "metadata": {
  "kernelspec": {
   "display_name": "Python 3",
   "language": "python",
   "name": "python3"
  },
  "language_info": {
   "codemirror_mode": {
    "name": "ipython",
    "version": 3
   },
   "file_extension": ".py",
   "mimetype": "text/x-python",
   "name": "python",
   "nbconvert_exporter": "python",
   "pygments_lexer": "ipython3",
   "version": "3.7.5"
  }
 },
 "nbformat": 4,
 "nbformat_minor": 2
}
