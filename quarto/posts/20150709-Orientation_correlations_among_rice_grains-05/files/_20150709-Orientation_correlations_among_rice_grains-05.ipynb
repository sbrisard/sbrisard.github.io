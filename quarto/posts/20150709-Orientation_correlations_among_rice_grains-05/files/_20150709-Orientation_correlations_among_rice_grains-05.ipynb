{
 "cells": [
  {
   "cell_type": "raw",
   "metadata": {},
   "source": [
    "Title: Orientation correlations among rice grains, part 5: thresholding\n",
    "Date: 2015-07-09 Thu\n",
    "Category: Image analysis\n",
    "UseKaTeX: True"
   ]
  },
  {
   "cell_type": "markdown",
   "metadata": {},
   "source": [
    "In the [previous\n",
    "instalment]({filename}20150529-Orientation_correlations_among_rice_grains-04.md)\n",
    "of this series, we used the circle Hough transform to find the boundary of the\n",
    "sample and define the circular ROI. Within this ROI, we now need to segment the\n",
    "rice grains. In other words, starting from a gray-level image ([Fig. 1](#fig01),\n",
    "left), we want to produce a binary image, where all pixels that we believe\n",
    "belong to rice grains are white, and all background pixels are black\n",
    "([Fig. 1](#fig01), right). This is the topic of the present post, where we will\n",
    "use Otsu's automated threshold selection. I will first discuss Otsu's method,\n",
    "and propose what I believe is a new interpretation of this rather old technique.\n",
    "Then, I will apply this method to the 3D image of rice grains, using\n",
    "[scikit-image](http://scikit-image.org/)."
   ]
  },
  {
   "cell_type": "raw",
   "metadata": {},
   "source": [
    "<a name=\"fig01\"></a>\n",
    "![Gray-level vs. thresholded images]({static}20150709-Orientation_correlations_among_rice_grains-05/rice-bin_4x4x4-initial_vs_thresholded-099.png){.figure}\n",
    "\n",
    "<figcaption>Figure&nbsp;1&nbsp;&ndash;&nbsp;The original (left) and thresholded (right) images.</figcaption>\n"
   ]
  },
  {
   "cell_type": "markdown",
   "metadata": {},
   "source": [
    "## Plotting the image's histogram"
   ]
  },
  {
   "cell_type": "markdown",
   "metadata": {},
   "source": [
    "Before we dig into Otsu's method, we will first draw the histogram of the\n",
    "original image shown in [Fig. 1](#fig01) (left), remembering that the boundary\n",
    "was found in the [previous\n",
    "instalment]({filename}20150529-Orientation_correlations_among_rice_grains-04.md)\n",
    "to be a circle centered at `(219, 217)`, with radius `208`. The following Python\n",
    "code computes and saves the histogram as a SVG file, which is displayed in\n",
    "[Fig. 2](#fig02)."
   ]
  },
  {
   "cell_type": "code",
   "execution_count": 1,
   "metadata": {},
   "outputs": [
    {
     "name": "stderr",
     "output_type": "stream",
     "text": [
      "/usr/lib/python3/dist-packages/matplotlib/tight_layout.py:231: UserWarning: tight_layout : falling back to Agg renderer\n",
      "  warnings.warn(\"tight_layout : falling back to Agg renderer\")\n"
     ]
    }
   ],
   "source": [
    "import os.path\n",
    "\n",
    "import numpy as np\n",
    "import matplotlib as mpl\n",
    "import matplotlib.pyplot as plt\n",
    "\n",
    "from skimage.draw import circle\n",
    "from skimage.io import imread\n",
    "\n",
    "root = \".\"\n",
    "\n",
    "img = imread(os.path.join(root, \"rice-bin_4x4x4-099.tif\"))\n",
    "rows, cols = circle(219, 217, 208)\n",
    "\n",
    "mpl.style.use(os.path.join(root, \"sb-blog.mplstyle\"))\n",
    "fig = mpl.figure.Figure(figsize=(8, 3))\n",
    "ax = fig.add_subplot(1, 1, 1)\n",
    "h, bins, patches = ax.hist(img[rows, cols], bins=256, range=(0, 256),\n",
    "                           histtype='stepfilled',\n",
    "                           color='b', alpha=0.5, linewidth=0)\n",
    "ax.set_xlabel('Gray value')\n",
    "ax.set_ylabel('Pixel count')\n",
    "ax.set_xlim(0, 250)\n",
    "ax.xaxis.set_minor_locator(mpl.ticker.AutoMinorLocator(5))\n",
    "fig.tight_layout()\n",
    "fig.savefig(os.path.join(root, 'rice-bin_4x4x4-hist-099.svg'),\n",
    "            transparent=True)"
   ]
  },
  {
   "cell_type": "raw",
   "metadata": {},
   "source": [
    "<a name=\"fig02\"></a>\n",
    "![Histogram of the original image]({static}20150709-Orientation_correlations_among_rice_grains-05/rice-bin_4x4x4-hist-099.svg){.figure}\n",
    "\n",
    "<figcaption>\n",
    "Figure&nbsp;2:&nbsp;Histogram of the original image shown in <a href=\"#fig01\">Fig.&nbsp;1</a> (left).\n",
    "</figcaption>\n"
   ]
  },
  {
   "cell_type": "markdown",
   "metadata": {},
   "source": [
    "It is observed that this histogram is relatively well suited to\n",
    "thresholding. Indeed, it exhibits two peaks which are fairly well-separated, and\n",
    "the pixel counts between these peaks are rather small. However, these pixel\n",
    "counts never go to zero, which means that no matter the threshold, the\n",
    "thresholded image will always be wrong!"
   ]
  },
  {
   "cell_type": "markdown",
   "metadata": {},
   "source": [
    "# Otsu's method"
   ]
  },
  {
   "cell_type": "markdown",
   "metadata": {},
   "source": [
    "Otsu's method ([Otsu, 1979](https://doi.org/10.1109/TSMC.1979.4310076)) is a\n",
    "popular thresholding technique. It is quite effective on simple images, when the\n",
    "histogram has two well separated peaks. Otsu\\'s optimum threshold is often\n",
    "presented as (quoted from\n",
    "[Wikipedia](https://en.wikipedia.org/wiki/Otsu%27s_method))"
   ]
  },
  {
   "cell_type": "markdown",
   "metadata": {},
   "source": [
    "> separating the two classes so that their combined spread (intra-class\n",
    "> variance) is minimal, or equivalently (because the sum of pairwise squared\n",
    "> distances is constant), so that their inter-class variance is maximal."
   ]
  },
  {
   "cell_type": "markdown",
   "metadata": {},
   "source": [
    "I have always found this definition non-intuitive. Why should maximizing the\n",
    "intra-class variance return a satisfactorily thresholded image?  Well, I came to\n",
    "develop my own understanding of Otsu's method."
   ]
  },
  {
   "cell_type": "markdown",
   "metadata": {},
   "source": [
    "We start with the original (noisy) image, which will be considered as a map\n",
    "$f\\colon E\\to\\{0,\\ldots,L-1\\}$ from the set $E$ of pixels to the set\n",
    "$\\{0,\\ldots,L-1\\}$ of gray levels ($L$ denotes the total number of gray\n",
    "levels). It should be noted that in Otsu's original paper\n",
    "([1979](https://doi.org/10.1109/TSMC.1979.4310076)), the gray levels span\n",
    "$\\{1,\\ldots,L\\}$ rather than $\\{0,\\ldots,L-1\\}$: the convention adopted here is\n",
    "more in line with standard images."
   ]
  },
  {
   "cell_type": "markdown",
   "metadata": {},
   "source": [
    "We want to find the “best” binary approximation of $f$, in the sense of\n",
    "Problem 1 defined below."
   ]
  },
  {
   "cell_type": "markdown",
   "metadata": {},
   "source": [
    "<a name=\"pb01\"></a>\n",
    "**Problem 1:** Find two gray levels $g_0$ and $g_1$, and the map\n",
    "$g\\colon E\\to\\{g_0, g_1\\}$ that minimizes the distance"
   ]
  },
  {
   "cell_type": "markdown",
   "metadata": {},
   "source": [
    "$$d(f, g)^2=\\sum_{x\\in E}\\left[f(x)-g(x)\\right]^{2}.$$"
   ]
  },
  {
   "cell_type": "markdown",
   "metadata": {},
   "source": [
    "At this point, it should be noted that the above choice of distance will result\n",
    "in $g$ being the maximum likelihood estimator of $f$ in the presence of Gaussian\n",
    "noise (a common assumption in image analysis – even if noise rather follows a\n",
    "Poisson distribution on real detectors).  It can readily be verified that\n",
    "[Problem 1](#pb01) in fact reduces to Otsu's method! To prove this assertion, we\n",
    "need to rewrite this problem. Let $g$ denote its solution. Then, for all $x,\n",
    "y\\in E$"
   ]
  },
  {
   "cell_type": "markdown",
   "metadata": {},
   "source": [
    "<a name=\"eq01\"></a>\n",
    "$$f(x) = f(y)\\quad\\Rightarrow\\quad g(x)=g(y),\\tag{1}$$"
   ]
  },
  {
   "cell_type": "markdown",
   "metadata": {},
   "source": [
    "<a name=\"eq02\"></a>\n",
    "$$f(x) < f(y)\\quad\\Rightarrow\\quad g(x) \\leq g(y).\\tag{2}$$"
   ]
  },
  {
   "cell_type": "markdown",
   "metadata": {},
   "source": [
    "The proof of the above assertions can be found in the appendices [see\n",
    "proof](#proof01) of assertion [(1)](#eq01) and [proof](#proof02) of assertion\n",
    "[(2)](#eq02). Assertion [(1)](#eq01) proves that $g(x)$ depends on the gray\n",
    "value of $x$ in image $f$, not on the pixel $x$ itself. Therefore,\n",
    "[Problem 1](#pb01) leads to a histogram based segmentation method. Assuming $g_0\n",
    "< g_1$, we then define $k$ as follows"
   ]
  },
  {
   "cell_type": "markdown",
   "metadata": {},
   "source": [
    "<a name=\"eq03\"></a>\n",
    "$$k=\\max\\{f(x), x\\in E,g(x)=g_0\\},\\tag{3}$$"
   ]
  },
  {
   "cell_type": "markdown",
   "metadata": {},
   "source": [
    "and obviously"
   ]
  },
  {
   "cell_type": "markdown",
   "metadata": {},
   "source": [
    "<a name=\"eq04\"></a>\n",
    "$$g(x)=g_0\\quad\\Rightarrow\\quad f(x)\\leq k.\\tag{4}$$"
   ]
  },
  {
   "cell_type": "markdown",
   "metadata": {},
   "source": [
    "Conversely, from assertions [(1)](#eq01) and [(2)](#eq02),"
   ]
  },
  {
   "cell_type": "markdown",
   "metadata": {},
   "source": [
    "<a name=\"eq05\"></a>\n",
    "$$g(x)=g_1\\quad\\Rightarrow\\quad f(x) > k.\\tag{5}$$"
   ]
  },
  {
   "cell_type": "markdown",
   "metadata": {},
   "source": [
    "As a conclusion, the optimum function $g$ is defined as follows from $k$, $g_0$\n",
    "and $g_1$"
   ]
  },
  {
   "cell_type": "markdown",
   "metadata": {},
   "source": [
    "<a name=\"eq06\"></a>\n",
    "$$g(x)=g_0\\quad\\text{if }f(x)\\leq k,\\tag{6a}$$\n",
    "$$g(x)=g_1\\quad\\text{if }f(x) > k,\\tag{6b}$$"
   ]
  },
  {
   "cell_type": "markdown",
   "metadata": {},
   "source": [
    "and $k$ appears as a threshold. Therefore, [Problem 1](#pb01) effectively\n",
    "reduces to a thresholding problem, and an equivalent formulation is given below."
   ]
  },
  {
   "cell_type": "markdown",
   "metadata": {},
   "source": [
    "<a name=\"pb02\"></a> **Problem 2:** Find the threshold $k$ and two gray levels\n",
    "$g_0$ and $g_1$ that minimize"
   ]
  },
  {
   "cell_type": "markdown",
   "metadata": {},
   "source": [
    "<a name=\"eq07\"></a>\n",
    "$$J_3(k, g_0, g_1)=\\sum_{\\alpha=0,1}\\sum_{x\\in C_\\alpha(k)}\\left[f(x)-g_\\alpha)\\right]^{2},\\tag{7}$$"
   ]
  },
  {
   "cell_type": "markdown",
   "metadata": {},
   "source": [
    "where"
   ]
  },
  {
   "cell_type": "markdown",
   "metadata": {},
   "source": [
    "<a name=\"eq08\"></a>\n",
    "$$C_0(k)=\\\\{x\\in E, f(x) < k\\\\},\\tag{8}$$"
   ]
  },
  {
   "cell_type": "markdown",
   "metadata": {},
   "source": [
    "<a name=\"eq09\"></a>\n",
    "$$C_1(k)=\\\\{x\\in E, f(x) \\geq k\\\\}.\\tag{9}$$"
   ]
  },
  {
   "cell_type": "markdown",
   "metadata": {},
   "source": [
    "The solution to [Problem 1](#pb01) is retrieved from the solution to\n",
    "[Problem 2](#pb02) by means of Eq. [(6)](#eq06). It should be noted that\n",
    "optimization of $J_3$ with respect to $g_0$ and $g_1$ is trivial, and we find\n",
    "that $g_\\alpha=\\mu_\\alpha(k)$, where $\\mu_\\alpha(k)$ is the average gray\n",
    "level in class $C_\\alpha(k)$"
   ]
  },
  {
   "cell_type": "markdown",
   "metadata": {},
   "source": [
    "<a name=\"eq10\"></a>\n",
    "$$\\mu_\\alpha(k)=\\frac1{N_\\alpha(k)}\\sum_{x\\in C_\\alpha(k)}f(x),\\tag{10}$$"
   ]
  },
  {
   "cell_type": "markdown",
   "metadata": {},
   "source": [
    "where $N_\\alpha(k)$ is the number of pixels in class $C_\\alpha(k)$. We are\n",
    "therefore left with the following minimization problem."
   ]
  },
  {
   "cell_type": "markdown",
   "metadata": {},
   "source": [
    "<a name=\"pb03\"></a>\n",
    "**Problem 3:** Find $k$ that minimizes"
   ]
  },
  {
   "cell_type": "markdown",
   "metadata": {},
   "source": [
    "<a name=\"eq11\"></a>\n",
    "$$J(k)=\\sum_{\\alpha=0,1}\\sum_{x\\in C_\\alpha(k)}\\bigl[f(x)-\\mu_\\alpha(k)\\bigr]^{2}.\\tag{11}$$"
   ]
  },
  {
   "cell_type": "markdown",
   "metadata": {},
   "source": [
    "To prove that the minimizer of $J$ is exactly Otsu's threshold, we first expand\n",
    "Eq. [(11)](#eq11) (omitting the dependency of $C_\\alpha$ and $N_\\alpha$ with\n",
    "respect to $k$)"
   ]
  },
  {
   "cell_type": "markdown",
   "metadata": {},
   "source": [
    "<a name=\"eq12\"></a>\n",
    "$$J(k)=\\sum_{x\\in E}f(x)^2-\\bigl(N_0\\mu_0^2+N_1\\mu_1^2\\bigr).\\tag{12}$$"
   ]
  },
  {
   "cell_type": "markdown",
   "metadata": {},
   "source": [
    "Introducing the total number of pixels $N=N_0+N_1$, we have"
   ]
  },
  {
   "cell_type": "markdown",
   "metadata": {},
   "source": [
    "$$N_0\\mu_0^2+N_1\\mu_1^2=\\frac 1N\\bigl(N_0^2\\mu_0^2+N_1^2\\mu_1^2+N_0N_1\\bigl(\\mu_0^2+\\mu_1^2\\bigr)\\bigr)$$"
   ]
  },
  {
   "cell_type": "markdown",
   "metadata": {},
   "source": [
    "<a name=\"eq13\"></a>\n",
    "$$=\\frac1N\\bigl[\\bigl(N_0\\mu_0+N_1\\mu_1\\bigr)^2+N_0N_1\\bigl(\\mu_0-\\mu_1\\bigr)^2\\bigr].\\tag{13}$$"
   ]
  },
  {
   "cell_type": "markdown",
   "metadata": {},
   "source": [
    "From Eq. [(10)](#eq10), we have"
   ]
  },
  {
   "cell_type": "markdown",
   "metadata": {},
   "source": [
    "<a name=\"eq14\"></a>\n",
    "$$N_0\\mu_0+N_1\\mu_1=\\sum_\\alpha\\sum_{x\\in C_\\alpha}f(x)=N\\mu,\\tag{14}$$"
   ]
  },
  {
   "cell_type": "markdown",
   "metadata": {},
   "source": [
    "where $\\mu$ is the total average gray value. Gathering Eqs. [(12)](#eq12),\n",
    "[(13)](#eq13) and [(14)](#eq14) and introducing $\\omega_\\alpha=N_\\alpha/N$\n",
    "($\\alpha=0, 1$) we finally find"
   ]
  },
  {
   "cell_type": "markdown",
   "metadata": {},
   "source": [
    "$$J(k)=\\sum_{x\\in E}f(x)^2-N\\mu^2-\\frac{N_0N_1}N\\bigl(\\mu_0-\\mu_1\\bigr)^2$$"
   ]
  },
  {
   "cell_type": "markdown",
   "metadata": {},
   "source": [
    "<a name=\"eq15\"></a>\n",
    "$$=\\sum_{x\\in E}\\bigl[f(x)-\\mu\\bigr]^2-N\\omega_0\\omega_1\\bigl(\\mu_0-\\mu_1\\bigr)^2.\\tag{15}$$"
   ]
  },
  {
   "cell_type": "markdown",
   "metadata": {},
   "source": [
    "In the above expression, the sum over all pixels of the image is\n",
    "constant. Therefore, minimizing $J$ is equivalent to maximizing"
   ]
  },
  {
   "cell_type": "markdown",
   "metadata": {},
   "source": [
    "<a name=\"eq16\"></a>\n",
    "$$\\omega_0\\omega_1\\bigl(\\mu_0-\\mu_1\\bigr)^2.\\tag{16}$$"
   ]
  },
  {
   "cell_type": "markdown",
   "metadata": {},
   "source": [
    "This is exactly how Otsu's threshold is defined! [see [Otsu,\n",
    "1979](https://doi.org/10.1109/TSMC.1979.4310076), Eq. (14)] To sum up, we\n",
    "started with [Problem 1](#pb01): find the best binary approximation of a\n",
    "specified image. We showed that the best binary approximation was to be found\n",
    "amongst the class of thresholded images (see [Problem 2](#pb02) and\n",
    "[Problem 3](#pb03)). Then, the optimum threshold was found to coincide with\n",
    "Otsu's. In that sense, Otsu's method is equivalent to [Problem 1](#pb01)."
   ]
  },
  {
   "cell_type": "markdown",
   "metadata": {},
   "source": [
    "It is interesting to realize that there is a connection between Otsu's method\n",
    "and the Mumford–Shah functional ([Mumford and Shah,\n",
    "1989](https://doi.org/10.1002/cpa.3160420503)). Indeed, Mumford and Shah also\n",
    "seek the best binary (or more generally, $n$-component) approximation of an\n",
    "image in the $L^2$ sense. However, their cost function also penalizes the total\n",
    "variation as well as the total length of the interfaces. As such, segmentation\n",
    "techniques based on the Mumford--Shah functional are not histogram-based."
   ]
  },
  {
   "cell_type": "markdown",
   "metadata": {},
   "source": [
    "## Thresholding the whole stack of images"
   ]
  },
  {
   "cell_type": "markdown",
   "metadata": {},
   "source": [
    "In the present section, we will first compute the threshold based on the\n",
    "histogram of the whole stack. [skimage](http://scikit-image.org/) does implement\n",
    "[threshold_otsu](http://scikit-image.org/docs/dev/api/skimage.filters.html#threshold-otsu),\n",
    "and we will make use of this function. Attention must be paid to the fact that\n",
    "for each slice, the analysis must be restricted to a circular ROI."
   ]
  },
  {
   "cell_type": "markdown",
   "metadata": {},
   "source": [
    "We first load all binned slices, and recover the parameters of the circular\n",
    "boundaries of each ROI, from the [previous\n",
    "instalment]({filename}20150529-Orientation_correlations_among_rice_grains-04.md)."
   ]
  },
  {
   "cell_type": "code",
   "execution_count": 4,
   "metadata": {},
   "outputs": [
    {
     "name": "stdout",
     "output_type": "stream",
     "text": [
      "Loaded 172 images.\n"
     ]
    }
   ],
   "source": [
    "import os.path\n",
    "\n",
    "import numpy as np\n",
    "\n",
    "from skimage.draw import circle\n",
    "from skimage.filters import threshold_otsu\n",
    "from skimage.io import imread, imsave\n",
    "from skimage.util import img_as_ubyte\n",
    "\n",
    "previous_post = '20150529-Orientation_correlations_among_rice_grains-04'\n",
    "circle_params = np.load(os.path.join('..', previous_post,\n",
    "                                     'circle_params.npy'))\n",
    "\n",
    "num_slices = circle_params.shape[0]\n",
    "root = \"/media/sf_sbrisard/Documents/tmp\"\n",
    "name = os.path.join(root, 'bin_4x4x4', 'rice-bin_4x4x4-{0:03d}.tif')\n",
    "images = [imread(name.format(i)) for i in range(num_slices)]\n",
    "\n",
    "print('Loaded {} images.'.format(len(images)))"
   ]
  },
  {
   "cell_type": "markdown",
   "metadata": {},
   "source": [
    "We then concatenate in `pixel_values` the gray levels of all pixels\n",
    "located inside the relevant ROI."
   ]
  },
  {
   "cell_type": "code",
   "execution_count": 5,
   "metadata": {},
   "outputs": [
    {
     "name": "stdout",
     "output_type": "stream",
     "text": [
      "Concatenated 23342700 pixel values.\n"
     ]
    }
   ],
   "source": [
    "pixel_values = []\n",
    "\n",
    "for img, params in zip(images, circle_params):\n",
    "    rows, cols = circle(*params)\n",
    "    pixel_values.append(img[rows, cols].ravel())\n",
    "\n",
    "pixel_values = np.concatenate(pixel_values)\n",
    "print('Concatenated {} pixel values.'.format(pixel_values.shape[0]))"
   ]
  },
  {
   "cell_type": "markdown",
   "metadata": {},
   "source": [
    "This concatenated array is then passed to `threshold_otsu` to compute the\n",
    "threshold."
   ]
  },
  {
   "cell_type": "code",
   "execution_count": 6,
   "metadata": {},
   "outputs": [
    {
     "name": "stdout",
     "output_type": "stream",
     "text": [
      "Otsu's threshold = 126.\n"
     ]
    }
   ],
   "source": [
    "threshold = threshold_otsu(pixel_values)\n",
    "print(\"Otsu's threshold = {}.\".format(threshold))"
   ]
  },
  {
   "cell_type": "markdown",
   "metadata": {},
   "source": [
    "Finally, the images are thresholded and saved"
   ]
  },
  {
   "cell_type": "code",
   "execution_count": 8,
   "metadata": {},
   "outputs": [],
   "source": [
    "basename = 'rice-bin_4x4x4-otsu_{0}-{1:03d}.tif'\n",
    "names = [os.path.join(root, 'bin_4x4x4-otsu', basename.format(threshold, i))\n",
    "         for i in range(num_slices)]\n",
    "\n",
    "for img, params, name in zip(images, circle_params, names):\n",
    "    rows, cols = circle(*params)\n",
    "    mask = np.zeros_like(img, dtype=np.bool)\n",
    "    mask[rows, cols] = True\n",
    "    binary = np.logical_and(img > threshold, mask)\n",
    "    imsave(name, img_as_ubyte(binary))"
   ]
  },
  {
   "cell_type": "markdown",
   "metadata": {},
   "source": [
    "The above script produces a series of binary images called\n",
    "`rice-bin_4x4x4-otsu_XXX-YYY.tif`, where `XXX` denotes the threshold, and `YYY`\n",
    "is the slice number. An example of such thresholded image is given in\n",
    "[Fig. 1](#fig01) (right)."
   ]
  },
  {
   "cell_type": "markdown",
   "metadata": {},
   "source": [
    "## Closing words"
   ]
  },
  {
   "cell_type": "markdown",
   "metadata": {},
   "source": [
    "In this post, we have used Otsu's method to threshold the 3D image of the rice\n",
    "grains. This is only the first step towards segmentation of this image, though,\n",
    "as we would like to label all rice grains. This will be the topic of the [next\n",
    "post]({filename}20150930-Orientation_correlations_among_rice_grains-06.md)."
   ]
  },
  {
   "cell_type": "markdown",
   "metadata": {},
   "source": [
    "In the present post, I also presented an alternative derivation of Otsu's\n",
    "method. I believe this derivation is original, but I might be wrong. So please,\n",
    "do leave a comment to let me know what you think about this presentation."
   ]
  },
  {
   "cell_type": "markdown",
   "metadata": {},
   "source": [
    "## Appendix"
   ]
  },
  {
   "cell_type": "markdown",
   "metadata": {},
   "source": [
    "<a name=\"proof01\"></a>\n",
    "### Proof of assertion [(1)](#eq01)"
   ]
  },
  {
   "cell_type": "markdown",
   "metadata": {},
   "source": [
    "This assertion is proved by contradiction. Let us assume that there exists two\n",
    "pixels $x$ and $y$ ($x\\neq y$) with same value in the original image\n",
    "[$f(x)=f(y)$] and different values in the binary approximation [$g(x)\\neq\n",
    "g(y)$]. We select $g_2\\in\\{g(x),g(y)\\}=\\{g_0, g_1\\}$ so that"
   ]
  },
  {
   "cell_type": "markdown",
   "metadata": {},
   "source": [
    "$$\\bigl(f(x)-g_2\\bigr)^2=\\bigl(f(y)-g_2\\bigr)^2$$"
   ]
  },
  {
   "cell_type": "markdown",
   "metadata": {},
   "source": [
    "$$=\\min\\bigl(\\bigl[f(x)-g(x)\\bigr]^2, \\bigl[f(y)-g(y)\\bigr]^2\\bigr),$$"
   ]
  },
  {
   "cell_type": "markdown",
   "metadata": {},
   "source": [
    "and"
   ]
  },
  {
   "cell_type": "markdown",
   "metadata": {},
   "source": [
    "<a name=\"eq17\"></a>\n",
    "$$\\bigl[f(x)-g_2\\bigr]^2+\\bigl[f(y)-g_2\\bigr]^2<\\bigl[f(x)-g(x)\\bigr]^2+\\bigl[f(y)-g(y)\\bigr]^2,\\tag{17}$$"
   ]
  },
  {
   "cell_type": "markdown",
   "metadata": {},
   "source": [
    "since $g(x)\\neq g(y)$. It should be noted that the above inequality is\n",
    "*strict*. We then define $\\tilde g\\colon E\\to\\{g_0,g_1\\}$ as follows:\n",
    "\n",
    "- $\\tilde g(x)=g_2$,\n",
    "- $\\tilde g(y)=g_2$,\n",
    "- $\\tilde g(z)=g(z)$ if $z\\neq x$ and $z\\neq y$."
   ]
  },
  {
   "cell_type": "markdown",
   "metadata": {},
   "source": [
    "Then, simple algebra leads to"
   ]
  },
  {
   "cell_type": "markdown",
   "metadata": {},
   "source": [
    "$$d(f,\\tilde g)^2-d(f,g)^2=\\bigl[f(x)-g_2\\bigr]^2+\\bigl[f(y)-g_2\\bigr]^2-\\bigl[f(x)-g(x)\\bigr]^2-\\bigl[f(y)-g(y)\\bigr]^2.$$"
   ]
  },
  {
   "cell_type": "markdown",
   "metadata": {},
   "source": [
    "From Eq. [(17)](#eq17), we then find $d(f,\\tilde g)^2 < d(f,g)^2$, which leads\n",
    "to a contradiction, since $g$ optimizes the distance to $f$. Thus,\n",
    "assertion [(1)](#eq01) is proved."
   ]
  },
  {
   "cell_type": "markdown",
   "metadata": {},
   "source": [
    "<a name=\"#proof02\"></a>\n",
    "### Proof of assertion [(2)](#eq02)"
   ]
  },
  {
   "cell_type": "markdown",
   "metadata": {},
   "source": [
    "This assertion is again proved by contradiction. Let us assume that there exists\n",
    "$x, y\\in E$ such that $f(x) < f(y)$ and $g(x) > g(y)$.  Then, simple algebra\n",
    "shows that"
   ]
  },
  {
   "cell_type": "markdown",
   "metadata": {},
   "source": [
    "$$\\bigl[f(x)-g(y)\\bigr]^2+\\bigl[f(y)-g(x)\\bigr]^2=\\bigl[f(x)-g(x)\\bigr]^2+\\bigl[f(y)-g(y)\\bigr]^2$$"
   ]
  },
  {
   "cell_type": "markdown",
   "metadata": {},
   "source": [
    "$$+2\\bigl[f(y)-f(x)\\bigr]\\bigl[g(y)-g(x)\\bigr],$$"
   ]
  },
  {
   "cell_type": "markdown",
   "metadata": {},
   "source": [
    "and the last term is negative. Proceeding as above, we then build $\\tilde g$ as\n",
    "follows:\n",
    "\n",
    "- $\\tilde{g}(x)=g(y)$,\n",
    "- $\\tilde{g}(y)=g(x)$,\n",
    "- $\\tilde{g}(z)=g(z)$ if $z\\neq x$ and $z\\neq y$."
   ]
  },
  {
   "cell_type": "markdown",
   "metadata": {},
   "source": [
    "Then"
   ]
  },
  {
   "cell_type": "markdown",
   "metadata": {},
   "source": [
    "$$d(f, \\tilde g)^2-d(f,g)^2=\\bigl[f(x)-g(y)\\bigr]^2+\\bigl[f(y)-g(x)\\bigr]^2$$"
   ]
  },
  {
   "cell_type": "markdown",
   "metadata": {},
   "source": [
    "$$-\\bigl[f(x)-g(x)\\bigr]^2-\\bigl[f(y)-g(y)\\bigr]^2,$$"
   ]
  },
  {
   "cell_type": "markdown",
   "metadata": {},
   "source": [
    "which is negative. Contradiction!"
   ]
  }
 ],
 "metadata": {
  "kernelspec": {
   "display_name": "Python 3",
   "language": "python",
   "name": "python3"
  },
  "language_info": {
   "codemirror_mode": {
    "name": "ipython",
    "version": 3
   },
   "file_extension": ".py",
   "mimetype": "text/x-python",
   "name": "python",
   "nbconvert_exporter": "python",
   "pygments_lexer": "ipython3",
   "version": "3.7.5"
  }
 },
 "nbformat": 4,
 "nbformat_minor": 2
}
