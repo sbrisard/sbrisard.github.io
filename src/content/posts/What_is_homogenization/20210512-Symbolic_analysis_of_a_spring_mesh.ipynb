{
 "cells": [
  {
   "cell_type": "raw",
   "metadata": {},
   "source": [
    "Title: Symbolic analysis of a spring mesh\n",
    "Date: 2021-05-12\n",
    "Category: Homogenization\n",
    "UseKaTeX: True\n"
   ]
  },
  {
   "cell_type": "markdown",
   "metadata": {},
   "source": [
    "In this post, we compute symbolic expressions of the apparent stiffness introduced in [this post]({filename}20210509-What_is_homogenization-05.md). Our goal is to find the solution to the general problem depicted below."
   ]
  },
  {
   "cell_type": "markdown",
   "metadata": {},
   "source": [
    "![The problem considered here]({static}What_is_homogenization/uniaxial_tension.png){.fig60p100}"
   ]
  },
  {
   "cell_type": "markdown",
   "metadata": {},
   "source": [
    "## Outline of the derivation\n",
    "\n",
    "We consider a simplified case, where the mesh is square and vertical and horizontal springs have equal stiffnesses. We use the same symbols an in the [previous post]({filename}20210509-What_is_homogenization-05.md). In particular, the stiffness of the diagonal springs is $k$, while the stiffness of the horizontal and vertical springs is $\\chi k$ ($\\chi$: dimensionless parameter)."
   ]
  },
  {
   "cell_type": "markdown",
   "metadata": {},
   "source": [
    "To compute the solution to this problem, we use a displacement-based approach relying on the minimization of the total potential energy, $\\Pi$. This energy is the difference between the strain energy, $\\mathcal U$ and the potential of external forces, $\\mathcal V$. Both $\\mathcal U$ and $\\mathcal V$ are functions of the nodal displacements, that must satisfy the essential boundary conditions. The numerous symmetries will also allow us to reduce the number of unknowns."
   ]
  },
  {
   "cell_type": "markdown",
   "metadata": {},
   "source": [
    "The derivation is carried out with the [Sympy](https://www.sympy.org) library, that we first import. Note that we will also use the [NumPy](https://numpy.org/) library to build arrays of Sympy expressions and use vectorized operations."
   ]
  },
  {
   "cell_type": "code",
   "execution_count": null,
   "metadata": {},
   "outputs": [],
   "source": [
    "import numpy as np\n",
    "import sympy"
   ]
  },
  {
   "cell_type": "markdown",
   "metadata": {},
   "source": [
    "We define a few common symbols, to be used in all subsequent derivations."
   ]
  },
  {
   "cell_type": "code",
   "execution_count": null,
   "metadata": {},
   "outputs": [],
   "source": [
    "Q = sympy.Symbol(\"Q\")  # intensity of the nodal forces\n",
    "\n",
    "χ = sympy.Symbol(\"chi\")\n",
    "χx = χ  # relative stiffness of the horizontal springs\n",
    "χy = χ  # relative stiffness of the vertical springs\n",
    "\n",
    "k = sympy.Symbol(\"k\")  # stiffness of diagonal springs\n",
    "kx = χx * k  # stiffness of the horizontal springs\n",
    "ky = χy * k  # stiffness of the vertical springs"
   ]
  },
  {
   "cell_type": "markdown",
   "metadata": {},
   "source": [
    "We also define the unit vectors that give the directions of each spring."
   ]
  },
  {
   "cell_type": "code",
   "execution_count": null,
   "metadata": {},
   "outputs": [],
   "source": [
    "θ = sympy.pi / 4\n",
    "one = sympy.Number(1)\n",
    "zero = sympy.Number(0)\n",
    "\n",
    "e1 = np.array([one, zero])  # direction of horizontal springs\n",
    "e2 = np.array([zero, one])  # direction of vertical springs\n",
    "d1 = np.array([sympy.cos(θ), sympy.sin(θ)])  # direction of diagonal springs (/)\n",
    "d2 = np.array([-sympy.cos(θ), sympy.sin(θ)])  # direction of diagonal springs (\\)"
   ]
  },
  {
   "cell_type": "markdown",
   "metadata": {},
   "source": [
    "We now define a few general functions to evaluate the potential energy of the system. These functions take an array `u` of nodal displacements as an input. More precisely, `u[i, j, 0]` and `u[i, j, 1]` are the horizontal and vertical components of the displacement of the node that is located at `(x = i⋅Δx, y = j⋅Δy)`."
   ]
  },
  {
   "cell_type": "markdown",
   "metadata": {},
   "source": [
    "### Strain energy"
   ]
  },
  {
   "cell_type": "markdown",
   "metadata": {},
   "source": [
    "In a previous post, we derived [the stiffness matrix of a linear spring]({filename}20201125-On_the_stiffness_matrix_of_a_linear_spring.md). This expression is used in the present post to evaluate the strain energy $\\mathcal U$ as the sum of the contributions of all springs"
   ]
  },
  {
   "cell_type": "markdown",
   "metadata": {},
   "source": [
    "$$\\mathcal U=\\sum_{i, j, k, l}\\tfrac12k_{ij,kl}\\bigl[\\bigl(\\vec u_{ij}-\\vec u_{kl}\\bigr)\\cdot\\vec n_{ij,kl}\\bigr]^2,$$"
   ]
  },
  {
   "cell_type": "markdown",
   "metadata": {},
   "source": [
    "where the sum runs over all pairs of nodes $(i, j)$ and $(k, l)$ that are connected by a spring, $k_{ij, kl}$ is the stiffness of the spring that connects node $(i, j)$ to node $(k, l)$ and $\\vec n_{ij, kl}$ is its direction (unit vector). Finally, $\\vec u_{ij}$ and $\\vec u_{kl}$ are the nodal displacements. The above formula is implemented as follows."
   ]
  },
  {
   "cell_type": "code",
   "execution_count": null,
   "metadata": {},
   "outputs": [],
   "source": [
    "def strain_energy(u):\n",
    "    N = u.shape[0] - 1\n",
    "    U = zero\n",
    "    for x in range(N + 1):\n",
    "        for y in range(N + 1):\n",
    "            # Horizontal springs\n",
    "            if x < N:\n",
    "                U += kx / 2 * (e1.dot(u[x + 1, y] - u[x, y])) ** 2\n",
    "            # Vertical springs\n",
    "            if y < N:\n",
    "                U += ky / 2 * (e2.dot(u[x, y + 1] - u[x, y])) ** 2\n",
    "            if (x < N) and (y < N):\n",
    "                U += k / 2 * (d1.dot(u[x + 1, y + 1] - u[x, y])) ** 2\n",
    "                U += k / 2 * (d2.dot(u[x, y + 1] - u[x + 1, y])) ** 2\n",
    "    return U"
   ]
  },
  {
   "cell_type": "markdown",
   "metadata": {},
   "source": [
    "### Potential of external forces"
   ]
  },
  {
   "cell_type": "markdown",
   "metadata": {},
   "source": [
    "The potential of external forces is the following sum"
   ]
  },
  {
   "cell_type": "markdown",
   "metadata": {},
   "source": [
    "$$\\mathcal V=\\sum_{i, j}\\vec Q_{ij}\\cdot\\vec u_{ij},$$"
   ]
  },
  {
   "cell_type": "markdown",
   "metadata": {},
   "source": [
    "where the sum runs over all nodes $(i, j)$ that are loaded and $\\vec Q_{ij}$ is the applied nodal force. In the present case, only nodes on the left and right boundaries are loaded"
   ]
  },
  {
   "cell_type": "markdown",
   "metadata": {},
   "source": [
    "$$\\mathcal V=\\sum_{j=0}^{\\mathcal N_y}w_jQ\\vec e_x\\cdot\\bigl(\\vec u_{N_x, j}-\\vec u_{0, j}\\bigr),$$"
   ]
  },
  {
   "cell_type": "markdown",
   "metadata": {},
   "source": [
    "where $w_0=w_{\\mathcal N_y}=\\frac12$ and $w_1=\\cdots=w_{\\mathcal N_y-1}=1$."
   ]
  },
  {
   "cell_type": "code",
   "execution_count": null,
   "metadata": {},
   "outputs": [],
   "source": [
    "def potential_external_forces(u):\n",
    "    N = u.shape[0] - 1\n",
    "    V = (u[-1, 0, 0] + u[-1, -1, 0] - u[0, 0, 0] - u[0, -1, 0]) / 2\n",
    "    for y in range(1, N):\n",
    "        V += u[-1, y, 0] - u[0, y, 0]\n",
    "    V *= Q\n",
    "    return V"
   ]
  },
  {
   "cell_type": "markdown",
   "metadata": {},
   "source": [
    "### Potential energy"
   ]
  },
  {
   "cell_type": "markdown",
   "metadata": {},
   "source": [
    " Minimization of the potential energy $\\Pi=\\mathcal U-\\mathcal V$ with respect to the unknown nodal displacements then delivers the solution."
   ]
  },
  {
   "cell_type": "code",
   "execution_count": null,
   "metadata": {},
   "outputs": [],
   "source": [
    "def potential_energy(u):\n",
    "    U = strain_energy(u)\n",
    "    V = potential_external_forces(u)\n",
    "    return U - V"
   ]
  },
  {
   "cell_type": "markdown",
   "metadata": {},
   "source": [
    "### Apparent stiffness"
   ]
  },
  {
   "cell_type": "markdown",
   "metadata": {},
   "source": [
    "The apparent stiffness was defined in the post that introduced [the representative volume element]({filename}20201208-What_is_homogenization-04.md). It is computed as the following ratio"
   ]
  },
  {
   "cell_type": "raw",
   "metadata": {},
   "source": [
    "$$\\tilde{A}\\_x^\\text{app}=\\frac{\\langle N\\_{xx}\\rangle}{\\langle\\varepsilon\\_{xx}\\rangle}$$"
   ]
  },
  {
   "cell_type": "markdown",
   "metadata": {},
   "source": [
    "where the macroscopic strain $\\langle\\varepsilon_{xx}\\rangle$ reads"
   ]
  },
  {
   "cell_type": "markdown",
   "metadata": {},
   "source": [
    "$$\\langle\\varepsilon_{xx}\\rangle=\\frac1{\\mathcal N_x\\mathcal N_y\\Delta x}\\sum_{j=0}^{\\mathcal N_y}w_j\\vec e_x⋅\\bigl(\\vec u_{\\mathcal N_x,j}-\\vec u_{0, j}\\bigr).$$"
   ]
  },
  {
   "cell_type": "markdown",
   "metadata": {},
   "source": [
    "Comparison with the potential of external forces delivers the following convenient expression"
   ]
  },
  {
   "cell_type": "markdown",
   "metadata": {},
   "source": [
    "$$\\langle\\varepsilon_{xx}\\rangle=\\frac{\\mathcal V}{Q\\mathcal N_x\\mathcal N_y\\Delta x}.$$"
   ]
  },
  {
   "cell_type": "markdown",
   "metadata": {},
   "source": [
    "The macroscopic membrane stress $\\langle N_{xx}\\rangle$ is given by"
   ]
  },
  {
   "cell_type": "markdown",
   "metadata": {},
   "source": [
    "$$\\langle N_{xx}\\rangle=\\frac Q{\\Delta y},$$"
   ]
  },
  {
   "cell_type": "markdown",
   "metadata": {},
   "source": [
    "which finally leads to the expression"
   ]
  },
  {
   "cell_type": "markdown",
   "metadata": {},
   "source": [
    "$$\\tilde{A}_x^\\text{app}\n",
    "=\\mathcal N_x\\mathcal N_y\\frac{\\Delta x}{\\Delta y}\\frac{Q^2}{\\mathcal V}\n",
    "=\\frac{\\mathcal N_x\\mathcal N_y}{\\tan\\theta}\\frac{Q^2}{\\mathcal V}.$$"
   ]
  },
  {
   "cell_type": "code",
   "execution_count": null,
   "metadata": {},
   "outputs": [],
   "source": [
    "def apparent_stiffness(u):\n",
    "    Nx, Ny = u.shape[0] - 1, u.shape[1] - 1\n",
    "    return Nx * Ny / sympy.tan(θ) * Q ** 2 / potential_external_forces(u)"
   ]
  },
  {
   "cell_type": "markdown",
   "metadata": {},
   "source": [
    "The above functions are used in the sections below to compute the solution for 1×1, 2×2 and 3×3 systems."
   ]
  },
  {
   "cell_type": "markdown",
   "metadata": {},
   "source": [
    "## The case of a 1×1 system\n",
    "\n",
    "Owing to the numerous symmetries of the system, the displacements of all nodes is fully defined from that of node $A$ (see below)."
   ]
  },
  {
   "cell_type": "markdown",
   "metadata": {},
   "source": [
    "![The 1×1 system]({static}What_is_homogenization/uniaxial_tension-1x1.png){.fig60p100}"
   ]
  },
  {
   "cell_type": "markdown",
   "metadata": {},
   "source": [
    "Indeed, we have\n",
    "\n",
    "$$u_{A_1} = -u_A,\\quad v_{A_1}=v_A,$$\n",
    "$$u_{A_2} = -u_A,\\quad v_{A_2}=-v_A,$$\n",
    "$$u_{A_3} = u_A,\\quad v_{A_3}=-v_A,$$\n",
    "\n",
    "where $u_M$ (resp. $v_M$) denotes the horizontal (resp. vertical) displacement of node $M$.\n",
    "\n",
    "The main unknowns are therefore $u_A$ and $v_A$."
   ]
  },
  {
   "cell_type": "code",
   "execution_count": null,
   "metadata": {},
   "outputs": [],
   "source": [
    "uA, vA = dofs = sympy.symbols(\"u_A, v_A\")"
   ]
  },
  {
   "cell_type": "markdown",
   "metadata": {},
   "source": [
    "The array of all nodal displacements is populated accordingly."
   ]
  },
  {
   "cell_type": "code",
   "execution_count": null,
   "metadata": {},
   "outputs": [],
   "source": [
    "u = np.empty((2, 2, 2), dtype=object)\n",
    "u[0, 0] = -uA, -vA  # Node A₂\n",
    "u[1, 0] = uA, -vA  # Node A₃\n",
    "u[0, 1] = -uA, vA  # Node A₁\n",
    "u[1, 1] = uA, vA  # Node A"
   ]
  },
  {
   "cell_type": "markdown",
   "metadata": {},
   "source": [
    "We find the following expression of the potential energy."
   ]
  },
  {
   "cell_type": "code",
   "execution_count": null,
   "metadata": {},
   "outputs": [],
   "source": [
    "U1 = sympy.expand(strain_energy(u))\n",
    "V1 = sympy.expand(potential_external_forces(u))\n",
    "Π1 = U1 - V1\n",
    "Π1"
   ]
  },
  {
   "cell_type": "markdown",
   "metadata": {},
   "source": [
    "The potential energy is stationary at equilibrium: this leads to the following equations"
   ]
  },
  {
   "cell_type": "code",
   "execution_count": null,
   "metadata": {},
   "outputs": [],
   "source": [
    "eqs = [Π1.diff(dof) for dof in dofs]\n",
    "for eq in eqs:\n",
    "    display(sympy.Eq(eq, zero))"
   ]
  },
  {
   "cell_type": "markdown",
   "metadata": {},
   "source": [
    "The solution to the above linear system is found below."
   ]
  },
  {
   "cell_type": "code",
   "execution_count": null,
   "metadata": {},
   "outputs": [],
   "source": [
    "sol = sympy.solve(eqs, dofs)\n",
    "for key, value in sol.items():\n",
    "    display(sympy.Eq(key, value.factor()))"
   ]
  },
  {
   "cell_type": "markdown",
   "metadata": {},
   "source": [
    "And we find the apparent stiffness"
   ]
  },
  {
   "cell_type": "code",
   "execution_count": null,
   "metadata": {},
   "outputs": [],
   "source": [
    "apparent_stiffness(u).subs(sol).factor()"
   ]
  },
  {
   "cell_type": "markdown",
   "metadata": {},
   "source": [
    "## The case of a 2×2 system\n",
    "\n",
    "We again exploit the symmetries of the system, assuming that the center node does not move. The displacements of all nodes is fully defined from that of node $A$, $B$ (that only moves vertically) and $C$ (that only moves horizontally)."
   ]
  },
  {
   "cell_type": "markdown",
   "metadata": {},
   "source": [
    "![The 2×2 system]({static}What_is_homogenization/uniaxial_tension-2x2.png){.fig60p100}"
   ]
  },
  {
   "cell_type": "markdown",
   "metadata": {},
   "source": [
    "The main unknowns are therefore $u_A$ and $v_A$, $v_B$ and $u_C$ and the array of nodal displacements can be populated."
   ]
  },
  {
   "cell_type": "code",
   "execution_count": null,
   "metadata": {},
   "outputs": [],
   "source": [
    "uA, vA, vB, uC = dofs = sympy.symbols(\"u_A v_A v_B u_C\")\n",
    "u = np.empty((3, 3, 2), dtype=object)\n",
    "u[0, 0] = -uA, -vA  # A₂\n",
    "u[1, 0] = zero, -vB  # B₁\n",
    "u[2, 0] = uA, -vA  # A₃\n",
    "u[0, 1] = -uC, zero  # C₁\n",
    "u[1, 1] = zero, zero  # O\n",
    "u[2, 1] = uC, zero  # C\n",
    "u[0, 2] = -uA, vA  # A₁\n",
    "u[1, 2] = zero, vB  # B\n",
    "u[2, 2] = uA, vA  # A"
   ]
  },
  {
   "cell_type": "markdown",
   "metadata": {},
   "source": [
    "We again compute the potential energy."
   ]
  },
  {
   "cell_type": "code",
   "execution_count": null,
   "metadata": {},
   "outputs": [],
   "source": [
    "U2 = sympy.expand(strain_energy(u))\n",
    "V2 = sympy.expand(potential_external_forces(u))\n",
    "Π2 = U2 - V2\n",
    "Π2"
   ]
  },
  {
   "cell_type": "markdown",
   "metadata": {},
   "source": [
    "Stationarity of the potential energy leads to the following equations."
   ]
  },
  {
   "cell_type": "code",
   "execution_count": null,
   "metadata": {},
   "outputs": [],
   "source": [
    "eqs = [Π2.diff(dof) for dof in dofs]\n",
    "for eq in eqs:\n",
    "    display(sympy.Eq(eq, zero))"
   ]
  },
  {
   "cell_type": "markdown",
   "metadata": {},
   "source": [
    "The solution to the above linear system is displayed below."
   ]
  },
  {
   "cell_type": "code",
   "execution_count": null,
   "metadata": {},
   "outputs": [],
   "source": [
    "sol = sympy.solve(eqs, dofs)\n",
    "for key, value in sol.items():\n",
    "    display(sympy.Eq(key, value.factor()))"
   ]
  },
  {
   "cell_type": "markdown",
   "metadata": {},
   "source": [
    "Finally, we get the apparent stiffness."
   ]
  },
  {
   "cell_type": "code",
   "execution_count": null,
   "metadata": {},
   "outputs": [],
   "source": [
    "apparent_stiffness(u).subs(sol).factor()"
   ]
  },
  {
   "cell_type": "markdown",
   "metadata": {},
   "source": [
    "## The case of a 3×3 system\n",
    "\n",
    "For 3×3 systems, the displacements of all nodes are fully defined from the displacements of nodes $A$, $B$, $C$ and $D$."
   ]
  },
  {
   "cell_type": "markdown",
   "metadata": {},
   "source": [
    "![The 3×3 system]({static}What_is_homogenization/uniaxial_tension-3x3.png){.fig60p100}"
   ]
  },
  {
   "cell_type": "markdown",
   "metadata": {},
   "source": [
    "The main unknowns are therefore $u_A$, $v_A$, $u_B$, $v_B$, $u_C$, $v_C$, $u_D$ and $v_D$."
   ]
  },
  {
   "cell_type": "code",
   "execution_count": null,
   "metadata": {},
   "outputs": [],
   "source": [
    "uA, vA, uB, vB, uC, vC, uD, vD = dofs = sympy.symbols(\"u_A v_A u_B v_B u_C v_C u_D v_D\")\n",
    "u = np.empty((4, 4, 2), dtype=object)\n",
    "\n",
    "u[0, 0] = -uA, -vA  # A₂\n",
    "u[1, 0] = -uB, -vB  # B₂\n",
    "u[2, 0] = uB, -vB  # B₃\n",
    "u[3, 0] = uA, -vA  # A₃\n",
    "\n",
    "u[0, 1] = -uC, -vC  # C₂\n",
    "u[1, 1] = -uD, -vD  # D₂\n",
    "u[2, 1] = uD, -vD  # D₃\n",
    "u[3, 1] = uC, -vC  # C₃\n",
    "\n",
    "u[0, 2] = -uC, vC  # C₁\n",
    "u[1, 2] = -uD, vD  # D₁\n",
    "u[2, 2] = uD, vD  # D\n",
    "u[3, 2] = uC, vC  # C\n",
    "\n",
    "u[0, 3] = -uA, vA  # A₁\n",
    "u[1, 3] = -uB, vB  # B₁\n",
    "u[2, 3] = uB, vB  # B\n",
    "u[3, 3] = uA, vA  # A"
   ]
  },
  {
   "cell_type": "markdown",
   "metadata": {},
   "source": [
    "We find the potential energy"
   ]
  },
  {
   "cell_type": "code",
   "execution_count": null,
   "metadata": {},
   "outputs": [],
   "source": [
    "U3 = sympy.expand(strain_energy(u))\n",
    "V3 = sympy.expand(potential_external_forces(u))\n",
    "Π3 = U3 - V3\n",
    "Π3"
   ]
  },
  {
   "cell_type": "markdown",
   "metadata": {},
   "source": [
    "the equations"
   ]
  },
  {
   "cell_type": "code",
   "execution_count": null,
   "metadata": {},
   "outputs": [],
   "source": [
    "eqs = [Π3.diff(dof) for dof in dofs]\n",
    "for eq in eqs:\n",
    "    display(sympy.Eq(eq, zero))"
   ]
  },
  {
   "cell_type": "markdown",
   "metadata": {},
   "source": [
    "and the nodal displacements"
   ]
  },
  {
   "cell_type": "code",
   "execution_count": null,
   "metadata": {},
   "outputs": [],
   "source": [
    "sol = sympy.solve(eqs, dofs)\n",
    "for key, value in sol.items():\n",
    "    display(sympy.Eq(key, value.factor()))"
   ]
  },
  {
   "cell_type": "markdown",
   "metadata": {},
   "source": [
    "Finally, we get the apparent stiffness."
   ]
  },
  {
   "cell_type": "code",
   "execution_count": null,
   "metadata": {},
   "outputs": [],
   "source": [
    "apparent_stiffness(u).subs(sol).factor()"
   ]
  }
 ],
 "metadata": {
  "kernelspec": {
   "display_name": "Python 3",
   "language": "python",
   "name": "python3"
  },
  "language_info": {
   "codemirror_mode": {
    "name": "ipython",
    "version": 3
   },
   "file_extension": ".py",
   "mimetype": "text/x-python",
   "name": "python",
   "nbconvert_exporter": "python",
   "pygments_lexer": "ipython3",
   "version": "3.7.9"
  }
 },
 "nbformat": 4,
 "nbformat_minor": 4
}
