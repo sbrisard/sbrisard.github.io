{
 "cells": [
  {
   "cell_type": "markdown",
   "metadata": {},
   "source": [
    "# Effective stiffness of a spring mesh"
   ]
  },
  {
   "cell_type": "code",
   "execution_count": null,
   "metadata": {},
   "outputs": [],
   "source": [
    "import sympy"
   ]
  },
  {
   "cell_type": "code",
   "execution_count": null,
   "metadata": {},
   "outputs": [],
   "source": [
    "sympy.init_printing(use_latex=\"mathjax\")"
   ]
  },
  {
   "cell_type": "code",
   "execution_count": null,
   "metadata": {},
   "outputs": [],
   "source": [
    "x1, x2, h, k, k_d, λ, μ = sympy.symbols(r\"x1, x2, h, k, k_\\mathrm{d} lambda mu\")"
   ]
  },
  {
   "cell_type": "code",
   "execution_count": null,
   "metadata": {},
   "outputs": [],
   "source": [
    "ε11, ε22, ε12, ω = sympy.symbols(\"varepsilon11 varepsilon22 varepsilon12 omega\")\n",
    "\n",
    "def u(x1, x2):\n",
    "    return sympy.Matrix((ε11*x1+(ε12+ω)*x2, (ε12-ω)*x1+ε22*x2))\n"
   ]
  },
  {
   "cell_type": "code",
   "execution_count": null,
   "metadata": {},
   "outputs": [],
   "source": [
    "e1 = sympy.Matrix((1, 0))\n",
    "e2 = sympy.Matrix((0, 1))\n",
    "\n",
    "s = sympy.sqrt(2)/2\n",
    "d1 = sympy.Matrix([s, s])\n",
    "d2 = sympy.Matrix([-s, s])"
   ]
  },
  {
   "cell_type": "code",
   "execution_count": null,
   "metadata": {},
   "outputs": [],
   "source": [
    "terms = [\n",
    "    k/2*(e1.dot(u(x1+h, x2)-u(x1, x2)))**2,\n",
    "    k/2*(e1.dot(u(x1-h, x2)-u(x1, x2)))**2,\n",
    "    k/2*(e2.dot(u(x1, x2+h)-u(x1, x2)))**2,\n",
    "    k/2*(e2.dot(u(x1, x2-h)-u(x1, x2)))**2,\n",
    "    k_d/2*(d1.dot(u(x1+h, x2+h)-u(x1, x2)))**2,\n",
    "    k_d/2*(d1.dot(u(x1-h, x2-h)-u(x1, x2)))**2,\n",
    "    k_d/2*(d2.dot(u(x1-h, x2+h)-u(x1, x2)))**2,\n",
    "    k_d/2*(d2.dot(u(x1+h, x2-h)-u(x1, x2)))**2,    \n",
    "]"
   ]
  },
  {
   "cell_type": "code",
   "execution_count": null,
   "metadata": {},
   "outputs": [],
   "source": [
    "U = sympy.expand(sum(terms)/2/h**2)\n",
    "U"
   ]
  },
  {
   "cell_type": "code",
   "execution_count": null,
   "metadata": {},
   "outputs": [],
   "source": [
    "C_act = sympy.Matrix([[k+k_d, k_d, 0], [k_d, k+k_d, 0], [0, 0, 2*k_d]])\n",
    "C_act"
   ]
  },
  {
   "cell_type": "code",
   "execution_count": null,
   "metadata": {},
   "outputs": [],
   "source": [
    "ε_vec = sympy.Matrix([ε11, ε22, sympy.sqrt(2)*ε12])"
   ]
  },
  {
   "cell_type": "code",
   "execution_count": null,
   "metadata": {},
   "outputs": [],
   "source": [
    "sympy.expand(ε_vec.dot(C_act@ε_vec)/2)"
   ]
  },
  {
   "cell_type": "code",
   "execution_count": null,
   "metadata": {},
   "outputs": [],
   "source": [
    "ε = sympy.Matrix([[ε11, ε12], [ε12, ε22]])\n",
    "ε"
   ]
  },
  {
   "cell_type": "code",
   "execution_count": null,
   "metadata": {},
   "outputs": [],
   "source": [
    "σ = λ*ε.trace()*sympy.eye(2)+2*μ*ε\n",
    "σ"
   ]
  },
  {
   "cell_type": "code",
   "execution_count": null,
   "metadata": {},
   "outputs": [],
   "source": [
    "U_eff = sympy.expand(sympy.trace(σ@ε.T)/2)"
   ]
  },
  {
   "cell_type": "code",
   "execution_count": null,
   "metadata": {},
   "outputs": [],
   "source": [
    "U_eff"
   ]
  },
  {
   "cell_type": "code",
   "execution_count": null,
   "metadata": {},
   "outputs": [],
   "source": [
    "C_exp = sympy.Matrix([[λ+2*μ, λ, 0], [λ, λ+2*μ, 0], [0, 0, 2*μ]])"
   ]
  },
  {
   "cell_type": "code",
   "execution_count": null,
   "metadata": {},
   "outputs": [],
   "source": [
    "sympy.expand(ε_vec.dot(C_exp@ε_vec)/2)"
   ]
  },
  {
   "cell_type": "code",
   "execution_count": null,
   "metadata": {},
   "outputs": [],
   "source": [
    "C_act"
   ]
  },
  {
   "cell_type": "code",
   "execution_count": null,
   "metadata": {},
   "outputs": [],
   "source": [
    "C_exp"
   ]
  }
 ],
 "metadata": {
  "kernelspec": {
   "display_name": "Python 3",
   "language": "python",
   "name": "python3"
  },
  "language_info": {
   "codemirror_mode": {
    "name": "ipython",
    "version": 3
   },
   "file_extension": ".py",
   "mimetype": "text/x-python",
   "name": "python",
   "nbconvert_exporter": "python",
   "pygments_lexer": "ipython3",
   "version": "3.7.9"
  }
 },
 "nbformat": 4,
 "nbformat_minor": 4
}
