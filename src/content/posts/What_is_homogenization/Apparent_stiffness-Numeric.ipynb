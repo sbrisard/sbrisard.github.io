{
 "cells": [
  {
   "cell_type": "code",
   "execution_count": null,
   "id": "d1f60647",
   "metadata": {},
   "outputs": [],
   "source": [
    "using DelimitedFiles\n",
    "using LinearAlgebra\n",
    "using Plots\n",
    "using Test"
   ]
  },
  {
   "cell_type": "code",
   "execution_count": null,
   "id": "3fceafcb",
   "metadata": {},
   "outputs": [],
   "source": [
    "function spring_stiffness_matrix(k, nx, ny)\n",
    "    kxx = k * nx * nx\n",
    "    kyy = k * ny * ny\n",
    "    kxy = k * nx * ny\n",
    "    return [\n",
    "        kxx kxy -kxx -kxy;\n",
    "        kxy kyy -kxy -kyy;\n",
    "        -kxx -kxy kxx kxy;\n",
    "        -kxy -kyy kxy kyy]\n",
    "end"
   ]
  },
  {
   "cell_type": "code",
   "execution_count": null,
   "id": "99c37bac",
   "metadata": {},
   "outputs": [],
   "source": [
    "struct SpringMesh\n",
    "    χx::Float64\n",
    "    χy::Float64\n",
    "    θ::Float64\n",
    "    ncells::Int\n",
    "    ndofs::Int\n",
    "    SpringMesh(χx, χy, θ, ncells) = new(χx, χy, θ, ncells, 2 * (ncells+1)^2)\n",
    "end"
   ]
  },
  {
   "cell_type": "code",
   "execution_count": null,
   "id": "96d47bee",
   "metadata": {},
   "outputs": [],
   "source": [
    "function node_at(i, j, mesh)\n",
    "    (mesh.ncells+1)*j+i+1\n",
    "end"
   ]
  },
  {
   "cell_type": "code",
   "execution_count": null,
   "id": "c5d94500",
   "metadata": {},
   "outputs": [],
   "source": [
    "function add_spring_stiffness_matrix!(K, i1, j1, i2, j2, mesh, Ke)\n",
    "    n1 = node_at(i1, j1, mesh)\n",
    "    n2 = node_at(i2, j2, mesh)\n",
    "    index = [2n1-1, 2n1, 2n2-1, 2n2]\n",
    "    for i = 1:4\n",
    "        for j = 1:4\n",
    "            K[index[i], index[j]] += Ke[i, j]\n",
    "        end\n",
    "    end\n",
    "end"
   ]
  },
  {
   "cell_type": "code",
   "execution_count": null,
   "id": "08d68261",
   "metadata": {},
   "outputs": [],
   "source": [
    "function global_stiffness_matrix(mesh)\n",
    "    K = zeros(mesh.ndofs, mesh.ndofs)\n",
    "    c = cos(mesh.θ)\n",
    "    s = sin(mesh.θ)\n",
    "    K_h = spring_stiffness_matrix(mesh.χx, 1., 0.)\n",
    "    K_v = spring_stiffness_matrix(mesh.χy, 0., 1.)\n",
    "    K_d1 = spring_stiffness_matrix(1., c, s)\n",
    "    K_d2 = spring_stiffness_matrix(1., -c, s)\n",
    "    for i = 0:mesh.ncells\n",
    "        for j = 0:mesh.ncells\n",
    "            if i < mesh.ncells\n",
    "                add_spring_stiffness_matrix!(K, i, j, i + 1, j, mesh, K_h)\n",
    "            end\n",
    "            if j < mesh.ncells\n",
    "                add_spring_stiffness_matrix!(K, i, j, i, j + 1, mesh, K_v)\n",
    "            end\n",
    "            if (i < mesh.ncells) && (j < mesh.ncells)\n",
    "                add_spring_stiffness_matrix!(K, i, j, i + 1, j + 1, mesh, K_d1)\n",
    "                add_spring_stiffness_matrix!(K, i + 1, j, i, j + 1, mesh, K_d2)\n",
    "            end\n",
    "        end\n",
    "    end\n",
    "    return K\n",
    "end"
   ]
  },
  {
   "cell_type": "code",
   "execution_count": null,
   "id": "af19e7a8",
   "metadata": {},
   "outputs": [],
   "source": [
    "function nodal_forces(mesh)\n",
    "    F = zeros(mesh.ndofs)\n",
    "    f = 1. / mesh.ncells\n",
    "    for j=1:mesh.ncells-1\n",
    "        F[2 * node_at(0, j, mesh)-1] = -f\n",
    "        F[2 * node_at(mesh.ncells, j, mesh)-1] = f\n",
    "    end\n",
    "    F[2 * node_at(0, 0, mesh)-1] = -0.5 * f\n",
    "    F[2 * node_at(0, mesh.ncells, mesh)-1] = -0.5 * f\n",
    "    F[2 * node_at(mesh.ncells, 0, mesh)-1] = 0.5 * f\n",
    "    F[2 * node_at(mesh.ncells, mesh.ncells, mesh)-1] = 0.5 * f\n",
    "    return F        \n",
    "end"
   ]
  },
  {
   "cell_type": "code",
   "execution_count": null,
   "id": "b779b76b",
   "metadata": {},
   "outputs": [],
   "source": [
    "function apply_bc!(K, F, fixed_dof, mesh)\n",
    "    for dof = 1:mesh.ndofs\n",
    "        K[fixed_dof, dof] = 0.\n",
    "        K[dof, fixed_dof] = 0.\n",
    "    end\n",
    "    K[fixed_dof, fixed_dof] = 1.\n",
    "    F[fixed_dof] = 0.\n",
    "end"
   ]
  },
  {
   "cell_type": "code",
   "execution_count": null,
   "id": "378d0243",
   "metadata": {},
   "outputs": [],
   "source": [
    "function apply_bcs!(K, F, mesh)\n",
    "    n0 = node_at(0, 0, mesh)\n",
    "    apply_bc!(K, F, 2n0-1, mesh)\n",
    "    apply_bc!(K, F, 2n0, mesh)\n",
    "    \n",
    "    n1 = node_at(mesh.ncells, 0, mesh)\n",
    "    apply_bc!(K, F, 2n1, mesh)\n",
    "    \n",
    "    n2 = node_at(0, mesh.ncells, mesh)\n",
    "    apply_bc!(K, F, 2n2-1, mesh)\n",
    "end"
   ]
  },
  {
   "cell_type": "code",
   "execution_count": null,
   "id": "baecdaa7",
   "metadata": {},
   "outputs": [],
   "source": [
    "function apparent_stiffness(mesh)\n",
    "    K = global_stiffness_matrix(mesh)\n",
    "    F = nodal_forces(mesh)\n",
    "    apply_bcs!(K, F, mesh)\n",
    "    u = K\\F\n",
    "    elongation = 0.\n",
    "    for j = 0:mesh.ncells\n",
    "        left = 2 * node_at(0, j, mesh)-1\n",
    "        right = 2 * node_at(mesh.ncells, j, mesh)-1\n",
    "        weight = (j == 0) || (j == mesh.ncells) ? 0.5 : 1.0\n",
    "        elongation += weight * (u[right] - u[left])\n",
    "    end\n",
    "    elongation /= mesh.ncells\n",
    "    return 1. / elongation\n",
    "end"
   ]
  },
  {
   "cell_type": "code",
   "execution_count": null,
   "id": "20b82f1d",
   "metadata": {},
   "outputs": [],
   "source": [
    "actual_stiffness(χ, n) = apparent_stiffness(SpringMesh(χ, χ, π/4, n))\n",
    "\n",
    "effective_stiffness(χ) = χ*(χ+2)/(χ+1)\n",
    "expected_stiffness_1x1(χ) = 4χ*(χ+1)/(2χ+1)\n",
    "expected_stiffness_2x2(χ) = 8χ*(1+χ)*(2+χ)/(2χ+3)/(3χ+2)\n",
    "expected_stiffness_3x3(χ) = 144χ*(χ+1)*(4*χ^4+24χ^3+41χ^2+24χ+4)/(480χ^5+2888χ^4+5616χ^3+4771χ^2+1800χ+236)"
   ]
  },
  {
   "cell_type": "code",
   "execution_count": null,
   "id": "fddb3842",
   "metadata": {},
   "outputs": [],
   "source": [
    "@testset \"Apparent stiffness\" begin\n",
    "    χ = 2.0 .^ LinRange(-7, 7, 13)\n",
    "\n",
    "    @test actual_stiffness.(χ, 1) ≈ expected_stiffness_1x1.(χ)\n",
    "    @test actual_stiffness.(χ, 2) ≈ expected_stiffness_2x2.(χ)\n",
    "    @test actual_stiffness.(χ, 3) ≈ expected_stiffness_3x3.(χ)\n",
    "end;"
   ]
  },
  {
   "cell_type": "code",
   "execution_count": null,
   "id": "c182b875",
   "metadata": {},
   "outputs": [],
   "source": [
    "χ = 2.\n",
    "χx = χ\n",
    "χy = χ\n",
    "θ = π / 4.\n",
    "npoints = 8\n",
    "ncells = 1 .<< (0:(npoints-1))\n",
    "A_app = zeros(npoints)\n",
    "for i = 1:npoints\n",
    "    print(\"$(ncells[i]), \")\n",
    "    mesh = SpringMesh(χx, χy, θ, ncells[i])\n",
    "    A_app[i] = apparent_stiffness(mesh)\n",
    "    println(A_app[i])\n",
    "end"
   ]
  },
  {
   "cell_type": "code",
   "execution_count": null,
   "id": "58fdb414",
   "metadata": {},
   "outputs": [],
   "source": [
    "Ax = cot(θ)*(1+cos(2θ)+χx)\n",
    "Ay = tan(θ)*(1-cos(2θ)+χy)\n",
    "Axy = sin(2θ)\n",
    "\n",
    "A_eff = Ax - Axy^2 / Ay"
   ]
  },
  {
   "cell_type": "code",
   "execution_count": null,
   "id": "041c005b",
   "metadata": {},
   "outputs": [],
   "source": [
    "err = (A_app[:] .- A_eff) / A_eff\n",
    "plot(ncells, 100*err, \n",
    "     axis=:log,\n",
    "     marker=:circle, \n",
    "     label=\"\", \n",
    "     xlabel=\"Number of cells\", \n",
    "     ylabel=\"Relative error [%]\", \n",
    "     title=\"Relative error on effective stiffness\")"
   ]
  },
  {
   "cell_type": "code",
   "execution_count": null,
   "id": "d3cdbf0c",
   "metadata": {},
   "outputs": [],
   "source": [
    "basename = \"apparent_stiffness_vs_number_of_cells\"\n",
    "savefig(basename * \".png\")\n",
    "savefig(basename * \".pdf\")"
   ]
  },
  {
   "cell_type": "code",
   "execution_count": null,
   "id": "bf1e5900",
   "metadata": {},
   "outputs": [],
   "source": [
    "open(basename * \".csv\", \"w\") do io\n",
    "    write(io, \"# Apparent, uniaxial stiffness vs. number of cells\\n\")\n",
    "    write(io, \"# chi_x = $χx\\n\")\n",
    "    write(io, \"# chi_y = $χy\\n\")\n",
    "    write(io, \"# theta = $θ rad\\n\")\n",
    "    writedlm(io, [ncells A_app], \",\")\n",
    "end"
   ]
  },
  {
   "cell_type": "code",
   "execution_count": null,
   "id": "9337c43c-f60a-40b3-8c0d-9d747a90f58c",
   "metadata": {},
   "outputs": [],
   "source": [
    "χ = 10.0 .^ LinRange(-2, 2, 41)\n",
    "eff = effective_stiffness.(χ)\n",
    "plot(χ, (expected_stiffness_1x1.(χ).-eff)./eff, \n",
    "     label=\"1×1\", \n",
    "     xaxis=:log,\n",
    "     xlabel=\"Stiffness ratio, χ\",\n",
    "     ylabel=\"Relative error\")\n",
    "plot!(χ, (expected_stiffness_2x2.(χ).-eff)./eff, \n",
    "    label=\"2×2\",\n",
    "    xaxis=:log)\n",
    "plot!(χ, (expected_stiffness_3x3.(χ).-eff)./eff, \n",
    "    label=\"3×3\", \n",
    "    xaxis=:log)"
   ]
  },
  {
   "cell_type": "code",
   "execution_count": null,
   "id": "be726783-c5bb-4b1e-8a7d-19683dd85d3c",
   "metadata": {},
   "outputs": [],
   "source": [
    "basename = \"apparent_stiffness_vs_chi\"\n",
    "savefig(basename * \".png\")\n",
    "savefig(basename * \".pdf\")"
   ]
  }
 ],
 "metadata": {
  "kernelspec": {
   "display_name": "Julia 1.6.0",
   "language": "julia",
   "name": "julia-1.6"
  },
  "language_info": {
   "file_extension": ".jl",
   "mimetype": "application/julia",
   "name": "julia",
   "version": "1.6.0"
  }
 },
 "nbformat": 4,
 "nbformat_minor": 5
}
