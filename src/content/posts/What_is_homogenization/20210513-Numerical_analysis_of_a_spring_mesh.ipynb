{
 "cells": [
  {
   "cell_type": "raw",
   "id": "96e6b3e0-cbc7-47d0-8a4f-cd5822329edf",
   "metadata": {},
   "source": [
    "Title: Numerical analysis of a spring mesh\n",
    "Date: 2021-05-13\n",
    "Category: Homogenization\n",
    "UseKaTeX: True\n"
   ]
  },
  {
   "cell_type": "markdown",
   "id": "cbcbfc67-5299-46f8-aff6-5970f6ad25ea",
   "metadata": {},
   "source": [
    "In this post, we compute numeric values of the apparent stiffness introduced in [this post]({filename}20210509-What_is_homogenization-05.md). Our goal is to find the solution to the general problem depicted below."
   ]
  },
  {
   "cell_type": "markdown",
   "id": "1451d1e9-af6f-499a-b6f0-de745f00a1b0",
   "metadata": {},
   "source": [
    "![The problem considered here]({static}What_is_homogenization/uniaxial_tension.png){.fig60p100}"
   ]
  },
  {
   "cell_type": "markdown",
   "id": "1f35a406-3bcf-40da-b182-d8793d8d0147",
   "metadata": {},
   "source": [
    "We use a numeric approach that is akin to the finite element method. More precisely, we minimize the total potential energy of the spring with respect to the nodal displacements."
   ]
  },
  {
   "cell_type": "markdown",
   "id": "7c0e28ea-dc00-4f77-aebc-4e37f51bdc88",
   "metadata": {},
   "source": [
    "This time, we will use the [Julia programming language](https://julialang.org/)."
   ]
  },
  {
   "cell_type": "code",
   "execution_count": null,
   "id": "d1f60647",
   "metadata": {},
   "outputs": [],
   "source": [
    "using DelimitedFiles\n",
    "using LinearAlgebra\n",
    "using Plots\n",
    "using Test"
   ]
  },
  {
   "cell_type": "markdown",
   "id": "e5887e52-673e-4578-9876-6c785f80c738",
   "metadata": {},
   "source": [
    "We first define a function that returns the stiffness matrix ox a single spring, according to [this post]({filename}20201125-On_the_stiffness_matrix_of_a_linear_spring.md)."
   ]
  },
  {
   "cell_type": "code",
   "execution_count": null,
   "id": "3fceafcb",
   "metadata": {},
   "outputs": [],
   "source": [
    "\"\"\"spring_stiffness_matrix(k, nx, ny)\n",
    "\n",
    "Return the stiffness matrix of the spring with stiffness `k` and direction `(nx, ny)`.\n",
    "\n",
    "The direction must be a unit vector (`nx² + ny² == 1`).\n",
    "\n",
    "The degrees of freedom of the spring are ordered as follows:\n",
    "\n",
    "1. horizontal displacement of node 1,\n",
    "2. vertical displacement of node 1,\n",
    "3. horizontal displacement of node 2,\n",
    "4. vertical displacement of node 2.\n",
    "\"\"\"\n",
    "function spring_stiffness_matrix(k, nx, ny)\n",
    "    kxx = k * nx * nx\n",
    "    kyy = k * ny * ny\n",
    "    kxy = k * nx * ny\n",
    "    return [\n",
    "        kxx kxy -kxx -kxy;\n",
    "        kxy kyy -kxy -kyy;\n",
    "        -kxx -kxy kxx kxy;\n",
    "        -kxy -kyy kxy kyy]\n",
    "end"
   ]
  },
  {
   "cell_type": "markdown",
   "id": "a6b3cee0-0d4d-4c27-bca6-613371052d8b",
   "metadata": {},
   "source": [
    "We then define a structure that holds the description of the mesh. See [this post]({filename}20210509-What_is_homogenization-05.md) for a description of the various symbols. Note that for the sake of simplicity, it is assumed that the number of cells is identical in both directions."
   ]
  },
  {
   "cell_type": "code",
   "execution_count": null,
   "id": "99c37bac",
   "metadata": {},
   "outputs": [],
   "source": [
    "struct SpringMesh\n",
    "    χx::Float64\n",
    "    χy::Float64\n",
    "    θ::Float64\n",
    "    ncells::Int\n",
    "    ndofs::Int\n",
    "    SpringMesh(χx, χy, θ, ncells) = new(χx, χy, θ, ncells, 2 * (ncells+1)^2)\n",
    "end"
   ]
  },
  {
   "cell_type": "markdown",
   "id": "e2453d01-5c5e-4617-afa7-3a19db222450",
   "metadata": {},
   "source": [
    "We define a function that computes the linear index of the node located at `(i⋅Δx, j⋅Δy)`. It would probably have been better to use [CartesianIndices](https://julialang.org/blog/2016/02/iteration/) for this purpose."
   ]
  },
  {
   "cell_type": "code",
   "execution_count": null,
   "id": "96d47bee",
   "metadata": {},
   "outputs": [],
   "source": [
    "\"\"\"node_at(i, j, mesh)\n",
    "\n",
    "Return the linear indnex of the node located at `(i, j)` in the mesh.\n",
    "\n",
    "Note that `i` and `j` are zero-based, while the returned index in one-based.\n",
    "\"\"\"\n",
    "function node_at(i, j, mesh)\n",
    "    (mesh.ncells+1)*j+i+1\n",
    "end"
   ]
  },
  {
   "cell_type": "markdown",
   "id": "9db839ae-fd1a-4ffa-8e02-fc36db529b70",
   "metadata": {},
   "source": [
    "To assemble the global stiffness matrix, we add block-wise the element stiffness matrix of each spring."
   ]
  },
  {
   "cell_type": "code",
   "execution_count": null,
   "id": "c5d94500",
   "metadata": {},
   "outputs": [],
   "source": [
    "\"\"\"\n",
    "add_spring_stiffness_matrix!(K, i1, j1, i2, j2, mesh, Ke)\n",
    "\n",
    "Add to the global stiffness matrix `K` the element stiffness matrix `Ke`.\n",
    "\n",
    "The spring connects nodes `(i1, j1)` and `(i2, j2)` (0-based indices).\n",
    "\"\"\"\n",
    "function add_spring_stiffness_matrix!(K, i1, j1, i2, j2, mesh, Ke)\n",
    "    n1 = node_at(i1, j1, mesh)\n",
    "    n2 = node_at(i2, j2, mesh)\n",
    "    index = [2n1-1, 2n1, 2n2-1, 2n2]\n",
    "    for i = 1:4\n",
    "        for j = 1:4\n",
    "            K[index[i], index[j]] += Ke[i, j]\n",
    "        end\n",
    "    end\n",
    "end"
   ]
  },
  {
   "cell_type": "code",
   "execution_count": null,
   "id": "08d68261",
   "metadata": {},
   "outputs": [],
   "source": [
    "\"\"\"Return the stiffness matrix\"\"\"\n",
    "function global_stiffness_matrix(mesh)\n",
    "    K = zeros(mesh.ndofs, mesh.ndofs)\n",
    "    c = cos(mesh.θ)\n",
    "    s = sin(mesh.θ)\n",
    "    K_h = spring_stiffness_matrix(mesh.χx, 1., 0.)\n",
    "    K_v = spring_stiffness_matrix(mesh.χy, 0., 1.)\n",
    "    K_d1 = spring_stiffness_matrix(1., c, s)\n",
    "    K_d2 = spring_stiffness_matrix(1., -c, s)\n",
    "    for i = 0:mesh.ncells\n",
    "        for j = 0:mesh.ncells\n",
    "            if i < mesh.ncells\n",
    "                add_spring_stiffness_matrix!(K, i, j, i + 1, j, mesh, K_h)\n",
    "            end\n",
    "            if j < mesh.ncells\n",
    "                add_spring_stiffness_matrix!(K, i, j, i, j + 1, mesh, K_v)\n",
    "            end\n",
    "            if (i < mesh.ncells) && (j < mesh.ncells)\n",
    "                add_spring_stiffness_matrix!(K, i, j, i + 1, j + 1, mesh, K_d1)\n",
    "                add_spring_stiffness_matrix!(K, i + 1, j, i, j + 1, mesh, K_d2)\n",
    "            end\n",
    "        end\n",
    "    end\n",
    "    return K\n",
    "end"
   ]
  },
  {
   "cell_type": "markdown",
   "id": "f514791f-fab9-4f0a-9ec2-156ec23f942e",
   "metadata": {},
   "source": [
    "The forces are applied only on the left and right boundaries. Assembly of the vector of nodal forces is done below."
   ]
  },
  {
   "cell_type": "code",
   "execution_count": null,
   "id": "af19e7a8",
   "metadata": {},
   "outputs": [],
   "source": [
    "\"\"\"nodal_forces(mesh)\n",
    "\n",
    "Return the vector of nodal forces.\n",
    "\n",
    "The total force applied on each side is 1.\n",
    "\"\"\"\n",
    "function nodal_forces(mesh)\n",
    "    F = zeros(mesh.ndofs)\n",
    "    f = 1. / mesh.ncells\n",
    "    for j=1:mesh.ncells-1\n",
    "        F[2 * node_at(0, j, mesh)-1] = -f\n",
    "        F[2 * node_at(mesh.ncells, j, mesh)-1] = f\n",
    "    end\n",
    "    F[2 * node_at(0, 0, mesh)-1] = -0.5 * f\n",
    "    F[2 * node_at(0, mesh.ncells, mesh)-1] = -0.5 * f\n",
    "    F[2 * node_at(mesh.ncells, 0, mesh)-1] = 0.5 * f\n",
    "    F[2 * node_at(mesh.ncells, mesh.ncells, mesh)-1] = 0.5 * f\n",
    "    return F        \n",
    "end"
   ]
  },
  {
   "cell_type": "markdown",
   "id": "6fdab4eb-768e-451f-aaae-6f360b4003d9",
   "metadata": {},
   "source": [
    "We need to account for the boundary conditions that will prevent rigid body motion. We first define a general function that modifies the linear system to account for a *fixed* dof."
   ]
  },
  {
   "cell_type": "code",
   "execution_count": null,
   "id": "b779b76b",
   "metadata": {},
   "outputs": [],
   "source": [
    "\"\"\"apply_bc!(K, F, fixed_dof, mesh)\n",
    "\n",
    "Modify the stiffness matrix and vector of nodal forces to account for a fixed dof.\n",
    "\"\"\"\n",
    "function apply_bc!(K, F, fixed_dof, mesh)\n",
    "    for dof = 1:mesh.ndofs\n",
    "        K[fixed_dof, dof] = 0.\n",
    "        K[dof, fixed_dof] = 0.\n",
    "    end\n",
    "    K[fixed_dof, fixed_dof] = 1.\n",
    "    F[fixed_dof] = 0.\n",
    "end"
   ]
  },
  {
   "cell_type": "markdown",
   "id": "9446988c-5815-4dc6-a3d3-0294db955612",
   "metadata": {},
   "source": [
    "The above function is then used to pin the lower-left corner and prevent vertical displacements of the lower-right corner as well as horizontal displacements of the upper-left corner."
   ]
  },
  {
   "cell_type": "code",
   "execution_count": null,
   "id": "378d0243",
   "metadata": {},
   "outputs": [],
   "source": [
    "function apply_bcs!(K, F, mesh)\n",
    "    n0 = node_at(0, 0, mesh)\n",
    "    apply_bc!(K, F, 2n0-1, mesh)\n",
    "    apply_bc!(K, F, 2n0, mesh)\n",
    "    \n",
    "    n1 = node_at(mesh.ncells, 0, mesh)\n",
    "    apply_bc!(K, F, 2n1, mesh)\n",
    "    \n",
    "    n2 = node_at(0, mesh.ncells, mesh)\n",
    "    apply_bc!(K, F, 2n2-1, mesh)\n",
    "end"
   ]
  },
  {
   "cell_type": "markdown",
   "id": "f2840de9-1a8b-4bb2-bd6e-9d0020f6cb96",
   "metadata": {},
   "source": [
    "Finally, the apparent stiffness is computed according to [this post]({filename}20210509-What_is_homogenization-05.md)."
   ]
  },
  {
   "cell_type": "code",
   "execution_count": null,
   "id": "baecdaa7",
   "metadata": {},
   "outputs": [],
   "source": [
    "function apparent_stiffness(mesh)\n",
    "    K = global_stiffness_matrix(mesh)\n",
    "    F = nodal_forces(mesh)\n",
    "    apply_bcs!(K, F, mesh)\n",
    "    u = K\\F\n",
    "    elongation = 0.\n",
    "    for j = 0:mesh.ncells\n",
    "        left = 2 * node_at(0, j, mesh)-1\n",
    "        right = 2 * node_at(mesh.ncells, j, mesh)-1\n",
    "        weight = (j == 0) || (j == mesh.ncells) ? 0.5 : 1.0\n",
    "        elongation += weight * (u[right] - u[left])\n",
    "    end\n",
    "    elongation /= mesh.ncells\n",
    "    return 1. / elongation\n",
    "end"
   ]
  },
  {
   "cell_type": "markdown",
   "id": "52213e72-d732-4b0a-89ad-c37b981b687b",
   "metadata": {},
   "source": [
    "We use the symbolic expressions derived in [this post]({filename}20210512-Symbolic_analysis_of_a_spring_mesh.md) to test our implementation."
   ]
  },
  {
   "cell_type": "code",
   "execution_count": null,
   "id": "909e68a0-69d5-4a79-8a88-cd34d0b9f11a",
   "metadata": {},
   "outputs": [],
   "source": [
    "actual_stiffness(χ, n) = apparent_stiffness(SpringMesh(χ, χ, π/4, n))\n",
    "\n",
    "effective_stiffness(χ) = χ*(χ+2)/(χ+1)\n",
    "expected_stiffness_1x1(χ) = 4χ*(χ+1)/(2χ+1)\n",
    "expected_stiffness_2x2(χ) = 8χ*(1+χ)*(2+χ)/(2χ+3)/(3χ+2)\n",
    "expected_stiffness_3x3(χ) = 144χ*(χ+1)*(4*χ^4+24χ^3+41χ^2+24χ+4)/(480χ^5+2888χ^4+5616χ^3+4771χ^2+1800χ+236)\n",
    "\n",
    "@testset \"Apparent stiffness\" begin\n",
    "    χ = 2.0 .^ LinRange(-7, 7, 13)\n",
    "\n",
    "    @test actual_stiffness.(χ, 1) ≈ expected_stiffness_1x1.(χ)\n",
    "    @test actual_stiffness.(χ, 2) ≈ expected_stiffness_2x2.(χ)\n",
    "    @test actual_stiffness.(χ, 3) ≈ expected_stiffness_3x3.(χ)\n",
    "end;"
   ]
  },
  {
   "cell_type": "markdown",
   "id": "3f891a16-5cd7-4eda-ab71-408237a0d00c",
   "metadata": {},
   "source": [
    "We then are ready to produce the figures that were used in [this post]({filename}20210509-What_is_homogenization-05.md)."
   ]
  },
  {
   "cell_type": "code",
   "execution_count": null,
   "id": "c182b875",
   "metadata": {},
   "outputs": [],
   "source": [
    "χ = 2.\n",
    "χx = χ\n",
    "χy = χ\n",
    "θ = π / 4.\n",
    "npoints = 8\n",
    "ncells = 1 .<< (0:(npoints-1))\n",
    "A_app = zeros(npoints)\n",
    "for i = 1:npoints\n",
    "    print(\"$(ncells[i]), \")\n",
    "    mesh = SpringMesh(χx, χy, θ, ncells[i])\n",
    "    A_app[i] = apparent_stiffness(mesh)\n",
    "    println(A_app[i])\n",
    "end"
   ]
  },
  {
   "cell_type": "code",
   "execution_count": null,
   "id": "58fdb414",
   "metadata": {},
   "outputs": [],
   "source": [
    "Ax = cot(θ)*(1+cos(2θ)+χx)\n",
    "Ay = tan(θ)*(1-cos(2θ)+χy)\n",
    "Axy = sin(2θ)\n",
    "\n",
    "A_eff = Ax - Axy^2 / Ay"
   ]
  },
  {
   "cell_type": "code",
   "execution_count": null,
   "id": "041c005b",
   "metadata": {
    "tags": []
   },
   "outputs": [],
   "source": [
    "err = (A_app[:] .- A_eff) / A_eff\n",
    "plot(ncells, 100*err, \n",
    "     axis=:log,\n",
    "     marker=:circle, \n",
    "     label=\"\", \n",
    "     xlabel=\"Number of cells\", \n",
    "     ylabel=\"Relative error [%]\", \n",
    "     title=\"Relative error on effective stiffness\")"
   ]
  },
  {
   "cell_type": "code",
   "execution_count": null,
   "id": "d3cdbf0c",
   "metadata": {},
   "outputs": [],
   "source": [
    "basename = \"apparent_stiffness_vs_number_of_cells\"\n",
    "savefig(basename * \".png\")\n",
    "# savefig(basename * \".pdf\")"
   ]
  },
  {
   "cell_type": "code",
   "execution_count": null,
   "id": "bf1e5900",
   "metadata": {},
   "outputs": [],
   "source": [
    "open(basename * \".csv\", \"w\") do io\n",
    "    write(io, \"# Apparent, uniaxial stiffness vs. number of cells\\n\")\n",
    "    write(io, \"# chi_x = $χx\\n\")\n",
    "    write(io, \"# chi_y = $χy\\n\")\n",
    "    write(io, \"# theta = $θ rad\\n\")\n",
    "    writedlm(io, [ncells A_app], \",\")\n",
    "end"
   ]
  },
  {
   "cell_type": "code",
   "execution_count": null,
   "id": "9337c43c-f60a-40b3-8c0d-9d747a90f58c",
   "metadata": {
    "tags": []
   },
   "outputs": [],
   "source": [
    "χ = 10.0 .^ LinRange(-2, 2, 41)\n",
    "eff = effective_stiffness.(χ)\n",
    "plot(χ, (expected_stiffness_1x1.(χ).-eff)./eff, \n",
    "     label=\"1×1\", \n",
    "     xaxis=:log,\n",
    "     xlabel=\"Stiffness ratio, χ\",\n",
    "     ylabel=\"Relative error\")\n",
    "plot!(χ, (expected_stiffness_2x2.(χ).-eff)./eff, \n",
    "    label=\"2×2\",\n",
    "    xaxis=:log)\n",
    "plot!(χ, (expected_stiffness_3x3.(χ).-eff)./eff, \n",
    "    label=\"3×3\", \n",
    "    xaxis=:log)"
   ]
  },
  {
   "cell_type": "code",
   "execution_count": null,
   "id": "be726783-c5bb-4b1e-8a7d-19683dd85d3c",
   "metadata": {},
   "outputs": [],
   "source": [
    "basename = \"apparent_stiffness_vs_chi\"\n",
    "savefig(basename * \".png\")\n",
    "# savefig(basename * \".pdf\")"
   ]
  }
 ],
 "metadata": {
  "kernelspec": {
   "display_name": "Julia 1.6.0",
   "language": "julia",
   "name": "julia-1.6"
  },
  "language_info": {
   "file_extension": ".jl",
   "mimetype": "application/julia",
   "name": "julia",
   "version": "1.6.0"
  }
 },
 "nbformat": 4,
 "nbformat_minor": 5
}
