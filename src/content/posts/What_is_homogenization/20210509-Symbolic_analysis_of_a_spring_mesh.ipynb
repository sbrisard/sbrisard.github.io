{
 "cells": [
  {
   "cell_type": "raw",
   "metadata": {},
   "source": [
    "Title: Symbolic analysis of a spring mesh\n",
    "Date: 2021-05-09\n",
    "Category: Homogenization\n",
    "UseKaTeX: True\n"
   ]
  },
  {
   "cell_type": "markdown",
   "metadata": {},
   "source": [
    "In this post, we compute symbolic expressions of the apparent stiffness introduced in [this post]({filename}202105XX-What_is_homogenization-06.md). Our goal is to find the solution to the general problem depicted below."
   ]
  },
  {
   "cell_type": "markdown",
   "metadata": {},
   "source": [
    "![The problem considered here]({static}What_is_homogenization/uniaxial_tension.png){.fig60p100}"
   ]
  },
  {
   "cell_type": "markdown",
   "metadata": {},
   "source": [
    "## Outline of the derivation"
   ]
  },
  {
   "cell_type": "markdown",
   "metadata": {},
   "source": [
    "We consider a simplified case, where the mesh is square and vertical and horizontal springs have equal stiffnesses. We use the same symbols an in the [previous post]({filename}). In particular, the stiffness of the diagonal springs is $k$, while the stiffness of the horizontal and vertical springs is $\\chi k$ ($\\chi$: dimensionless parameter)."
   ]
  },
  {
   "cell_type": "markdown",
   "metadata": {},
   "source": [
    "To compute the solution to this problem, we use a displacement-based approach relying on the minimization of the total potential energy, $\\Pi$. This energy is the difference between the strain energy, $\\mathcal U$ and the potential of external forces, $\\mathcal V$. Both $\\mathcal U$ and $\\mathcal V$ are functions of the nodal displacements, that must satisfy the essential boundary conditions. The numerous symmetries will also allow us to reduce the number of unknowns."
   ]
  },
  {
   "cell_type": "markdown",
   "metadata": {},
   "source": [
    "In a previous post, we derived [the stiffness matrix of a linear spring]({filename}20201125-On_the_stiffness_matrix_of_a_linear_spring.md). This expression is used in the present post to evaluate the strain energy $\\mathcal U$"
   ]
  },
  {
   "cell_type": "markdown",
   "metadata": {},
   "source": [
    "$$\\mathcal U=\\sum_{i}\\tfrac12k_i\\bigl(\\Delta\\vec u_i\\cdot\\vec n_i\\bigr)^2,$$"
   ]
  },
  {
   "cell_type": "markdown",
   "metadata": {},
   "source": [
    "where the sum runs over all springs (indexed by $i$), $k_i$ is the stiffness of the spring, $\\vec n_i$ its direction (unit vector) and $\\Delta u_i$ is the relative displacement of its two end-points."
   ]
  },
  {
   "cell_type": "markdown",
   "metadata": {},
   "source": [
    "The potential of external forces is the following sum"
   ]
  },
  {
   "cell_type": "markdown",
   "metadata": {},
   "source": [
    "$$\\mathcal V=\\sum_i\\vec Q_i\\cdot\\vec u_i,$$"
   ]
  },
  {
   "cell_type": "markdown",
   "metadata": {},
   "source": [
    "where the sum runs over all nodes that are loaded, $\\vec Q_i$ is the applied nodal force and $\\vec u_i$ is the nodal displacement."
   ]
  },
  {
   "cell_type": "markdown",
   "metadata": {},
   "source": [
    "Minimization of the potential energy $\\Pi=\\mathcal U-\\mathcal V$ with respect to the unknown nodal displacements delivers the solution."
   ]
  },
  {
   "cell_type": "markdown",
   "metadata": {},
   "source": [
    "The derivation is carried out with the [Sympy](https://www.sympy.org) library, that we first import. Note that we will also use the [NumPy](https://numpy.org/) library to build arrays of Sympy expressions and use vectorized operations."
   ]
  },
  {
   "cell_type": "code",
   "execution_count": null,
   "metadata": {},
   "outputs": [],
   "source": [
    "import numpy as np\n",
    "import sympy"
   ]
  },
  {
   "cell_type": "markdown",
   "metadata": {},
   "source": [
    "We define a few common symbols, to be used in all subsequent derivations."
   ]
  },
  {
   "cell_type": "markdown",
   "metadata": {},
   "source": [
    "The geometry of the grid is defined by the angle between the horizontal and diagonal springs."
   ]
  },
  {
   "cell_type": "code",
   "execution_count": null,
   "metadata": {},
   "outputs": [],
   "source": [
    "θ = sympy.pi / 4"
   ]
  },
  {
   "cell_type": "markdown",
   "metadata": {},
   "source": [
    "We then define the intensity of the nodal forces"
   ]
  },
  {
   "cell_type": "code",
   "execution_count": null,
   "metadata": {},
   "outputs": [],
   "source": [
    "Q = sympy.Symbol(\"Q\")"
   ]
  },
  {
   "cell_type": "markdown",
   "metadata": {},
   "source": [
    "the stiffness of the diagonal springs"
   ]
  },
  {
   "cell_type": "code",
   "execution_count": null,
   "metadata": {},
   "outputs": [],
   "source": [
    "k = sympy.Symbol(\"k\")"
   ]
  },
  {
   "cell_type": "markdown",
   "metadata": {},
   "source": [
    "the relative stiffness of the horizontal and vertical springs"
   ]
  },
  {
   "cell_type": "code",
   "execution_count": null,
   "metadata": {},
   "outputs": [],
   "source": [
    "χ = sympy.Symbol(\"chi\")\n",
    "χx = χ\n",
    "χy = χ"
   ]
  },
  {
   "cell_type": "markdown",
   "metadata": {},
   "source": [
    "and the stiffness of the horizontal and vertical springs"
   ]
  },
  {
   "cell_type": "code",
   "execution_count": null,
   "metadata": {},
   "outputs": [],
   "source": [
    "kx = χx * k\n",
    "ky = χy * k"
   ]
  },
  {
   "cell_type": "markdown",
   "metadata": {},
   "source": [
    "We also define the unit vectors that give the directions of each spring."
   ]
  },
  {
   "cell_type": "code",
   "execution_count": null,
   "metadata": {},
   "outputs": [],
   "source": [
    "one = sympy.Number(1)\n",
    "zero = sympy.Number(0)\n",
    "e1 = np.array([one, zero])\n",
    "e2 = np.array([zero, one])\n",
    "d1 = np.array([sympy.cos(θ), sympy.sin(θ)])\n",
    "d2 = np.array([-sympy.cos(θ), sympy.sin(θ)])"
   ]
  },
  {
   "cell_type": "markdown",
   "metadata": {},
   "source": [
    "And we are ready to proceed!"
   ]
  },
  {
   "cell_type": "markdown",
   "metadata": {},
   "source": [
    "## Definition of some common functions"
   ]
  },
  {
   "cell_type": "code",
   "execution_count": null,
   "metadata": {},
   "outputs": [],
   "source": [
    "def strain_energy(u):\n",
    "    N = u.shape[0] - 1\n",
    "    U = zero\n",
    "    for x in range(N + 1):\n",
    "        for y in range(N + 1):\n",
    "            # Horizontal springs\n",
    "            if x < N:\n",
    "                U += kx / 2 * (e1.dot(u[x + 1, y] - u[x, y])) ** 2\n",
    "            # Vertical springs\n",
    "            if y < N:\n",
    "                U += ky / 2 * (e2.dot(u[x, y + 1] - u[x, y])) ** 2\n",
    "            if (x < N) and (y < N):\n",
    "                U += k / 2 * (d1.dot(u[x + 1, y + 1] - u[x, y])) ** 2\n",
    "                U += k / 2 * (d2.dot(u[x, y + 1] - u[x + 1, y])) ** 2\n",
    "    return U"
   ]
  },
  {
   "cell_type": "code",
   "execution_count": null,
   "metadata": {},
   "outputs": [],
   "source": [
    "def potential_external_forces(u):\n",
    "    N = u.shape[0] - 1\n",
    "    V = (u[-1, 0, 0] + u[-1, -1, 0] - u[0, 0, 0] - u[0, -1, 0]) / 2\n",
    "    for y in range(1, N):\n",
    "        V += u[-1, y, 0] - u[0, y, 0]\n",
    "    V *= F / N\n",
    "    return V"
   ]
  },
  {
   "cell_type": "code",
   "execution_count": null,
   "metadata": {},
   "outputs": [],
   "source": [
    "def potential_energy(u):\n",
    "    U = strain_energy(u)\n",
    "    V = potential_external_forces(u)\n",
    "    return U - V"
   ]
  },
  {
   "cell_type": "markdown",
   "metadata": {},
   "source": [
    "## The 1×1 case"
   ]
  },
  {
   "cell_type": "markdown",
   "metadata": {},
   "source": [
    "```\n",
    "B     A\n",
    " •───•\n",
    " │╲ ╱│\n",
    " │ ╳ │\n",
    " │╱ ╲│\n",
    " •───•\n",
    "B'   A'\n",
    "```"
   ]
  },
  {
   "cell_type": "code",
   "execution_count": null,
   "metadata": {},
   "outputs": [],
   "source": [
    "uA, vA = dofs = sympy.symbols(\"u_A, v_A\")"
   ]
  },
  {
   "cell_type": "code",
   "execution_count": null,
   "metadata": {},
   "outputs": [],
   "source": [
    "N = 1\n",
    "u = np.empty((N + 1, N + 1, 2), dtype=object)\n",
    "u[0, 0] = -uA, -vA\n",
    "u[1, 0] = uA, -vA\n",
    "u[0, 1] = -uA, vA\n",
    "u[1, 1] = uA, vA"
   ]
  },
  {
   "cell_type": "code",
   "execution_count": null,
   "metadata": {},
   "outputs": [],
   "source": [
    "U1 = sympy.expand(strain_energy(u))\n",
    "V1 = sympy.expand(potential_external_forces(u))\n",
    "Π1 = U1 - V1\n",
    "Π1"
   ]
  },
  {
   "cell_type": "code",
   "execution_count": null,
   "metadata": {},
   "outputs": [],
   "source": [
    "eqs = [Π1.diff(dof) for dof in dofs]\n",
    "sol = sympy.solve(eqs, dofs)\n",
    "for key, value in sol.items():\n",
    "    display(sympy.Eq(key, value))"
   ]
  },
  {
   "cell_type": "code",
   "execution_count": null,
   "metadata": {},
   "outputs": [],
   "source": [
    "ΔL = V1.subs(F, one).subs(sol)\n",
    "K1 = F / ΔL\n",
    "K1_red = sympy.factor(K1 / k)\n",
    "K1_red"
   ]
  },
  {
   "cell_type": "markdown",
   "metadata": {},
   "source": [
    "## The 2×2 case"
   ]
  },
  {
   "cell_type": "code",
   "execution_count": null,
   "metadata": {},
   "outputs": [],
   "source": [
    "uA, vA, vB, uC = dofs = sympy.symbols(\"u_A v_A v_B u_C\")\n",
    "u = np.empty((3, 3, 2), dtype=object)\n",
    "u[0, 0] = -uA, -vA\n",
    "u[1, 0] = zero, -vB\n",
    "u[2, 0] = uA, -vA\n",
    "u[0, 1] = -uC, zero\n",
    "u[1, 1] = zero, zero\n",
    "u[2, 1] = uC, zero\n",
    "u[0, 2] = -uA, vA\n",
    "u[1, 2] = zero, vB\n",
    "u[2, 2] = uA, vA"
   ]
  },
  {
   "cell_type": "code",
   "execution_count": null,
   "metadata": {},
   "outputs": [],
   "source": [
    "U2 = sympy.expand(strain_energy(u))\n",
    "V2 = sympy.expand(potential_external_forces(u))\n",
    "Π2 = U2 - V2\n",
    "Π2"
   ]
  },
  {
   "cell_type": "code",
   "execution_count": null,
   "metadata": {},
   "outputs": [],
   "source": [
    "eqs = [Π2.diff(dof) for dof in dofs]\n",
    "sol = sympy.solve(eqs, dofs)\n",
    "for key, value in sol.items():\n",
    "    display(sympy.Eq(key, value.factor()))"
   ]
  },
  {
   "cell_type": "code",
   "execution_count": null,
   "metadata": {},
   "outputs": [],
   "source": [
    "ΔL = V2.subs(F, one).subs(sol)\n",
    "K2 = sympy.factor(F / ΔL)\n",
    "K2_red = K2 / k\n",
    "K2_red"
   ]
  },
  {
   "cell_type": "markdown",
   "metadata": {},
   "source": [
    "## The 3×3 case"
   ]
  },
  {
   "cell_type": "code",
   "execution_count": null,
   "metadata": {},
   "outputs": [],
   "source": [
    "uA, vA, uB, vB, uC, vC, uD, vD = dofs = sympy.symbols(\"u_A v_A u_B v_B u_C v_C u_D v_D\")\n",
    "u = np.empty((4, 4, 2), dtype=object)\n",
    "\n",
    "u[0, 0] = -uA, -vA\n",
    "u[1, 0] = -uB, -vB\n",
    "u[2, 0] = uB, -vB\n",
    "u[3, 0] = uA, -vA\n",
    "\n",
    "u[0, 1] = -uC, -vC\n",
    "u[1, 1] = -uD, -vD\n",
    "u[2, 1] = uD, -vD\n",
    "u[3, 1] = uC, -vC\n",
    "\n",
    "u[0, 2] = -uC, vC\n",
    "u[1, 2] = -uD, vD\n",
    "u[2, 2] = uD, vD\n",
    "u[3, 2] = uC, vC\n",
    "\n",
    "u[0, 3] = -uA, vA\n",
    "u[1, 3] = -uB, vB\n",
    "u[2, 3] = uB, vB\n",
    "u[3, 3] = uA, vA"
   ]
  },
  {
   "cell_type": "code",
   "execution_count": null,
   "metadata": {},
   "outputs": [],
   "source": [
    "U3 = sympy.expand(strain_energy(u))\n",
    "V3 = sympy.expand(potential_external_forces(u))\n",
    "Π3 = U3 - V3\n",
    "Π3"
   ]
  },
  {
   "cell_type": "code",
   "execution_count": null,
   "metadata": {},
   "outputs": [],
   "source": [
    "eqs = [Π3.diff(dof) for dof in dofs]\n",
    "sol = sympy.solve(eqs, dofs)\n",
    "for key, value in sol.items():\n",
    "    display(sympy.Eq(key, value))"
   ]
  },
  {
   "cell_type": "code",
   "execution_count": null,
   "metadata": {},
   "outputs": [],
   "source": [
    "ΔL = V3.subs(F, one).subs(sol)\n",
    "K3 = sympy.factor(F / ΔL)\n",
    "K3_red = K3 / k\n",
    "K3_red"
   ]
  }
 ],
 "metadata": {
  "kernelspec": {
   "display_name": "Python 3",
   "language": "python",
   "name": "python3"
  },
  "language_info": {
   "codemirror_mode": {
    "name": "ipython",
    "version": 3
   },
   "file_extension": ".py",
   "mimetype": "text/x-python",
   "name": "python",
   "nbconvert_exporter": "python",
   "pygments_lexer": "ipython3",
   "version": "3.7.9"
  }
 },
 "nbformat": 4,
 "nbformat_minor": 4
}
